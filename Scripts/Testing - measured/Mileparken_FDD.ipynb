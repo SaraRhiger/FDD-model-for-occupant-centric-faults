{
 "cells": [
  {
   "cell_type": "code",
   "execution_count": 107,
   "metadata": {},
   "outputs": [],
   "source": [
    "import pandas as pd\n",
    "import plotly.graph_objects as go\n",
    "import plotly.express as px\n",
    "import matplotlib.pyplot as plt\n",
    "import seaborn as sns\n",
    "import numpy as np\n",
    "\n",
    "from sklearn.metrics import confusion_matrix\n",
    "from sklearn.model_selection import train_test_split\n",
    "from sklearn.ensemble import RandomForestClassifier\n",
    "from sklearn.multioutput import MultiOutputClassifier\n",
    "from sklearn.metrics import accuracy_score\n",
    "from sklearn.metrics import classification_report, accuracy_score\n",
    "\n",
    "from xgboost import XGBClassifier\n",
    "from sklearn.metrics import accuracy_score, classification_report\n",
    "from collections import Counter"
   ]
  },
  {
   "cell_type": "markdown",
   "metadata": {},
   "source": [
    "## 1) Fault 1\n",
    "### Training on zone 1 binary class open window and testing on Engen Mileparken "
   ]
  },
  {
   "cell_type": "code",
   "execution_count": 108,
   "metadata": {},
   "outputs": [],
   "source": [
    "df_simulated = pd.read_csv('/Users/sararhiger/Desktop/Master thesis /Data/Processed data/Fault1_Window_dataprocessed.csv')\n",
    "\n",
    "df_engen = pd.read_csv('/Users/sararhiger/Desktop/Master thesis /Data/Processed data/Mileparken.csv')\n"
   ]
  },
  {
   "cell_type": "code",
   "execution_count": 109,
   "metadata": {},
   "outputs": [],
   "source": [
    "# Define the start and end times for training data\n",
    "start_time_train = \"2023-01-01 00:00:00\"  \n",
    "end_time_train = \"2023-12-31 23:00:00\"  \n",
    "\n",
    "# Define the start and end times for testing data\n",
    "start_time_test = \"2025-03-15 00:00:00\"  \n",
    "end_time_test = \"2025-03-31 00:00:00\"\n",
    "\n",
    "# Filter DataFrame for timestamps within the range\n",
    "df_train = df_simulated[(df_simulated['Time'] >= start_time_train) & (df_simulated['Time'] <= end_time_train)]\n",
    "\n",
    "df_test = df_engen[(df_engen['Time'] >= start_time_test) & (df_engen['Time'] <= end_time_test)]\n",
    "\n",
    "\n"
   ]
  },
  {
   "cell_type": "code",
   "execution_count": 110,
   "metadata": {},
   "outputs": [],
   "source": [
    "train_x= df_train[['Global Horizontal Irradiance, W/m2','Outdoor air temp','Mean air temperature, degC, zone 1', 'Relative humidity, %, zone 1', 'CO2, ppm (vol), zone 1', 'Ideal heaters and other local u']]\n",
    "train_y = df_train['FDD, zone 1']\n",
    "\n",
    "test_x = df_test[['GHI, W/m2','Outdoor temperature','TEMP °C', 'HUMIDITY %', 'CO2 ppm', 'Heating kWh']]\n",
    "test_y = df_test['FDD']\n",
    "\n",
    "# Define zones and variables for plots \n",
    "test_temp = 'TEMP °C'\n",
    "test_heat = 'Heating kWh'"
   ]
  },
  {
   "cell_type": "markdown",
   "metadata": {},
   "source": [
    "### Random forest"
   ]
  },
  {
   "cell_type": "code",
   "execution_count": 111,
   "metadata": {},
   "outputs": [
    {
     "name": "stdout",
     "output_type": "stream",
     "text": [
      "Accuracy: 1.0\n",
      "Train Report:\n",
      "               precision    recall  f1-score   support\n",
      "\n",
      "           0       1.00      1.00      1.00      8712\n",
      "           1       1.00      1.00      1.00        48\n",
      "\n",
      "    accuracy                           1.00      8760\n",
      "   macro avg       1.00      1.00      1.00      8760\n",
      "weighted avg       1.00      1.00      1.00      8760\n",
      "\n",
      "\n",
      "Accuracy: 0.9558441558441558\n",
      "\n",
      "Classification Report:\n",
      "               precision    recall  f1-score   support\n",
      "\n",
      "           0       0.96      1.00      0.98       366\n",
      "           1       1.00      0.11      0.19        19\n",
      "\n",
      "    accuracy                           0.96       385\n",
      "   macro avg       0.98      0.55      0.58       385\n",
      "weighted avg       0.96      0.96      0.94       385\n",
      "\n",
      "[0.06336826 0.04717156 0.73245614 0.04750588 0.06564744 0.04385072]\n"
     ]
    }
   ],
   "source": [
    "# Initialize the Random Forest Classifier\n",
    "rf_model = RandomForestClassifier()\n",
    "\n",
    "# Train the model\n",
    "rf_model.fit(train_x, train_y)\n",
    "\n",
    "# Make predictions\n",
    "y_pred_train = rf_model.predict(train_x)\n",
    "y_pred = rf_model.predict(test_x)\n",
    "\n",
    "# Evaluate the model\n",
    "print(\"Accuracy:\", accuracy_score(train_y, y_pred_train))\n",
    "print(\"Train Report:\\n\", classification_report(train_y, y_pred_train))\n",
    "print()\n",
    "print(\"Accuracy:\", accuracy_score(test_y, y_pred))\n",
    "print(\"\\nClassification Report:\\n\", classification_report(test_y, y_pred))\n",
    "\n",
    "print(rf_model.feature_importances_)"
   ]
  },
  {
   "cell_type": "code",
   "execution_count": 112,
   "metadata": {},
   "outputs": [
    {
     "name": "stdout",
     "output_type": "stream",
     "text": [
      "\n",
      "Summary (Mean ± Std):\n",
      "          run  precision_class_0  recall_class_0  f1_class_0  \\\n",
      "mean  5.50000           0.955602        0.999727    0.977166   \n",
      "std   3.02765           0.000037        0.000864    0.000432   \n",
      "\n",
      "      precision_class_1  recall_class_1  f1_class_1  \n",
      "mean           0.966667        0.105263    0.189610  \n",
      "std            0.105409        0.000000    0.002738  \n",
      "\n",
      "All Per-Class Results:\n",
      "   run  precision_class_0  recall_class_0  f1_class_0  precision_class_1  \\\n",
      "0    1           0.955497        0.997268    0.975936           0.666667   \n",
      "1    2           0.955614        1.000000    0.977303           1.000000   \n",
      "2    3           0.955614        1.000000    0.977303           1.000000   \n",
      "3    4           0.955614        1.000000    0.977303           1.000000   \n",
      "4    5           0.955614        1.000000    0.977303           1.000000   \n",
      "5    6           0.955614        1.000000    0.977303           1.000000   \n",
      "6    7           0.955614        1.000000    0.977303           1.000000   \n",
      "7    8           0.955614        1.000000    0.977303           1.000000   \n",
      "8    9           0.955614        1.000000    0.977303           1.000000   \n",
      "9   10           0.955614        1.000000    0.977303           1.000000   \n",
      "\n",
      "   recall_class_1  f1_class_1  \n",
      "0        0.105263    0.181818  \n",
      "1        0.105263    0.190476  \n",
      "2        0.105263    0.190476  \n",
      "3        0.105263    0.190476  \n",
      "4        0.105263    0.190476  \n",
      "5        0.105263    0.190476  \n",
      "6        0.105263    0.190476  \n",
      "7        0.105263    0.190476  \n",
      "8        0.105263    0.190476  \n",
      "9        0.105263    0.190476  \n"
     ]
    }
   ],
   "source": [
    "# Store all runs\n",
    "results = []\n",
    "\n",
    "for i in range(10):\n",
    "    rf_model = RandomForestClassifier()\n",
    "    rf_model.fit(train_x, train_y)\n",
    "\n",
    "    y_pred = rf_model.predict(test_x)\n",
    "    report = classification_report(test_y, y_pred, output_dict=True)\n",
    "\n",
    "    # Store per-class metrics\n",
    "    run_result = {'run': i + 1}\n",
    "    for label in report:\n",
    "        if label not in ('accuracy', 'macro avg', 'weighted avg'):\n",
    "            run_result[f'precision_class_{label}'] = report[label]['precision']\n",
    "            run_result[f'recall_class_{label}'] = report[label]['recall']\n",
    "            run_result[f'f1_class_{label}'] = report[label]['f1-score']\n",
    "    \n",
    "    results.append(run_result)\n",
    "\n",
    "# Results as DataFrame\n",
    "results_df = pd.DataFrame(results)\n",
    "\n",
    "# Summary (mean and std)\n",
    "summary = results_df.describe().loc[['mean', 'std']]\n",
    "\n",
    "print(\"\\nSummary (Mean ± Std):\")\n",
    "print(summary)\n",
    "\n",
    "print(\"\\nAll Per-Class Results:\")\n",
    "print(results_df)"
   ]
  },
  {
   "cell_type": "code",
   "execution_count": 113,
   "metadata": {},
   "outputs": [
    {
     "data": {
      "application/vnd.plotly.v1+json": {
       "config": {
        "plotlyServerURL": "https://plot.ly"
       },
       "data": [
        {
         "colorscale": [
          [
           0,
           "rgb(247,251,255)"
          ],
          [
           0.125,
           "rgb(222,235,247)"
          ],
          [
           0.25,
           "rgb(198,219,239)"
          ],
          [
           0.375,
           "rgb(158,202,225)"
          ],
          [
           0.5,
           "rgb(107,174,214)"
          ],
          [
           0.625,
           "rgb(66,146,198)"
          ],
          [
           0.75,
           "rgb(33,113,181)"
          ],
          [
           0.875,
           "rgb(8,81,156)"
          ],
          [
           1,
           "rgb(8,48,107)"
          ]
         ],
         "hovertemplate": "Actual: %{y}<br>Predicted: %{x}<br>Count: %{z}<extra></extra>",
         "showscale": true,
         "text": [
          [
           366,
           0
          ],
          [
           17,
           2
          ]
         ],
         "texttemplate": "%{text}",
         "type": "heatmap",
         "x": [
          0,
          1
         ],
         "y": [
          0,
          1
         ],
         "z": [
          [
           366,
           0
          ],
          [
           17,
           2
          ]
         ]
        }
       ],
       "layout": {
        "height": 500,
        "template": {
         "data": {
          "bar": [
           {
            "error_x": {
             "color": "#2a3f5f"
            },
            "error_y": {
             "color": "#2a3f5f"
            },
            "marker": {
             "line": {
              "color": "white",
              "width": 0.5
             },
             "pattern": {
              "fillmode": "overlay",
              "size": 10,
              "solidity": 0.2
             }
            },
            "type": "bar"
           }
          ],
          "barpolar": [
           {
            "marker": {
             "line": {
              "color": "white",
              "width": 0.5
             },
             "pattern": {
              "fillmode": "overlay",
              "size": 10,
              "solidity": 0.2
             }
            },
            "type": "barpolar"
           }
          ],
          "carpet": [
           {
            "aaxis": {
             "endlinecolor": "#2a3f5f",
             "gridcolor": "#C8D4E3",
             "linecolor": "#C8D4E3",
             "minorgridcolor": "#C8D4E3",
             "startlinecolor": "#2a3f5f"
            },
            "baxis": {
             "endlinecolor": "#2a3f5f",
             "gridcolor": "#C8D4E3",
             "linecolor": "#C8D4E3",
             "minorgridcolor": "#C8D4E3",
             "startlinecolor": "#2a3f5f"
            },
            "type": "carpet"
           }
          ],
          "choropleth": [
           {
            "colorbar": {
             "outlinewidth": 0,
             "ticks": ""
            },
            "type": "choropleth"
           }
          ],
          "contour": [
           {
            "colorbar": {
             "outlinewidth": 0,
             "ticks": ""
            },
            "colorscale": [
             [
              0,
              "#0d0887"
             ],
             [
              0.1111111111111111,
              "#46039f"
             ],
             [
              0.2222222222222222,
              "#7201a8"
             ],
             [
              0.3333333333333333,
              "#9c179e"
             ],
             [
              0.4444444444444444,
              "#bd3786"
             ],
             [
              0.5555555555555556,
              "#d8576b"
             ],
             [
              0.6666666666666666,
              "#ed7953"
             ],
             [
              0.7777777777777778,
              "#fb9f3a"
             ],
             [
              0.8888888888888888,
              "#fdca26"
             ],
             [
              1,
              "#f0f921"
             ]
            ],
            "type": "contour"
           }
          ],
          "contourcarpet": [
           {
            "colorbar": {
             "outlinewidth": 0,
             "ticks": ""
            },
            "type": "contourcarpet"
           }
          ],
          "heatmap": [
           {
            "colorbar": {
             "outlinewidth": 0,
             "ticks": ""
            },
            "colorscale": [
             [
              0,
              "#0d0887"
             ],
             [
              0.1111111111111111,
              "#46039f"
             ],
             [
              0.2222222222222222,
              "#7201a8"
             ],
             [
              0.3333333333333333,
              "#9c179e"
             ],
             [
              0.4444444444444444,
              "#bd3786"
             ],
             [
              0.5555555555555556,
              "#d8576b"
             ],
             [
              0.6666666666666666,
              "#ed7953"
             ],
             [
              0.7777777777777778,
              "#fb9f3a"
             ],
             [
              0.8888888888888888,
              "#fdca26"
             ],
             [
              1,
              "#f0f921"
             ]
            ],
            "type": "heatmap"
           }
          ],
          "heatmapgl": [
           {
            "colorbar": {
             "outlinewidth": 0,
             "ticks": ""
            },
            "colorscale": [
             [
              0,
              "#0d0887"
             ],
             [
              0.1111111111111111,
              "#46039f"
             ],
             [
              0.2222222222222222,
              "#7201a8"
             ],
             [
              0.3333333333333333,
              "#9c179e"
             ],
             [
              0.4444444444444444,
              "#bd3786"
             ],
             [
              0.5555555555555556,
              "#d8576b"
             ],
             [
              0.6666666666666666,
              "#ed7953"
             ],
             [
              0.7777777777777778,
              "#fb9f3a"
             ],
             [
              0.8888888888888888,
              "#fdca26"
             ],
             [
              1,
              "#f0f921"
             ]
            ],
            "type": "heatmapgl"
           }
          ],
          "histogram": [
           {
            "marker": {
             "pattern": {
              "fillmode": "overlay",
              "size": 10,
              "solidity": 0.2
             }
            },
            "type": "histogram"
           }
          ],
          "histogram2d": [
           {
            "colorbar": {
             "outlinewidth": 0,
             "ticks": ""
            },
            "colorscale": [
             [
              0,
              "#0d0887"
             ],
             [
              0.1111111111111111,
              "#46039f"
             ],
             [
              0.2222222222222222,
              "#7201a8"
             ],
             [
              0.3333333333333333,
              "#9c179e"
             ],
             [
              0.4444444444444444,
              "#bd3786"
             ],
             [
              0.5555555555555556,
              "#d8576b"
             ],
             [
              0.6666666666666666,
              "#ed7953"
             ],
             [
              0.7777777777777778,
              "#fb9f3a"
             ],
             [
              0.8888888888888888,
              "#fdca26"
             ],
             [
              1,
              "#f0f921"
             ]
            ],
            "type": "histogram2d"
           }
          ],
          "histogram2dcontour": [
           {
            "colorbar": {
             "outlinewidth": 0,
             "ticks": ""
            },
            "colorscale": [
             [
              0,
              "#0d0887"
             ],
             [
              0.1111111111111111,
              "#46039f"
             ],
             [
              0.2222222222222222,
              "#7201a8"
             ],
             [
              0.3333333333333333,
              "#9c179e"
             ],
             [
              0.4444444444444444,
              "#bd3786"
             ],
             [
              0.5555555555555556,
              "#d8576b"
             ],
             [
              0.6666666666666666,
              "#ed7953"
             ],
             [
              0.7777777777777778,
              "#fb9f3a"
             ],
             [
              0.8888888888888888,
              "#fdca26"
             ],
             [
              1,
              "#f0f921"
             ]
            ],
            "type": "histogram2dcontour"
           }
          ],
          "mesh3d": [
           {
            "colorbar": {
             "outlinewidth": 0,
             "ticks": ""
            },
            "type": "mesh3d"
           }
          ],
          "parcoords": [
           {
            "line": {
             "colorbar": {
              "outlinewidth": 0,
              "ticks": ""
             }
            },
            "type": "parcoords"
           }
          ],
          "pie": [
           {
            "automargin": true,
            "type": "pie"
           }
          ],
          "scatter": [
           {
            "fillpattern": {
             "fillmode": "overlay",
             "size": 10,
             "solidity": 0.2
            },
            "type": "scatter"
           }
          ],
          "scatter3d": [
           {
            "line": {
             "colorbar": {
              "outlinewidth": 0,
              "ticks": ""
             }
            },
            "marker": {
             "colorbar": {
              "outlinewidth": 0,
              "ticks": ""
             }
            },
            "type": "scatter3d"
           }
          ],
          "scattercarpet": [
           {
            "marker": {
             "colorbar": {
              "outlinewidth": 0,
              "ticks": ""
             }
            },
            "type": "scattercarpet"
           }
          ],
          "scattergeo": [
           {
            "marker": {
             "colorbar": {
              "outlinewidth": 0,
              "ticks": ""
             }
            },
            "type": "scattergeo"
           }
          ],
          "scattergl": [
           {
            "marker": {
             "colorbar": {
              "outlinewidth": 0,
              "ticks": ""
             }
            },
            "type": "scattergl"
           }
          ],
          "scattermapbox": [
           {
            "marker": {
             "colorbar": {
              "outlinewidth": 0,
              "ticks": ""
             }
            },
            "type": "scattermapbox"
           }
          ],
          "scatterpolar": [
           {
            "marker": {
             "colorbar": {
              "outlinewidth": 0,
              "ticks": ""
             }
            },
            "type": "scatterpolar"
           }
          ],
          "scatterpolargl": [
           {
            "marker": {
             "colorbar": {
              "outlinewidth": 0,
              "ticks": ""
             }
            },
            "type": "scatterpolargl"
           }
          ],
          "scatterternary": [
           {
            "marker": {
             "colorbar": {
              "outlinewidth": 0,
              "ticks": ""
             }
            },
            "type": "scatterternary"
           }
          ],
          "surface": [
           {
            "colorbar": {
             "outlinewidth": 0,
             "ticks": ""
            },
            "colorscale": [
             [
              0,
              "#0d0887"
             ],
             [
              0.1111111111111111,
              "#46039f"
             ],
             [
              0.2222222222222222,
              "#7201a8"
             ],
             [
              0.3333333333333333,
              "#9c179e"
             ],
             [
              0.4444444444444444,
              "#bd3786"
             ],
             [
              0.5555555555555556,
              "#d8576b"
             ],
             [
              0.6666666666666666,
              "#ed7953"
             ],
             [
              0.7777777777777778,
              "#fb9f3a"
             ],
             [
              0.8888888888888888,
              "#fdca26"
             ],
             [
              1,
              "#f0f921"
             ]
            ],
            "type": "surface"
           }
          ],
          "table": [
           {
            "cells": {
             "fill": {
              "color": "#EBF0F8"
             },
             "line": {
              "color": "white"
             }
            },
            "header": {
             "fill": {
              "color": "#C8D4E3"
             },
             "line": {
              "color": "white"
             }
            },
            "type": "table"
           }
          ]
         },
         "layout": {
          "annotationdefaults": {
           "arrowcolor": "#2a3f5f",
           "arrowhead": 0,
           "arrowwidth": 1
          },
          "autotypenumbers": "strict",
          "coloraxis": {
           "colorbar": {
            "outlinewidth": 0,
            "ticks": ""
           }
          },
          "colorscale": {
           "diverging": [
            [
             0,
             "#8e0152"
            ],
            [
             0.1,
             "#c51b7d"
            ],
            [
             0.2,
             "#de77ae"
            ],
            [
             0.3,
             "#f1b6da"
            ],
            [
             0.4,
             "#fde0ef"
            ],
            [
             0.5,
             "#f7f7f7"
            ],
            [
             0.6,
             "#e6f5d0"
            ],
            [
             0.7,
             "#b8e186"
            ],
            [
             0.8,
             "#7fbc41"
            ],
            [
             0.9,
             "#4d9221"
            ],
            [
             1,
             "#276419"
            ]
           ],
           "sequential": [
            [
             0,
             "#0d0887"
            ],
            [
             0.1111111111111111,
             "#46039f"
            ],
            [
             0.2222222222222222,
             "#7201a8"
            ],
            [
             0.3333333333333333,
             "#9c179e"
            ],
            [
             0.4444444444444444,
             "#bd3786"
            ],
            [
             0.5555555555555556,
             "#d8576b"
            ],
            [
             0.6666666666666666,
             "#ed7953"
            ],
            [
             0.7777777777777778,
             "#fb9f3a"
            ],
            [
             0.8888888888888888,
             "#fdca26"
            ],
            [
             1,
             "#f0f921"
            ]
           ],
           "sequentialminus": [
            [
             0,
             "#0d0887"
            ],
            [
             0.1111111111111111,
             "#46039f"
            ],
            [
             0.2222222222222222,
             "#7201a8"
            ],
            [
             0.3333333333333333,
             "#9c179e"
            ],
            [
             0.4444444444444444,
             "#bd3786"
            ],
            [
             0.5555555555555556,
             "#d8576b"
            ],
            [
             0.6666666666666666,
             "#ed7953"
            ],
            [
             0.7777777777777778,
             "#fb9f3a"
            ],
            [
             0.8888888888888888,
             "#fdca26"
            ],
            [
             1,
             "#f0f921"
            ]
           ]
          },
          "colorway": [
           "#636efa",
           "#EF553B",
           "#00cc96",
           "#ab63fa",
           "#FFA15A",
           "#19d3f3",
           "#FF6692",
           "#B6E880",
           "#FF97FF",
           "#FECB52"
          ],
          "font": {
           "color": "#2a3f5f"
          },
          "geo": {
           "bgcolor": "white",
           "lakecolor": "white",
           "landcolor": "white",
           "showlakes": true,
           "showland": true,
           "subunitcolor": "#C8D4E3"
          },
          "hoverlabel": {
           "align": "left"
          },
          "hovermode": "closest",
          "mapbox": {
           "style": "light"
          },
          "paper_bgcolor": "white",
          "plot_bgcolor": "white",
          "polar": {
           "angularaxis": {
            "gridcolor": "#EBF0F8",
            "linecolor": "#EBF0F8",
            "ticks": ""
           },
           "bgcolor": "white",
           "radialaxis": {
            "gridcolor": "#EBF0F8",
            "linecolor": "#EBF0F8",
            "ticks": ""
           }
          },
          "scene": {
           "xaxis": {
            "backgroundcolor": "white",
            "gridcolor": "#DFE8F3",
            "gridwidth": 2,
            "linecolor": "#EBF0F8",
            "showbackground": true,
            "ticks": "",
            "zerolinecolor": "#EBF0F8"
           },
           "yaxis": {
            "backgroundcolor": "white",
            "gridcolor": "#DFE8F3",
            "gridwidth": 2,
            "linecolor": "#EBF0F8",
            "showbackground": true,
            "ticks": "",
            "zerolinecolor": "#EBF0F8"
           },
           "zaxis": {
            "backgroundcolor": "white",
            "gridcolor": "#DFE8F3",
            "gridwidth": 2,
            "linecolor": "#EBF0F8",
            "showbackground": true,
            "ticks": "",
            "zerolinecolor": "#EBF0F8"
           }
          },
          "shapedefaults": {
           "line": {
            "color": "#2a3f5f"
           }
          },
          "ternary": {
           "aaxis": {
            "gridcolor": "#DFE8F3",
            "linecolor": "#A2B1C6",
            "ticks": ""
           },
           "baxis": {
            "gridcolor": "#DFE8F3",
            "linecolor": "#A2B1C6",
            "ticks": ""
           },
           "bgcolor": "white",
           "caxis": {
            "gridcolor": "#DFE8F3",
            "linecolor": "#A2B1C6",
            "ticks": ""
           }
          },
          "title": {
           "x": 0.05
          },
          "xaxis": {
           "automargin": true,
           "gridcolor": "#EBF0F8",
           "linecolor": "#EBF0F8",
           "ticks": "",
           "title": {
            "standoff": 15
           },
           "zerolinecolor": "#EBF0F8",
           "zerolinewidth": 2
          },
          "yaxis": {
           "automargin": true,
           "gridcolor": "#EBF0F8",
           "linecolor": "#EBF0F8",
           "ticks": "",
           "title": {
            "standoff": 15
           },
           "zerolinecolor": "#EBF0F8",
           "zerolinewidth": 2
          }
         }
        },
        "title": {
         "text": "Confusion Matrix for meeting room opened window"
        },
        "width": 500,
        "xaxis": {
         "showgrid": false,
         "tickmode": "array",
         "tickvals": [
          0,
          1
         ],
         "title": {
          "text": "Predicted Label"
         }
        },
        "yaxis": {
         "showgrid": false,
         "tickmode": "array",
         "tickvals": [
          0,
          1
         ],
         "title": {
          "text": "Actual Label"
         }
        }
       }
      }
     },
     "metadata": {},
     "output_type": "display_data"
    }
   ],
   "source": [
    "# Compute confusion matrix\n",
    "cm = confusion_matrix(test_y, y_pred)\n",
    "\n",
    "# Ensure labels are 0 and 1\n",
    "labels = [0, 1]  \n",
    "\n",
    "# Create the confusion matrix heatmap\n",
    "fig = go.Figure(data=go.Heatmap(\n",
    "    z=cm,\n",
    "    x=labels,  # Predicted labels\n",
    "    y=labels,  # Actual labels\n",
    "    colorscale='Blues',\n",
    "    showscale=True,\n",
    "    text=cm,  # Display numbers in the cells\n",
    "    texttemplate=\"%{text}\",  # Ensure counts appear inside the cells\n",
    "    hovertemplate='Actual: %{y}<br>Predicted: %{x}<br>Count: %{z}<extra></extra>'\n",
    "))\n",
    "\n",
    "# Update layout for binary classification (0 and 1 on axes)\n",
    "fig.update_layout(\n",
    "    title=\"Confusion Matrix for meeting room opened window\",\n",
    "    width=500,   # Reduce width\n",
    "    height=500,\n",
    "    xaxis=dict(\n",
    "        title=\"Predicted Label\",\n",
    "        tickmode='array',        # Custom tick labels\n",
    "        tickvals=[0, 1],         # Only show 0 and 1\n",
    "        showgrid=False\n",
    "    ),\n",
    "    yaxis=dict(\n",
    "        title=\"Actual Label\",\n",
    "        tickmode='array',\n",
    "        tickvals=[0, 1],         # Only show 0 and 1\n",
    "        showgrid=False\n",
    "    ),\n",
    "    template=\"plotly_white\"\n",
    ")\n",
    "\n",
    "# Show the plot\n",
    "fig.show()"
   ]
  },
  {
   "cell_type": "code",
   "execution_count": 114,
   "metadata": {},
   "outputs": [
    {
     "data": {
      "application/vnd.plotly.v1+json": {
       "config": {
        "plotlyServerURL": "https://plot.ly"
       },
       "data": [
        {
         "mode": "lines",
         "name": "Meeting room faulty operation",
         "type": "scatter",
         "x": [
          "2025-03-11 00:00:00",
          "2025-03-11 01:00:00",
          "2025-03-11 02:00:00",
          "2025-03-11 03:00:00",
          "2025-03-11 04:00:00",
          "2025-03-11 05:00:00",
          "2025-03-11 06:00:00",
          "2025-03-11 07:00:00",
          "2025-03-11 08:00:00",
          "2025-03-11 09:00:00",
          "2025-03-11 10:00:00",
          "2025-03-11 11:00:00",
          "2025-03-11 12:00:00",
          "2025-03-11 13:00:00",
          "2025-03-11 14:00:00",
          "2025-03-11 15:00:00",
          "2025-03-11 16:00:00",
          "2025-03-11 17:00:00",
          "2025-03-11 18:00:00",
          "2025-03-11 19:00:00",
          "2025-03-11 20:00:00",
          "2025-03-11 21:00:00",
          "2025-03-11 22:00:00",
          "2025-03-11 23:00:00",
          "2025-03-12 00:00:00",
          "2025-03-12 01:00:00",
          "2025-03-12 02:00:00",
          "2025-03-12 03:00:00",
          "2025-03-12 04:00:00",
          "2025-03-12 05:00:00",
          "2025-03-12 06:00:00",
          "2025-03-12 07:00:00",
          "2025-03-12 08:00:00",
          "2025-03-12 09:00:00",
          "2025-03-12 10:00:00",
          "2025-03-12 11:00:00",
          "2025-03-12 12:00:00",
          "2025-03-12 13:00:00",
          "2025-03-12 14:00:00",
          "2025-03-12 15:00:00",
          "2025-03-12 16:00:00",
          "2025-03-12 17:00:00",
          "2025-03-12 18:00:00",
          "2025-03-12 19:00:00",
          "2025-03-12 20:00:00",
          "2025-03-12 21:00:00",
          "2025-03-12 22:00:00",
          "2025-03-12 23:00:00",
          "2025-03-13 00:00:00",
          "2025-03-13 01:00:00",
          "2025-03-13 02:00:00",
          "2025-03-13 03:00:00",
          "2025-03-13 04:00:00",
          "2025-03-13 05:00:00",
          "2025-03-13 06:00:00",
          "2025-03-13 07:00:00",
          "2025-03-13 08:00:00",
          "2025-03-13 09:00:00",
          "2025-03-13 10:00:00",
          "2025-03-13 11:00:00",
          "2025-03-13 12:00:00",
          "2025-03-13 13:00:00",
          "2025-03-13 14:00:00",
          "2025-03-13 15:00:00",
          "2025-03-13 16:00:00",
          "2025-03-13 17:00:00",
          "2025-03-13 18:00:00",
          "2025-03-13 19:00:00",
          "2025-03-13 20:00:00",
          "2025-03-13 21:00:00",
          "2025-03-13 22:00:00",
          "2025-03-13 23:00:00",
          "2025-03-14 00:00:00",
          "2025-03-14 01:00:00",
          "2025-03-14 02:00:00",
          "2025-03-14 03:00:00",
          "2025-03-14 04:00:00",
          "2025-03-14 05:00:00",
          "2025-03-14 06:00:00",
          "2025-03-14 07:00:00",
          "2025-03-14 08:00:00",
          "2025-03-14 09:00:00",
          "2025-03-14 10:00:00",
          "2025-03-14 11:00:00",
          "2025-03-14 12:00:00",
          "2025-03-14 13:00:00",
          "2025-03-14 14:00:00",
          "2025-03-14 15:00:00",
          "2025-03-14 16:00:00",
          "2025-03-14 17:00:00",
          "2025-03-14 18:00:00",
          "2025-03-14 19:00:00",
          "2025-03-14 20:00:00",
          "2025-03-14 21:00:00",
          "2025-03-14 22:00:00",
          "2025-03-14 23:00:00",
          "2025-03-15 00:00:00",
          "2025-03-15 01:00:00",
          "2025-03-15 02:00:00",
          "2025-03-15 03:00:00",
          "2025-03-15 04:00:00",
          "2025-03-15 05:00:00",
          "2025-03-15 06:00:00",
          "2025-03-15 07:00:00",
          "2025-03-15 08:00:00",
          "2025-03-15 09:00:00",
          "2025-03-15 10:00:00",
          "2025-03-15 11:00:00",
          "2025-03-15 12:00:00",
          "2025-03-15 13:00:00",
          "2025-03-15 14:00:00",
          "2025-03-15 15:00:00",
          "2025-03-15 16:00:00",
          "2025-03-15 17:00:00",
          "2025-03-15 18:00:00",
          "2025-03-15 19:00:00",
          "2025-03-15 20:00:00",
          "2025-03-15 21:00:00",
          "2025-03-15 22:00:00",
          "2025-03-15 23:00:00",
          "2025-03-16 00:00:00",
          "2025-03-16 01:00:00",
          "2025-03-16 02:00:00",
          "2025-03-16 03:00:00",
          "2025-03-16 04:00:00",
          "2025-03-16 05:00:00",
          "2025-03-16 06:00:00",
          "2025-03-16 07:00:00",
          "2025-03-16 08:00:00",
          "2025-03-16 09:00:00",
          "2025-03-16 10:00:00",
          "2025-03-16 11:00:00",
          "2025-03-16 12:00:00",
          "2025-03-16 13:00:00",
          "2025-03-16 14:00:00",
          "2025-03-16 15:00:00",
          "2025-03-16 16:00:00",
          "2025-03-16 17:00:00",
          "2025-03-16 18:00:00",
          "2025-03-16 19:00:00",
          "2025-03-16 20:00:00",
          "2025-03-16 21:00:00",
          "2025-03-16 22:00:00",
          "2025-03-16 23:00:00",
          "2025-03-17 00:00:00",
          "2025-03-17 01:00:00",
          "2025-03-17 02:00:00",
          "2025-03-17 03:00:00",
          "2025-03-17 04:00:00",
          "2025-03-17 05:00:00",
          "2025-03-17 06:00:00",
          "2025-03-17 07:00:00",
          "2025-03-17 08:00:00",
          "2025-03-17 09:00:00",
          "2025-03-17 10:00:00",
          "2025-03-17 11:00:00",
          "2025-03-17 12:00:00",
          "2025-03-17 13:00:00",
          "2025-03-17 14:00:00",
          "2025-03-17 15:00:00",
          "2025-03-17 16:00:00",
          "2025-03-17 17:00:00",
          "2025-03-17 18:00:00",
          "2025-03-17 19:00:00",
          "2025-03-17 20:00:00",
          "2025-03-17 21:00:00",
          "2025-03-17 22:00:00",
          "2025-03-17 23:00:00",
          "2025-03-18 00:00:00",
          "2025-03-18 01:00:00",
          "2025-03-18 02:00:00",
          "2025-03-18 03:00:00",
          "2025-03-18 04:00:00",
          "2025-03-18 05:00:00",
          "2025-03-18 06:00:00",
          "2025-03-18 07:00:00",
          "2025-03-18 08:00:00",
          "2025-03-18 09:00:00",
          "2025-03-18 10:00:00",
          "2025-03-18 11:00:00",
          "2025-03-18 12:00:00",
          "2025-03-18 13:00:00",
          "2025-03-18 14:00:00",
          "2025-03-18 15:00:00",
          "2025-03-18 16:00:00",
          "2025-03-18 17:00:00",
          "2025-03-18 18:00:00",
          "2025-03-18 19:00:00",
          "2025-03-18 20:00:00",
          "2025-03-18 21:00:00",
          "2025-03-18 22:00:00",
          "2025-03-18 23:00:00",
          "2025-03-19 00:00:00",
          "2025-03-19 01:00:00",
          "2025-03-19 02:00:00",
          "2025-03-19 03:00:00",
          "2025-03-19 04:00:00",
          "2025-03-19 05:00:00",
          "2025-03-19 06:00:00",
          "2025-03-19 07:00:00",
          "2025-03-19 08:00:00",
          "2025-03-19 09:00:00",
          "2025-03-19 10:00:00",
          "2025-03-19 11:00:00",
          "2025-03-19 12:00:00",
          "2025-03-19 13:00:00",
          "2025-03-19 14:00:00",
          "2025-03-19 15:00:00",
          "2025-03-19 16:00:00",
          "2025-03-19 17:00:00",
          "2025-03-19 18:00:00",
          "2025-03-19 19:00:00",
          "2025-03-19 20:00:00",
          "2025-03-19 21:00:00",
          "2025-03-19 22:00:00",
          "2025-03-19 23:00:00",
          "2025-03-20 00:00:00",
          "2025-03-20 01:00:00",
          "2025-03-20 02:00:00",
          "2025-03-20 03:00:00",
          "2025-03-20 04:00:00",
          "2025-03-20 05:00:00",
          "2025-03-20 06:00:00",
          "2025-03-20 07:00:00",
          "2025-03-20 08:00:00",
          "2025-03-20 09:00:00",
          "2025-03-20 10:00:00",
          "2025-03-20 11:00:00",
          "2025-03-20 12:00:00",
          "2025-03-20 13:00:00",
          "2025-03-20 14:00:00",
          "2025-03-20 15:00:00",
          "2025-03-20 16:00:00",
          "2025-03-20 17:00:00",
          "2025-03-20 18:00:00",
          "2025-03-20 19:00:00",
          "2025-03-20 20:00:00",
          "2025-03-20 21:00:00",
          "2025-03-20 22:00:00",
          "2025-03-20 23:00:00",
          "2025-03-21 00:00:00",
          "2025-03-21 01:00:00",
          "2025-03-21 02:00:00",
          "2025-03-21 03:00:00",
          "2025-03-21 04:00:00",
          "2025-03-21 05:00:00",
          "2025-03-21 06:00:00",
          "2025-03-21 07:00:00",
          "2025-03-21 08:00:00",
          "2025-03-21 09:00:00",
          "2025-03-21 10:00:00",
          "2025-03-21 11:00:00",
          "2025-03-21 12:00:00",
          "2025-03-21 13:00:00",
          "2025-03-21 14:00:00",
          "2025-03-21 15:00:00",
          "2025-03-21 16:00:00",
          "2025-03-21 17:00:00",
          "2025-03-21 18:00:00",
          "2025-03-21 19:00:00",
          "2025-03-21 20:00:00",
          "2025-03-21 21:00:00",
          "2025-03-21 22:00:00",
          "2025-03-21 23:00:00",
          "2025-03-22 00:00:00",
          "2025-03-22 01:00:00",
          "2025-03-22 02:00:00",
          "2025-03-22 03:00:00",
          "2025-03-22 04:00:00",
          "2025-03-22 05:00:00",
          "2025-03-22 06:00:00",
          "2025-03-22 07:00:00",
          "2025-03-22 08:00:00",
          "2025-03-22 09:00:00",
          "2025-03-22 10:00:00",
          "2025-03-22 11:00:00",
          "2025-03-22 12:00:00",
          "2025-03-22 13:00:00",
          "2025-03-22 14:00:00",
          "2025-03-22 15:00:00",
          "2025-03-22 16:00:00",
          "2025-03-22 17:00:00",
          "2025-03-22 18:00:00",
          "2025-03-22 19:00:00",
          "2025-03-22 20:00:00",
          "2025-03-22 21:00:00",
          "2025-03-22 22:00:00",
          "2025-03-22 23:00:00",
          "2025-03-23 00:00:00",
          "2025-03-23 01:00:00",
          "2025-03-23 02:00:00",
          "2025-03-23 03:00:00",
          "2025-03-23 04:00:00",
          "2025-03-23 05:00:00",
          "2025-03-23 06:00:00",
          "2025-03-23 07:00:00",
          "2025-03-23 08:00:00",
          "2025-03-23 09:00:00",
          "2025-03-23 10:00:00",
          "2025-03-23 11:00:00",
          "2025-03-23 12:00:00",
          "2025-03-23 13:00:00",
          "2025-03-23 14:00:00",
          "2025-03-23 15:00:00",
          "2025-03-23 16:00:00",
          "2025-03-23 17:00:00",
          "2025-03-23 18:00:00",
          "2025-03-23 19:00:00",
          "2025-03-23 20:00:00",
          "2025-03-23 21:00:00",
          "2025-03-23 22:00:00",
          "2025-03-23 23:00:00",
          "2025-03-24 00:00:00",
          "2025-03-24 01:00:00",
          "2025-03-24 02:00:00",
          "2025-03-24 03:00:00",
          "2025-03-24 04:00:00",
          "2025-03-24 05:00:00",
          "2025-03-24 06:00:00",
          "2025-03-24 07:00:00",
          "2025-03-24 08:00:00",
          "2025-03-24 09:00:00",
          "2025-03-24 10:00:00",
          "2025-03-24 11:00:00",
          "2025-03-24 12:00:00",
          "2025-03-24 13:00:00",
          "2025-03-24 14:00:00",
          "2025-03-24 15:00:00",
          "2025-03-24 16:00:00",
          "2025-03-24 17:00:00",
          "2025-03-24 18:00:00",
          "2025-03-24 19:00:00",
          "2025-03-24 20:00:00",
          "2025-03-24 21:00:00",
          "2025-03-24 22:00:00",
          "2025-03-24 23:00:00",
          "2025-03-25 00:00:00",
          "2025-03-25 01:00:00",
          "2025-03-25 02:00:00",
          "2025-03-25 03:00:00",
          "2025-03-25 04:00:00",
          "2025-03-25 05:00:00",
          "2025-03-25 06:00:00",
          "2025-03-25 07:00:00",
          "2025-03-25 08:00:00",
          "2025-03-25 09:00:00",
          "2025-03-25 10:00:00",
          "2025-03-25 11:00:00",
          "2025-03-25 12:00:00",
          "2025-03-25 13:00:00",
          "2025-03-25 14:00:00",
          "2025-03-25 15:00:00",
          "2025-03-25 16:00:00",
          "2025-03-25 17:00:00",
          "2025-03-25 18:00:00",
          "2025-03-25 19:00:00",
          "2025-03-25 20:00:00",
          "2025-03-25 21:00:00",
          "2025-03-25 22:00:00",
          "2025-03-25 23:00:00",
          "2025-03-26 00:00:00",
          "2025-03-26 01:00:00",
          "2025-03-26 02:00:00",
          "2025-03-26 03:00:00",
          "2025-03-26 04:00:00",
          "2025-03-26 05:00:00",
          "2025-03-26 06:00:00",
          "2025-03-26 07:00:00",
          "2025-03-26 08:00:00",
          "2025-03-26 09:00:00",
          "2025-03-26 10:00:00",
          "2025-03-26 11:00:00",
          "2025-03-26 12:00:00",
          "2025-03-26 13:00:00",
          "2025-03-26 14:00:00",
          "2025-03-26 15:00:00",
          "2025-03-26 16:00:00",
          "2025-03-26 17:00:00",
          "2025-03-26 18:00:00",
          "2025-03-26 19:00:00",
          "2025-03-26 20:00:00",
          "2025-03-26 21:00:00",
          "2025-03-26 22:00:00",
          "2025-03-26 23:00:00",
          "2025-03-27 00:00:00",
          "2025-03-27 01:00:00",
          "2025-03-27 02:00:00",
          "2025-03-27 03:00:00",
          "2025-03-27 04:00:00",
          "2025-03-27 05:00:00",
          "2025-03-27 06:00:00",
          "2025-03-27 07:00:00",
          "2025-03-27 08:00:00",
          "2025-03-27 09:00:00",
          "2025-03-27 10:00:00",
          "2025-03-27 11:00:00",
          "2025-03-27 12:00:00",
          "2025-03-27 13:00:00",
          "2025-03-27 14:00:00",
          "2025-03-27 15:00:00",
          "2025-03-27 16:00:00",
          "2025-03-27 17:00:00",
          "2025-03-27 18:00:00",
          "2025-03-27 19:00:00",
          "2025-03-27 20:00:00",
          "2025-03-27 21:00:00",
          "2025-03-27 22:00:00",
          "2025-03-27 23:00:00",
          "2025-03-28 00:00:00",
          "2025-03-28 01:00:00",
          "2025-03-28 02:00:00",
          "2025-03-28 03:00:00",
          "2025-03-28 04:00:00",
          "2025-03-28 05:00:00",
          "2025-03-28 06:00:00",
          "2025-03-28 07:00:00",
          "2025-03-28 08:00:00",
          "2025-03-28 09:00:00",
          "2025-03-28 10:00:00",
          "2025-03-28 11:00:00",
          "2025-03-28 12:00:00",
          "2025-03-28 13:00:00",
          "2025-03-28 14:00:00",
          "2025-03-28 15:00:00",
          "2025-03-28 16:00:00",
          "2025-03-28 17:00:00",
          "2025-03-28 18:00:00",
          "2025-03-28 19:00:00",
          "2025-03-28 20:00:00",
          "2025-03-28 21:00:00",
          "2025-03-28 22:00:00",
          "2025-03-28 23:00:00",
          "2025-03-29 00:00:00",
          "2025-03-29 01:00:00",
          "2025-03-29 02:00:00",
          "2025-03-29 03:00:00",
          "2025-03-29 04:00:00",
          "2025-03-29 05:00:00",
          "2025-03-29 06:00:00",
          "2025-03-29 07:00:00",
          "2025-03-29 08:00:00",
          "2025-03-29 09:00:00",
          "2025-03-29 10:00:00",
          "2025-03-29 11:00:00",
          "2025-03-29 12:00:00",
          "2025-03-29 13:00:00",
          "2025-03-29 14:00:00",
          "2025-03-29 15:00:00",
          "2025-03-29 16:00:00",
          "2025-03-29 17:00:00",
          "2025-03-29 18:00:00",
          "2025-03-29 19:00:00",
          "2025-03-29 20:00:00",
          "2025-03-29 21:00:00",
          "2025-03-29 22:00:00",
          "2025-03-29 23:00:00",
          "2025-03-30 00:00:00",
          "2025-03-30 01:00:00",
          "2025-03-30 02:00:00",
          "2025-03-30 03:00:00",
          "2025-03-30 04:00:00",
          "2025-03-30 05:00:00",
          "2025-03-30 06:00:00",
          "2025-03-30 07:00:00",
          "2025-03-30 08:00:00",
          "2025-03-30 09:00:00",
          "2025-03-30 10:00:00",
          "2025-03-30 11:00:00",
          "2025-03-30 12:00:00",
          "2025-03-30 13:00:00",
          "2025-03-30 14:00:00",
          "2025-03-30 15:00:00",
          "2025-03-30 16:00:00",
          "2025-03-30 17:00:00",
          "2025-03-30 18:00:00",
          "2025-03-30 19:00:00",
          "2025-03-30 20:00:00",
          "2025-03-30 21:00:00",
          "2025-03-30 22:00:00",
          "2025-03-30 23:00:00",
          "2025-03-31 00:00:00",
          "2025-03-31 01:00:00",
          "2025-03-31 02:00:00",
          "2025-03-31 03:00:00",
          "2025-03-31 04:00:00",
          "2025-03-31 05:00:00",
          "2025-03-31 06:00:00",
          "2025-03-31 07:00:00",
          "2025-03-31 08:00:00",
          "2025-03-31 09:00:00",
          "2025-03-31 10:00:00",
          "2025-03-31 11:00:00",
          "2025-03-31 12:00:00",
          "2025-03-31 13:00:00",
          "2025-03-31 14:00:00",
          "2025-03-31 15:00:00",
          "2025-03-31 16:00:00",
          "2025-03-31 17:00:00",
          "2025-03-31 18:00:00",
          "2025-03-31 19:00:00",
          "2025-03-31 20:00:00",
          "2025-03-31 21:00:00",
          "2025-03-31 22:00:00",
          "2025-03-31 23:00:00",
          "2025-04-01 00:00:00",
          "2025-04-01 01:00:00",
          "2025-04-01 02:00:00",
          "2025-04-01 03:00:00",
          "2025-04-01 04:00:00",
          "2025-04-01 05:00:00",
          "2025-04-01 06:00:00",
          "2025-04-01 07:00:00",
          "2025-04-01 08:00:00",
          "2025-04-01 09:00:00",
          "2025-04-01 10:00:00",
          "2025-04-01 11:00:00",
          "2025-04-01 12:00:00",
          "2025-04-01 13:00:00",
          "2025-04-01 14:00:00",
          "2025-04-01 15:00:00",
          "2025-04-01 16:00:00",
          "2025-04-01 17:00:00",
          "2025-04-01 18:00:00",
          "2025-04-01 19:00:00",
          "2025-04-01 20:00:00",
          "2025-04-01 21:00:00",
          "2025-04-01 22:00:00",
          "2025-04-01 23:00:00",
          "2025-04-02 00:00:00",
          "2025-04-02 01:00:00",
          "2025-04-02 02:00:00",
          "2025-04-02 03:00:00",
          "2025-04-02 04:00:00",
          "2025-04-02 05:00:00",
          "2025-04-02 06:00:00",
          "2025-04-02 07:00:00",
          "2025-04-02 08:00:00",
          "2025-04-02 09:00:00",
          "2025-04-02 10:00:00",
          "2025-04-02 11:00:00",
          "2025-04-02 12:00:00",
          "2025-04-02 13:00:00",
          "2025-04-02 14:00:00",
          "2025-04-02 15:00:00",
          "2025-04-02 16:00:00",
          "2025-04-02 17:00:00",
          "2025-04-02 18:00:00",
          "2025-04-02 19:00:00",
          "2025-04-02 20:00:00",
          "2025-04-02 21:00:00",
          "2025-04-02 22:00:00",
          "2025-04-02 23:00:00",
          "2025-04-03 00:00:00",
          "2025-04-03 01:00:00",
          "2025-04-03 02:00:00",
          "2025-04-03 03:00:00",
          "2025-04-03 04:00:00",
          "2025-04-03 05:00:00",
          "2025-04-03 06:00:00",
          "2025-04-03 07:00:00"
         ],
         "y": [
          21.281538461538464,
          21.242857142857144,
          21.18230769230769,
          21.156428571428574,
          21.158461538461534,
          21.164285714285715,
          21.160000000000004,
          21.176428571428573,
          21.234615384615385,
          21.43642857142857,
          21.61846153846153,
          21.711428571428577,
          23.484615384615388,
          23.619285714285716,
          23.313076923076924,
          23.195,
          23.198461538461537,
          23.170000000000005,
          23.157692307692308,
          23.154285714285717,
          23.239230769230772,
          23.28357142857143,
          23.201538461538462,
          23.15571428571429,
          23.138461538461538,
          23.12642857142857,
          23.114615384615387,
          23.210714285714282,
          23.52461538461539,
          23.270000000000003,
          23.383846153846157,
          23.458571428571425,
          23.49615384615385,
          23.744285714285716,
          23.454615384615387,
          23.853571428571428,
          25.16692307692308,
          26.010714285714283,
          26.083846153846153,
          24.807857142857145,
          23.93307692307692,
          23.041428571428572,
          22.496923076923075,
          22.12357142857143,
          21.91692307692308,
          21.775714285714283,
          21.661538461538452,
          21.637857142857147,
          21.66615384615385,
          21.634285714285713,
          21.61000000000001,
          21.575714285714284,
          21.505384615384614,
          21.437142857142856,
          21.415384615384614,
          21.49571428571429,
          21.696153846153845,
          22.041428571428565,
          22.116153846153846,
          21.975,
          22.126923076923074,
          22.197142857142854,
          21.91692307692308,
          21.66142857142857,
          21.481538461538463,
          21.565714285714282,
          21.56,
          21.534285714285716,
          21.466923076923077,
          21.41,
          21.356153846153845,
          21.31714285714286,
          21.287692307692307,
          21.280714285714282,
          21.24615384615384,
          21.22785714285715,
          21.215384615384615,
          21.197142857142858,
          21.235384615384614,
          21.335,
          21.207692307692305,
          21.60214285714286,
          21.568461538461538,
          21.751428571428576,
          21.643076923076926,
          21.631428571428565,
          21.61076923076924,
          21.573571428571423,
          21.520769230769233,
          21.33142857142857,
          21.185384615384613,
          21.24571428571429,
          21.156153846153842,
          21.138571428571428,
          21.13230769230769,
          21.127142857142864,
          21.135384615384613,
          21.12142857142857,
          21.133846153846157,
          21.125,
          21.113846153846158,
          21.11571428571429,
          21.320769230769233,
          22.05857142857143,
          22.509230769230765,
          22.349285714285717,
          22.09076923076924,
          21.911428571428566,
          21.77692307692308,
          21.705714285714286,
          21.707692307692298,
          21.688571428571436,
          21.651538461538454,
          21.507857142857148,
          21.26923076923077,
          21.152142857142856,
          21.195384615384608,
          21.152857142857147,
          21.144615384615385,
          21.122142857142855,
          21.125384615384615,
          21.125,
          21.126153846153844,
          21.13285714285714,
          21.136923076923075,
          21.15142857142857,
          21.160769230769233,
          21.19,
          21.232307692307693,
          21.25214285714285,
          21.26,
          21.29357142857143,
          21.349230769230765,
          21.403571428571436,
          21.464615384615378,
          21.504285714285718,
          21.363076923076925,
          21.205,
          21.139230769230775,
          21.138571428571428,
          21.119230769230768,
          21.10428571428572,
          21.11,
          21.094285714285718,
          21.1,
          21.085,
          21.09307692307692,
          21.112142857142853,
          21.11384615384615,
          21.148571428571433,
          21.380000000000006,
          22.296428571428574,
          23.24692307692308,
          22.713571428571424,
          22.634615384615394,
          21.92,
          22.50076923076923,
          22.255000000000006,
          22.146923076923073,
          21.657857142857146,
          21.496923076923075,
          21.479285714285712,
          21.395384615384614,
          21.44571428571428,
          21.27153846153846,
          21.19142857142857,
          21.200769230769232,
          21.142857142857142,
          21.13615384615385,
          21.12642857142857,
          21.12,
          21.13714285714285,
          21.14923076923077,
          21.15642857142857,
          21.196153846153848,
          21.260714285714286,
          21.92615384615384,
          22.60857142857143,
          22.002307692307692,
          21.785000000000004,
          21.79076923076923,
          21.739285714285714,
          21.903076923076924,
          22.03,
          21.87461538461539,
          21.805714285714288,
          21.63230769230769,
          21.52642857142857,
          21.398461538461547,
          21.32785714285714,
          21.292307692307688,
          21.20571428571429,
          21.163846153846155,
          21.144285714285708,
          21.141538461538467,
          21.17142857142857,
          21.17230769230769,
          21.173571428571428,
          21.19076923076923,
          21.368571428571435,
          21.46076923076923,
          20.963571428571434,
          21.907692307692304,
          22.724285714285717,
          22.40615384615385,
          22.59857142857143,
          22.841538461538462,
          22.74857142857143,
          22.450000000000006,
          22.177142857142854,
          21.94,
          21.698571428571423,
          21.533846153846156,
          21.35214285714286,
          21.200769230769232,
          21.245,
          21.158461538461534,
          21.165,
          21.156923076923075,
          21.155,
          21.125384615384615,
          21.155,
          21.48692307692307,
          22.27642857142857,
          23.350769230769227,
          23.832857142857147,
          23.71923076923077,
          22.527142857142852,
          21.810769230769235,
          22.165714285714284,
          22.150769230769235,
          22.084285714285713,
          21.955384615384613,
          21.53923076923077,
          21.452857142857138,
          20.986153846153847,
          20.462857142857143,
          19.933846153846158,
          19.969285714285714,
          19.9,
          19.45642857142857,
          19.153076923076924,
          19.14928571428572,
          18.973076923076924,
          19.263076923076927,
          19.412142857142857,
          19.787692307692307,
          20.791428571428565,
          21.836923076923078,
          22.20714285714286,
          22.314615384615394,
          21.94142857142857,
          21.889230769230767,
          21.616923076923076,
          21.631428571428575,
          21.730769230769234,
          21.799285714285716,
          21.706153846153846,
          21.601428571428567,
          21.43230769230769,
          21.29642857142857,
          21.153846153846157,
          21.076428571428572,
          20.958461538461545,
          20.858571428571427,
          20.771538461538466,
          20.677857142857142,
          20.630769230769232,
          20.605384615384608,
          20.594285714285714,
          20.97846153846154,
          21.834285714285713,
          22.167692307692317,
          22.064285714285717,
          21.855384615384622,
          21.70357142857143,
          21.63153846153846,
          21.622142857142855,
          21.626153846153844,
          21.61500000000001,
          21.577692307692303,
          21.455000000000005,
          21.232307692307696,
          21.109285714285715,
          20.986153846153847,
          20.878571428571426,
          20.817692307692308,
          20.76214285714286,
          20.72692307692307,
          20.687142857142856,
          20.638461538461534,
          20.61071428571429,
          20.583846153846157,
          20.565714285714282,
          20.693076923076926,
          21.31357142857143,
          21.70846153846153,
          21.688571428571436,
          21.61076923076924,
          21.552857142857146,
          21.513846153846153,
          21.525,
          21.537692307692303,
          21.515,
          21.42538461538461,
          21.27571428571429,
          21.115384615384613,
          20.982142857142858,
          20.856923076923074,
          20.75428571428571,
          20.66846153846154,
          20.613571428571426,
          20.595384615384614,
          20.55857142857143,
          20.532307692307693,
          20.507142857142856,
          20.49153846153846,
          20.51571428571429,
          20.62,
          20.866428571428575,
          21.353076923076923,
          21.891428571428577,
          22.127692307692318,
          21.627857142857145,
          21.606153846153845,
          21.63,
          22.076153846153847,
          22.472857142857148,
          21.920769230769228,
          21.532857142857146,
          21.244615384615386,
          21.10714285714285,
          21.156153846153842,
          21.15285714285714,
          21.13615384615385,
          21.12071428571429,
          21.097692307692302,
          21.071428571428573,
          21.02384615384615,
          20.98928571428572,
          21.00384615384616,
          21.021428571428565,
          21.032307692307693,
          21.176428571428573,
          21.470769230769232,
          22.086428571428577,
          22.32,
          21.897142857142853,
          21.98692307692308,
          22.062857142857148,
          21.960769230769237,
          21.845714285714283,
          21.533076923076926,
          21.35214285714286,
          21.235384615384614,
          21.17714285714285,
          21.25769230769231,
          21.296923076923076,
          21.326428571428565,
          21.31615384615385,
          21.31142857142857,
          21.286153846153848,
          21.255714285714287,
          21.236923076923077,
          21.22928571428572,
          21.229230769230767,
          21.515,
          22.179230769230767,
          22.944285714285716,
          23.376153846153844,
          23.17142857142857,
          22.641538461538463,
          22.544285714285717,
          22.61692307692308,
          22.76928571428572,
          23.11615384615385,
          22.99357142857143,
          22.70923076923077,
          22.05428571428572,
          21.733076923076922,
          21.59642857142857,
          21.422307692307697,
          21.327857142857145,
          21.413846153846155,
          21.448571428571427,
          21.43230769230769,
          21.388571428571428,
          21.38615384615385,
          21.40357142857143,
          21.426923076923075,
          21.446428571428573,
          21.548461538461538,
          21.645000000000003,
          22.56384615384616,
          23.032857142857146,
          22.72384615384616,
          22.775714285714287,
          23.700000000000006,
          23.917857142857148,
          23.33461538461539,
          22.774285714285718,
          22.399230769230773,
          22.145000000000003,
          22.080769230769228,
          22.042857142857148,
          21.97,
          21.875714285714288,
          21.812307692307687,
          21.736428571428565,
          21.664615384615388,
          21.632857142857148,
          21.601538461538453,
          21.575,
          21.601538461538453,
          22.215714285714288,
          23.14692307692308,
          23.702857142857145,
          23.800769230769234,
          23.625714285714285,
          23.173076923076927,
          23.15357142857143,
          23.21076923076923,
          23.172142857142855,
          23.108461538461537,
          23.085000000000004,
          22.93461538461539,
          22.73,
          22.552307692307693,
          22.381428571428575,
          22.19461538461539,
          22.092857142857138,
          21.996923076923075,
          21.873571428571424,
          21.787692307692307,
          21.692142857142862,
          21.635384615384613,
          21.616428571428575,
          21.595384615384614,
          21.624285714285715,
          21.728461538461538,
          21.849285714285717,
          22.03076923076923,
          22.208571428571425,
          22.336153846153845,
          22.381428571428575,
          22.461538461538463,
          22.53571428571429,
          22.554615384615378,
          22.562142857142863,
          22.465384615384608,
          22.271428571428565,
          22.10461538461539,
          21.954285714285714,
          21.814615384615387,
          21.705000000000005,
          21.62384615384616,
          21.572857142857146,
          21.502307692307692,
          21.44214285714286,
          21.390769230769234,
          21.377857142857145,
          21.358461538461533,
          21.357142857142858,
          21.35,
          21.358571428571434,
          21.441538461538453,
          21.687142857142852,
          22.003076923076925,
          22.102857142857147,
          22.100769230769227,
          22.113571428571426,
          22.127692307692307,
          22.101428571428567,
          21.983846153846148,
          21.84357142857143,
          21.733076923076922,
          21.659285714285712,
          21.61692307692308,
          21.578571428571426,
          21.497692307692304,
          21.420000000000005,
          21.395384615384614,
          21.353571428571428,
          21.305384615384614,
          21.28928571428571,
          21.284615384615385,
          21.38785714285714,
          21.494615384615386,
          21.935714285714287,
          22.11076923076923,
          21.819285714285716,
          21.913846153846155,
          22.067857142857147,
          22.49230769230769,
          22.603571428571428,
          22.17230769230769,
          22.115714285714287,
          22.09,
          22.46857142857143,
          22.11384615384615,
          21.817857142857147,
          21.592307692307696,
          21.35071428571429,
          21.19230769230769,
          21.27928571428572,
          21.154615384615386,
          21.28428571428572,
          21.14923076923077,
          21.25571428571428,
          21.438461538461546,
          22.49571428571429,
          23.832307692307698,
          24.74,
          24.47230769230769,
          23.69214285714286,
          23.561538461538454,
          24.095714285714287,
          23.70923076923077,
          23.36785714285714,
          22.99230769230769,
          22.562142857142852,
          22.285384615384622,
          22.045714285714286,
          22.02769230769231,
          22.193571428571424,
          22.141538461538463,
          22.0892857142857,
          22.02230769230769,
          21.930714285714284,
          21.847692307692302,
          21.779285714285717,
          21.701538461538462,
          21.649285714285718,
          21.906923076923075,
          22.982142857142854,
          24.031538461538464,
          24.504999999999995,
          24.440000000000005,
          24.15142857142857,
          24.274615384615387,
          24.291428571428572,
          23.708461538461545,
          23.447857142857142,
          23.23692307692308,
          23.03642857142857,
          22.78076923076923,
          22.48785714285714,
          22.338461538461537,
          22.27,
          22.14076923076923,
          22.057142857142853,
          21.934615384615388,
          21.825714285714284,
          21.716153846153844,
          21.647857142857145,
          21.586923076923078,
          21.49642857142857,
          21.77076923076923,
          23.00428571428571,
          24.145
         ]
        },
        {
         "marker": {
          "color": "green",
          "size": 10
         },
         "mode": "markers",
         "name": "Correct (1 predicted as 1)",
         "type": "scatter",
         "x": [
          "2025-03-21 05:00:00",
          "2025-03-21 06:00:00"
         ],
         "y": [
          19.412142857142857,
          19.787692307692307
         ]
        },
        {
         "marker": {
          "color": "red",
          "size": 10,
          "symbol": "x"
         },
         "mode": "markers",
         "name": "False Negative (1 predicted as 0)",
         "type": "scatter",
         "x": [
          "2025-03-19 08:00:00",
          "2025-03-19 09:00:00",
          "2025-03-19 10:00:00",
          "2025-03-19 11:00:00",
          "2025-03-20 17:00:00",
          "2025-03-20 18:00:00",
          "2025-03-20 19:00:00",
          "2025-03-20 20:00:00",
          "2025-03-20 21:00:00",
          "2025-03-20 22:00:00",
          "2025-03-20 23:00:00",
          "2025-03-21 00:00:00",
          "2025-03-21 01:00:00",
          "2025-03-21 02:00:00",
          "2025-03-21 03:00:00",
          "2025-03-21 04:00:00",
          "2025-03-21 07:00:00"
         ],
         "y": [
          21.46076923076923,
          20.963571428571434,
          21.907692307692304,
          22.724285714285717,
          21.53923076923077,
          21.452857142857138,
          20.986153846153847,
          20.462857142857143,
          19.933846153846158,
          19.969285714285714,
          19.9,
          19.45642857142857,
          19.153076923076924,
          19.14928571428572,
          18.973076923076924,
          19.263076923076927,
          20.791428571428565
         ]
        },
        {
         "marker": {
          "color": "orange",
          "size": 10,
          "symbol": "triangle-up"
         },
         "mode": "markers",
         "name": "False Positive (0 predicted as 1)",
         "type": "scatter",
         "x": [],
         "y": []
        }
       ],
       "layout": {
        "height": 500,
        "legend": {
         "title": {
          "text": "Legend"
         }
        },
        "template": {
         "data": {
          "bar": [
           {
            "error_x": {
             "color": "#2a3f5f"
            },
            "error_y": {
             "color": "#2a3f5f"
            },
            "marker": {
             "line": {
              "color": "#E5ECF6",
              "width": 0.5
             },
             "pattern": {
              "fillmode": "overlay",
              "size": 10,
              "solidity": 0.2
             }
            },
            "type": "bar"
           }
          ],
          "barpolar": [
           {
            "marker": {
             "line": {
              "color": "#E5ECF6",
              "width": 0.5
             },
             "pattern": {
              "fillmode": "overlay",
              "size": 10,
              "solidity": 0.2
             }
            },
            "type": "barpolar"
           }
          ],
          "carpet": [
           {
            "aaxis": {
             "endlinecolor": "#2a3f5f",
             "gridcolor": "white",
             "linecolor": "white",
             "minorgridcolor": "white",
             "startlinecolor": "#2a3f5f"
            },
            "baxis": {
             "endlinecolor": "#2a3f5f",
             "gridcolor": "white",
             "linecolor": "white",
             "minorgridcolor": "white",
             "startlinecolor": "#2a3f5f"
            },
            "type": "carpet"
           }
          ],
          "choropleth": [
           {
            "colorbar": {
             "outlinewidth": 0,
             "ticks": ""
            },
            "type": "choropleth"
           }
          ],
          "contour": [
           {
            "colorbar": {
             "outlinewidth": 0,
             "ticks": ""
            },
            "colorscale": [
             [
              0,
              "#0d0887"
             ],
             [
              0.1111111111111111,
              "#46039f"
             ],
             [
              0.2222222222222222,
              "#7201a8"
             ],
             [
              0.3333333333333333,
              "#9c179e"
             ],
             [
              0.4444444444444444,
              "#bd3786"
             ],
             [
              0.5555555555555556,
              "#d8576b"
             ],
             [
              0.6666666666666666,
              "#ed7953"
             ],
             [
              0.7777777777777778,
              "#fb9f3a"
             ],
             [
              0.8888888888888888,
              "#fdca26"
             ],
             [
              1,
              "#f0f921"
             ]
            ],
            "type": "contour"
           }
          ],
          "contourcarpet": [
           {
            "colorbar": {
             "outlinewidth": 0,
             "ticks": ""
            },
            "type": "contourcarpet"
           }
          ],
          "heatmap": [
           {
            "colorbar": {
             "outlinewidth": 0,
             "ticks": ""
            },
            "colorscale": [
             [
              0,
              "#0d0887"
             ],
             [
              0.1111111111111111,
              "#46039f"
             ],
             [
              0.2222222222222222,
              "#7201a8"
             ],
             [
              0.3333333333333333,
              "#9c179e"
             ],
             [
              0.4444444444444444,
              "#bd3786"
             ],
             [
              0.5555555555555556,
              "#d8576b"
             ],
             [
              0.6666666666666666,
              "#ed7953"
             ],
             [
              0.7777777777777778,
              "#fb9f3a"
             ],
             [
              0.8888888888888888,
              "#fdca26"
             ],
             [
              1,
              "#f0f921"
             ]
            ],
            "type": "heatmap"
           }
          ],
          "heatmapgl": [
           {
            "colorbar": {
             "outlinewidth": 0,
             "ticks": ""
            },
            "colorscale": [
             [
              0,
              "#0d0887"
             ],
             [
              0.1111111111111111,
              "#46039f"
             ],
             [
              0.2222222222222222,
              "#7201a8"
             ],
             [
              0.3333333333333333,
              "#9c179e"
             ],
             [
              0.4444444444444444,
              "#bd3786"
             ],
             [
              0.5555555555555556,
              "#d8576b"
             ],
             [
              0.6666666666666666,
              "#ed7953"
             ],
             [
              0.7777777777777778,
              "#fb9f3a"
             ],
             [
              0.8888888888888888,
              "#fdca26"
             ],
             [
              1,
              "#f0f921"
             ]
            ],
            "type": "heatmapgl"
           }
          ],
          "histogram": [
           {
            "marker": {
             "pattern": {
              "fillmode": "overlay",
              "size": 10,
              "solidity": 0.2
             }
            },
            "type": "histogram"
           }
          ],
          "histogram2d": [
           {
            "colorbar": {
             "outlinewidth": 0,
             "ticks": ""
            },
            "colorscale": [
             [
              0,
              "#0d0887"
             ],
             [
              0.1111111111111111,
              "#46039f"
             ],
             [
              0.2222222222222222,
              "#7201a8"
             ],
             [
              0.3333333333333333,
              "#9c179e"
             ],
             [
              0.4444444444444444,
              "#bd3786"
             ],
             [
              0.5555555555555556,
              "#d8576b"
             ],
             [
              0.6666666666666666,
              "#ed7953"
             ],
             [
              0.7777777777777778,
              "#fb9f3a"
             ],
             [
              0.8888888888888888,
              "#fdca26"
             ],
             [
              1,
              "#f0f921"
             ]
            ],
            "type": "histogram2d"
           }
          ],
          "histogram2dcontour": [
           {
            "colorbar": {
             "outlinewidth": 0,
             "ticks": ""
            },
            "colorscale": [
             [
              0,
              "#0d0887"
             ],
             [
              0.1111111111111111,
              "#46039f"
             ],
             [
              0.2222222222222222,
              "#7201a8"
             ],
             [
              0.3333333333333333,
              "#9c179e"
             ],
             [
              0.4444444444444444,
              "#bd3786"
             ],
             [
              0.5555555555555556,
              "#d8576b"
             ],
             [
              0.6666666666666666,
              "#ed7953"
             ],
             [
              0.7777777777777778,
              "#fb9f3a"
             ],
             [
              0.8888888888888888,
              "#fdca26"
             ],
             [
              1,
              "#f0f921"
             ]
            ],
            "type": "histogram2dcontour"
           }
          ],
          "mesh3d": [
           {
            "colorbar": {
             "outlinewidth": 0,
             "ticks": ""
            },
            "type": "mesh3d"
           }
          ],
          "parcoords": [
           {
            "line": {
             "colorbar": {
              "outlinewidth": 0,
              "ticks": ""
             }
            },
            "type": "parcoords"
           }
          ],
          "pie": [
           {
            "automargin": true,
            "type": "pie"
           }
          ],
          "scatter": [
           {
            "fillpattern": {
             "fillmode": "overlay",
             "size": 10,
             "solidity": 0.2
            },
            "type": "scatter"
           }
          ],
          "scatter3d": [
           {
            "line": {
             "colorbar": {
              "outlinewidth": 0,
              "ticks": ""
             }
            },
            "marker": {
             "colorbar": {
              "outlinewidth": 0,
              "ticks": ""
             }
            },
            "type": "scatter3d"
           }
          ],
          "scattercarpet": [
           {
            "marker": {
             "colorbar": {
              "outlinewidth": 0,
              "ticks": ""
             }
            },
            "type": "scattercarpet"
           }
          ],
          "scattergeo": [
           {
            "marker": {
             "colorbar": {
              "outlinewidth": 0,
              "ticks": ""
             }
            },
            "type": "scattergeo"
           }
          ],
          "scattergl": [
           {
            "marker": {
             "colorbar": {
              "outlinewidth": 0,
              "ticks": ""
             }
            },
            "type": "scattergl"
           }
          ],
          "scattermapbox": [
           {
            "marker": {
             "colorbar": {
              "outlinewidth": 0,
              "ticks": ""
             }
            },
            "type": "scattermapbox"
           }
          ],
          "scatterpolar": [
           {
            "marker": {
             "colorbar": {
              "outlinewidth": 0,
              "ticks": ""
             }
            },
            "type": "scatterpolar"
           }
          ],
          "scatterpolargl": [
           {
            "marker": {
             "colorbar": {
              "outlinewidth": 0,
              "ticks": ""
             }
            },
            "type": "scatterpolargl"
           }
          ],
          "scatterternary": [
           {
            "marker": {
             "colorbar": {
              "outlinewidth": 0,
              "ticks": ""
             }
            },
            "type": "scatterternary"
           }
          ],
          "surface": [
           {
            "colorbar": {
             "outlinewidth": 0,
             "ticks": ""
            },
            "colorscale": [
             [
              0,
              "#0d0887"
             ],
             [
              0.1111111111111111,
              "#46039f"
             ],
             [
              0.2222222222222222,
              "#7201a8"
             ],
             [
              0.3333333333333333,
              "#9c179e"
             ],
             [
              0.4444444444444444,
              "#bd3786"
             ],
             [
              0.5555555555555556,
              "#d8576b"
             ],
             [
              0.6666666666666666,
              "#ed7953"
             ],
             [
              0.7777777777777778,
              "#fb9f3a"
             ],
             [
              0.8888888888888888,
              "#fdca26"
             ],
             [
              1,
              "#f0f921"
             ]
            ],
            "type": "surface"
           }
          ],
          "table": [
           {
            "cells": {
             "fill": {
              "color": "#EBF0F8"
             },
             "line": {
              "color": "white"
             }
            },
            "header": {
             "fill": {
              "color": "#C8D4E3"
             },
             "line": {
              "color": "white"
             }
            },
            "type": "table"
           }
          ]
         },
         "layout": {
          "annotationdefaults": {
           "arrowcolor": "#2a3f5f",
           "arrowhead": 0,
           "arrowwidth": 1
          },
          "autotypenumbers": "strict",
          "coloraxis": {
           "colorbar": {
            "outlinewidth": 0,
            "ticks": ""
           }
          },
          "colorscale": {
           "diverging": [
            [
             0,
             "#8e0152"
            ],
            [
             0.1,
             "#c51b7d"
            ],
            [
             0.2,
             "#de77ae"
            ],
            [
             0.3,
             "#f1b6da"
            ],
            [
             0.4,
             "#fde0ef"
            ],
            [
             0.5,
             "#f7f7f7"
            ],
            [
             0.6,
             "#e6f5d0"
            ],
            [
             0.7,
             "#b8e186"
            ],
            [
             0.8,
             "#7fbc41"
            ],
            [
             0.9,
             "#4d9221"
            ],
            [
             1,
             "#276419"
            ]
           ],
           "sequential": [
            [
             0,
             "#0d0887"
            ],
            [
             0.1111111111111111,
             "#46039f"
            ],
            [
             0.2222222222222222,
             "#7201a8"
            ],
            [
             0.3333333333333333,
             "#9c179e"
            ],
            [
             0.4444444444444444,
             "#bd3786"
            ],
            [
             0.5555555555555556,
             "#d8576b"
            ],
            [
             0.6666666666666666,
             "#ed7953"
            ],
            [
             0.7777777777777778,
             "#fb9f3a"
            ],
            [
             0.8888888888888888,
             "#fdca26"
            ],
            [
             1,
             "#f0f921"
            ]
           ],
           "sequentialminus": [
            [
             0,
             "#0d0887"
            ],
            [
             0.1111111111111111,
             "#46039f"
            ],
            [
             0.2222222222222222,
             "#7201a8"
            ],
            [
             0.3333333333333333,
             "#9c179e"
            ],
            [
             0.4444444444444444,
             "#bd3786"
            ],
            [
             0.5555555555555556,
             "#d8576b"
            ],
            [
             0.6666666666666666,
             "#ed7953"
            ],
            [
             0.7777777777777778,
             "#fb9f3a"
            ],
            [
             0.8888888888888888,
             "#fdca26"
            ],
            [
             1,
             "#f0f921"
            ]
           ]
          },
          "colorway": [
           "#636efa",
           "#EF553B",
           "#00cc96",
           "#ab63fa",
           "#FFA15A",
           "#19d3f3",
           "#FF6692",
           "#B6E880",
           "#FF97FF",
           "#FECB52"
          ],
          "font": {
           "color": "#2a3f5f"
          },
          "geo": {
           "bgcolor": "white",
           "lakecolor": "white",
           "landcolor": "#E5ECF6",
           "showlakes": true,
           "showland": true,
           "subunitcolor": "white"
          },
          "hoverlabel": {
           "align": "left"
          },
          "hovermode": "closest",
          "mapbox": {
           "style": "light"
          },
          "paper_bgcolor": "white",
          "plot_bgcolor": "#E5ECF6",
          "polar": {
           "angularaxis": {
            "gridcolor": "white",
            "linecolor": "white",
            "ticks": ""
           },
           "bgcolor": "#E5ECF6",
           "radialaxis": {
            "gridcolor": "white",
            "linecolor": "white",
            "ticks": ""
           }
          },
          "scene": {
           "xaxis": {
            "backgroundcolor": "#E5ECF6",
            "gridcolor": "white",
            "gridwidth": 2,
            "linecolor": "white",
            "showbackground": true,
            "ticks": "",
            "zerolinecolor": "white"
           },
           "yaxis": {
            "backgroundcolor": "#E5ECF6",
            "gridcolor": "white",
            "gridwidth": 2,
            "linecolor": "white",
            "showbackground": true,
            "ticks": "",
            "zerolinecolor": "white"
           },
           "zaxis": {
            "backgroundcolor": "#E5ECF6",
            "gridcolor": "white",
            "gridwidth": 2,
            "linecolor": "white",
            "showbackground": true,
            "ticks": "",
            "zerolinecolor": "white"
           }
          },
          "shapedefaults": {
           "line": {
            "color": "#2a3f5f"
           }
          },
          "ternary": {
           "aaxis": {
            "gridcolor": "white",
            "linecolor": "white",
            "ticks": ""
           },
           "baxis": {
            "gridcolor": "white",
            "linecolor": "white",
            "ticks": ""
           },
           "bgcolor": "#E5ECF6",
           "caxis": {
            "gridcolor": "white",
            "linecolor": "white",
            "ticks": ""
           }
          },
          "title": {
           "x": 0.05
          },
          "xaxis": {
           "automargin": true,
           "gridcolor": "white",
           "linecolor": "white",
           "ticks": "",
           "title": {
            "standoff": 15
           },
           "zerolinecolor": "white",
           "zerolinewidth": 2
          },
          "yaxis": {
           "automargin": true,
           "gridcolor": "white",
           "linecolor": "white",
           "ticks": "",
           "title": {
            "standoff": 15
           },
           "zerolinecolor": "white",
           "zerolinewidth": 2
          }
         }
        },
        "title": {
         "text": "Temperatures in meeting room & Prediction Markers for fault 1"
        },
        "width": 800,
        "xaxis": {
         "title": {
          "text": "Time"
         }
        },
        "yaxis": {
         "title": {
          "text": "Temperature (°C)"
         }
        }
       }
      }
     },
     "metadata": {},
     "output_type": "display_data"
    }
   ],
   "source": [
    "fig = go.Figure()\n",
    "\n",
    "# Base temperature curve\n",
    "fig.add_trace(go.Scatter(\n",
    "    x=df_engen['Time'], \n",
    "    y=df_engen[test_temp], \n",
    "    mode='lines', \n",
    "    name='Meeting room faulty operation'\n",
    "))\n",
    "\n",
    "# Convert y_pred to a Pandas Series with the correct index\n",
    "y_pred_series = pd.Series(y_pred, index=test_y.index)\n",
    "\n",
    "# Find indices for different cases\n",
    "correct_1_indices = (test_y == 1) & (y_pred_series == 1)  # True 1, Pred 1 -> Green\n",
    "false_negative_indices = (test_y == 1) & (y_pred_series == 0)  # True 1, Pred 0 -> Red\n",
    "false_positive_indices = (test_y == 0) & (y_pred_series == 1)  # True 0, Pred 1 -> Orange\n",
    "\n",
    "# Extract timestamps\n",
    "correct_1_timestamps = df_engen.loc[test_y.index, 'Time'][correct_1_indices]\n",
    "false_negative_timestamps = df_engen.loc[test_y.index, 'Time'][false_negative_indices]\n",
    "false_positive_timestamps = df_engen.loc[test_y.index, 'Time'][false_positive_indices]\n",
    "\n",
    "# Extract corresponding temperatures\n",
    "correct_1_temps = df_engen.loc[test_y.index, test_temp][correct_1_indices]\n",
    "false_negative_temps = df_engen.loc[test_y.index, test_temp][false_negative_indices]\n",
    "false_positive_temps = df_engen.loc[test_y.index, test_temp][false_positive_indices]\n",
    "\n",
    "# Add markers for correct predictions (Green)\n",
    "fig.add_trace(go.Scatter(\n",
    "    x=correct_1_timestamps,\n",
    "    y=correct_1_temps,\n",
    "    mode='markers',\n",
    "    marker=dict(color='green', size=10),\n",
    "    name='Correct (1 predicted as 1)'\n",
    "))\n",
    "\n",
    "# Add markers for false negatives (Red)\n",
    "fig.add_trace(go.Scatter(\n",
    "    x=false_negative_timestamps,\n",
    "    y=false_negative_temps,\n",
    "    mode='markers',\n",
    "    marker=dict(color='red', size=10, symbol='x'),\n",
    "    name='False Negative (1 predicted as 0)'\n",
    "))\n",
    "\n",
    "# Add markers for false positives (Orange)\n",
    "fig.add_trace(go.Scatter(\n",
    "    x=false_positive_timestamps,\n",
    "    y=false_positive_temps,\n",
    "    mode='markers',\n",
    "    marker=dict(color='orange', size=10, symbol='triangle-up'),\n",
    "    name='False Positive (0 predicted as 1)'\n",
    "))\n",
    "\n",
    "# Customize layout\n",
    "fig.update_layout(\n",
    "    title=\"Temperatures in meeting room & Prediction Markers for fault 1\",\n",
    "    xaxis_title=\"Time\",\n",
    "    yaxis_title=\"Temperature (°C)\",\n",
    "    legend_title=\"Legend\",\n",
    "    template=\"plotly\", \n",
    "    width = 800,\n",
    "    height = 500\n",
    ")\n",
    "\n",
    "# Show the plot\n",
    "fig.show()"
   ]
  },
  {
   "cell_type": "markdown",
   "metadata": {},
   "source": [
    "### XGBoost"
   ]
  },
  {
   "cell_type": "code",
   "execution_count": 115,
   "metadata": {},
   "outputs": [
    {
     "name": "stdout",
     "output_type": "stream",
     "text": [
      "Accuracy on Train Set: 1.0\n",
      "Train Report:\n",
      "               precision    recall  f1-score   support\n",
      "\n",
      "           0       1.00      1.00      1.00      8712\n",
      "           1       1.00      1.00      1.00        48\n",
      "\n",
      "    accuracy                           1.00      8760\n",
      "   macro avg       1.00      1.00      1.00      8760\n",
      "weighted avg       1.00      1.00      1.00      8760\n",
      "\n",
      "\n",
      "Accuracy on Test Set: 0.9688311688311688\n",
      "\n",
      "Classification Report:\n",
      "               precision    recall  f1-score   support\n",
      "\n",
      "           0       0.98      0.99      0.98       366\n",
      "           1       0.73      0.58      0.65        19\n",
      "\n",
      "    accuracy                           0.97       385\n",
      "   macro avg       0.86      0.78      0.82       385\n",
      "weighted avg       0.97      0.97      0.97       385\n",
      "\n"
     ]
    }
   ],
   "source": [
    "# Initialize the XGBoost Classifier\n",
    "xgb_model = XGBClassifier()\n",
    "\n",
    "# Train the model\n",
    "xgb_model.fit(train_x, train_y)\n",
    "\n",
    "# Make predictions\n",
    "y_pred_train = xgb_model.predict(train_x)\n",
    "y_pred = xgb_model.predict(test_x)\n",
    "\n",
    "# Evaluate the model\n",
    "print(\"Accuracy on Train Set:\", accuracy_score(train_y, y_pred_train))\n",
    "print(\"Train Report:\\n\", classification_report(train_y, y_pred_train))\n",
    "print()\n",
    "print(\"Accuracy on Test Set:\", accuracy_score(test_y, y_pred))\n",
    "print(\"\\nClassification Report:\\n\", classification_report(test_y, y_pred))\n"
   ]
  },
  {
   "cell_type": "code",
   "execution_count": 116,
   "metadata": {},
   "outputs": [
    {
     "name": "stdout",
     "output_type": "stream",
     "text": [
      "\n",
      "Summary (Mean ± Std):\n",
      "          run  precision_class_0  recall_class_0    f1_class_0  \\\n",
      "mean  5.50000           0.978378    9.890710e-01  9.836957e-01   \n",
      "std   3.02765           0.000000    2.340556e-16  2.340556e-16   \n",
      "\n",
      "      precision_class_1  recall_class_1    f1_class_1  \n",
      "mean           0.733333    5.789474e-01  6.470588e-01  \n",
      "std            0.000000    1.170278e-16  1.170278e-16  \n",
      "\n",
      "All Per-Class Results:\n",
      "   run  precision_class_0  recall_class_0  f1_class_0  precision_class_1  \\\n",
      "0    1           0.978378        0.989071    0.983696           0.733333   \n",
      "1    2           0.978378        0.989071    0.983696           0.733333   \n",
      "2    3           0.978378        0.989071    0.983696           0.733333   \n",
      "3    4           0.978378        0.989071    0.983696           0.733333   \n",
      "4    5           0.978378        0.989071    0.983696           0.733333   \n",
      "5    6           0.978378        0.989071    0.983696           0.733333   \n",
      "6    7           0.978378        0.989071    0.983696           0.733333   \n",
      "7    8           0.978378        0.989071    0.983696           0.733333   \n",
      "8    9           0.978378        0.989071    0.983696           0.733333   \n",
      "9   10           0.978378        0.989071    0.983696           0.733333   \n",
      "\n",
      "   recall_class_1  f1_class_1  \n",
      "0        0.578947    0.647059  \n",
      "1        0.578947    0.647059  \n",
      "2        0.578947    0.647059  \n",
      "3        0.578947    0.647059  \n",
      "4        0.578947    0.647059  \n",
      "5        0.578947    0.647059  \n",
      "6        0.578947    0.647059  \n",
      "7        0.578947    0.647059  \n",
      "8        0.578947    0.647059  \n",
      "9        0.578947    0.647059  \n"
     ]
    }
   ],
   "source": [
    "# Store all runs\n",
    "results = []\n",
    "\n",
    "for i in range(10):\n",
    "    xgb_model = XGBClassifier()\n",
    "    xgb_model.fit(train_x, train_y)\n",
    "\n",
    "    y_pred = xgb_model.predict(test_x)\n",
    "    report = classification_report(test_y, y_pred, output_dict=True)\n",
    "\n",
    "    # Store per-class metrics\n",
    "    run_result = {'run': i + 1}\n",
    "    for label in report:\n",
    "        if label not in ('accuracy', 'macro avg', 'weighted avg'):\n",
    "            run_result[f'precision_class_{label}'] = report[label]['precision']\n",
    "            run_result[f'recall_class_{label}'] = report[label]['recall']\n",
    "            run_result[f'f1_class_{label}'] = report[label]['f1-score']\n",
    "    \n",
    "    results.append(run_result)\n",
    "\n",
    "# Results as DataFrame\n",
    "results_df = pd.DataFrame(results)\n",
    "\n",
    "# Summary (mean and std)\n",
    "summary = results_df.describe().loc[['mean', 'std']]\n",
    "\n",
    "print(\"\\nSummary (Mean ± Std):\")\n",
    "print(summary)\n",
    "\n",
    "print(\"\\nAll Per-Class Results:\")\n",
    "print(results_df)"
   ]
  },
  {
   "cell_type": "code",
   "execution_count": 117,
   "metadata": {},
   "outputs": [
    {
     "data": {
      "application/vnd.plotly.v1+json": {
       "config": {
        "plotlyServerURL": "https://plot.ly"
       },
       "data": [
        {
         "mode": "lines",
         "name": "Mean air temperature",
         "type": "scatter",
         "x": [
          "2025-03-11 00:00:00",
          "2025-03-11 01:00:00",
          "2025-03-11 02:00:00",
          "2025-03-11 03:00:00",
          "2025-03-11 04:00:00",
          "2025-03-11 05:00:00",
          "2025-03-11 06:00:00",
          "2025-03-11 07:00:00",
          "2025-03-11 08:00:00",
          "2025-03-11 09:00:00",
          "2025-03-11 10:00:00",
          "2025-03-11 11:00:00",
          "2025-03-11 12:00:00",
          "2025-03-11 13:00:00",
          "2025-03-11 14:00:00",
          "2025-03-11 15:00:00",
          "2025-03-11 16:00:00",
          "2025-03-11 17:00:00",
          "2025-03-11 18:00:00",
          "2025-03-11 19:00:00",
          "2025-03-11 20:00:00",
          "2025-03-11 21:00:00",
          "2025-03-11 22:00:00",
          "2025-03-11 23:00:00",
          "2025-03-12 00:00:00",
          "2025-03-12 01:00:00",
          "2025-03-12 02:00:00",
          "2025-03-12 03:00:00",
          "2025-03-12 04:00:00",
          "2025-03-12 05:00:00",
          "2025-03-12 06:00:00",
          "2025-03-12 07:00:00",
          "2025-03-12 08:00:00",
          "2025-03-12 09:00:00",
          "2025-03-12 10:00:00",
          "2025-03-12 11:00:00",
          "2025-03-12 12:00:00",
          "2025-03-12 13:00:00",
          "2025-03-12 14:00:00",
          "2025-03-12 15:00:00",
          "2025-03-12 16:00:00",
          "2025-03-12 17:00:00",
          "2025-03-12 18:00:00",
          "2025-03-12 19:00:00",
          "2025-03-12 20:00:00",
          "2025-03-12 21:00:00",
          "2025-03-12 22:00:00",
          "2025-03-12 23:00:00",
          "2025-03-13 00:00:00",
          "2025-03-13 01:00:00",
          "2025-03-13 02:00:00",
          "2025-03-13 03:00:00",
          "2025-03-13 04:00:00",
          "2025-03-13 05:00:00",
          "2025-03-13 06:00:00",
          "2025-03-13 07:00:00",
          "2025-03-13 08:00:00",
          "2025-03-13 09:00:00",
          "2025-03-13 10:00:00",
          "2025-03-13 11:00:00",
          "2025-03-13 12:00:00",
          "2025-03-13 13:00:00",
          "2025-03-13 14:00:00",
          "2025-03-13 15:00:00",
          "2025-03-13 16:00:00",
          "2025-03-13 17:00:00",
          "2025-03-13 18:00:00",
          "2025-03-13 19:00:00",
          "2025-03-13 20:00:00",
          "2025-03-13 21:00:00",
          "2025-03-13 22:00:00",
          "2025-03-13 23:00:00",
          "2025-03-14 00:00:00",
          "2025-03-14 01:00:00",
          "2025-03-14 02:00:00",
          "2025-03-14 03:00:00",
          "2025-03-14 04:00:00",
          "2025-03-14 05:00:00",
          "2025-03-14 06:00:00",
          "2025-03-14 07:00:00",
          "2025-03-14 08:00:00",
          "2025-03-14 09:00:00",
          "2025-03-14 10:00:00",
          "2025-03-14 11:00:00",
          "2025-03-14 12:00:00",
          "2025-03-14 13:00:00",
          "2025-03-14 14:00:00",
          "2025-03-14 15:00:00",
          "2025-03-14 16:00:00",
          "2025-03-14 17:00:00",
          "2025-03-14 18:00:00",
          "2025-03-14 19:00:00",
          "2025-03-14 20:00:00",
          "2025-03-14 21:00:00",
          "2025-03-14 22:00:00",
          "2025-03-14 23:00:00",
          "2025-03-15 00:00:00",
          "2025-03-15 01:00:00",
          "2025-03-15 02:00:00",
          "2025-03-15 03:00:00",
          "2025-03-15 04:00:00",
          "2025-03-15 05:00:00",
          "2025-03-15 06:00:00",
          "2025-03-15 07:00:00",
          "2025-03-15 08:00:00",
          "2025-03-15 09:00:00",
          "2025-03-15 10:00:00",
          "2025-03-15 11:00:00",
          "2025-03-15 12:00:00",
          "2025-03-15 13:00:00",
          "2025-03-15 14:00:00",
          "2025-03-15 15:00:00",
          "2025-03-15 16:00:00",
          "2025-03-15 17:00:00",
          "2025-03-15 18:00:00",
          "2025-03-15 19:00:00",
          "2025-03-15 20:00:00",
          "2025-03-15 21:00:00",
          "2025-03-15 22:00:00",
          "2025-03-15 23:00:00",
          "2025-03-16 00:00:00",
          "2025-03-16 01:00:00",
          "2025-03-16 02:00:00",
          "2025-03-16 03:00:00",
          "2025-03-16 04:00:00",
          "2025-03-16 05:00:00",
          "2025-03-16 06:00:00",
          "2025-03-16 07:00:00",
          "2025-03-16 08:00:00",
          "2025-03-16 09:00:00",
          "2025-03-16 10:00:00",
          "2025-03-16 11:00:00",
          "2025-03-16 12:00:00",
          "2025-03-16 13:00:00",
          "2025-03-16 14:00:00",
          "2025-03-16 15:00:00",
          "2025-03-16 16:00:00",
          "2025-03-16 17:00:00",
          "2025-03-16 18:00:00",
          "2025-03-16 19:00:00",
          "2025-03-16 20:00:00",
          "2025-03-16 21:00:00",
          "2025-03-16 22:00:00",
          "2025-03-16 23:00:00",
          "2025-03-17 00:00:00",
          "2025-03-17 01:00:00",
          "2025-03-17 02:00:00",
          "2025-03-17 03:00:00",
          "2025-03-17 04:00:00",
          "2025-03-17 05:00:00",
          "2025-03-17 06:00:00",
          "2025-03-17 07:00:00",
          "2025-03-17 08:00:00",
          "2025-03-17 09:00:00",
          "2025-03-17 10:00:00",
          "2025-03-17 11:00:00",
          "2025-03-17 12:00:00",
          "2025-03-17 13:00:00",
          "2025-03-17 14:00:00",
          "2025-03-17 15:00:00",
          "2025-03-17 16:00:00",
          "2025-03-17 17:00:00",
          "2025-03-17 18:00:00",
          "2025-03-17 19:00:00",
          "2025-03-17 20:00:00",
          "2025-03-17 21:00:00",
          "2025-03-17 22:00:00",
          "2025-03-17 23:00:00",
          "2025-03-18 00:00:00",
          "2025-03-18 01:00:00",
          "2025-03-18 02:00:00",
          "2025-03-18 03:00:00",
          "2025-03-18 04:00:00",
          "2025-03-18 05:00:00",
          "2025-03-18 06:00:00",
          "2025-03-18 07:00:00",
          "2025-03-18 08:00:00",
          "2025-03-18 09:00:00",
          "2025-03-18 10:00:00",
          "2025-03-18 11:00:00",
          "2025-03-18 12:00:00",
          "2025-03-18 13:00:00",
          "2025-03-18 14:00:00",
          "2025-03-18 15:00:00",
          "2025-03-18 16:00:00",
          "2025-03-18 17:00:00",
          "2025-03-18 18:00:00",
          "2025-03-18 19:00:00",
          "2025-03-18 20:00:00",
          "2025-03-18 21:00:00",
          "2025-03-18 22:00:00",
          "2025-03-18 23:00:00",
          "2025-03-19 00:00:00",
          "2025-03-19 01:00:00",
          "2025-03-19 02:00:00",
          "2025-03-19 03:00:00",
          "2025-03-19 04:00:00",
          "2025-03-19 05:00:00",
          "2025-03-19 06:00:00",
          "2025-03-19 07:00:00",
          "2025-03-19 08:00:00",
          "2025-03-19 09:00:00",
          "2025-03-19 10:00:00",
          "2025-03-19 11:00:00",
          "2025-03-19 12:00:00",
          "2025-03-19 13:00:00",
          "2025-03-19 14:00:00",
          "2025-03-19 15:00:00",
          "2025-03-19 16:00:00",
          "2025-03-19 17:00:00",
          "2025-03-19 18:00:00",
          "2025-03-19 19:00:00",
          "2025-03-19 20:00:00",
          "2025-03-19 21:00:00",
          "2025-03-19 22:00:00",
          "2025-03-19 23:00:00",
          "2025-03-20 00:00:00",
          "2025-03-20 01:00:00",
          "2025-03-20 02:00:00",
          "2025-03-20 03:00:00",
          "2025-03-20 04:00:00",
          "2025-03-20 05:00:00",
          "2025-03-20 06:00:00",
          "2025-03-20 07:00:00",
          "2025-03-20 08:00:00",
          "2025-03-20 09:00:00",
          "2025-03-20 10:00:00",
          "2025-03-20 11:00:00",
          "2025-03-20 12:00:00",
          "2025-03-20 13:00:00",
          "2025-03-20 14:00:00",
          "2025-03-20 15:00:00",
          "2025-03-20 16:00:00",
          "2025-03-20 17:00:00",
          "2025-03-20 18:00:00",
          "2025-03-20 19:00:00",
          "2025-03-20 20:00:00",
          "2025-03-20 21:00:00",
          "2025-03-20 22:00:00",
          "2025-03-20 23:00:00",
          "2025-03-21 00:00:00",
          "2025-03-21 01:00:00",
          "2025-03-21 02:00:00",
          "2025-03-21 03:00:00",
          "2025-03-21 04:00:00",
          "2025-03-21 05:00:00",
          "2025-03-21 06:00:00",
          "2025-03-21 07:00:00",
          "2025-03-21 08:00:00",
          "2025-03-21 09:00:00",
          "2025-03-21 10:00:00",
          "2025-03-21 11:00:00",
          "2025-03-21 12:00:00",
          "2025-03-21 13:00:00",
          "2025-03-21 14:00:00",
          "2025-03-21 15:00:00",
          "2025-03-21 16:00:00",
          "2025-03-21 17:00:00",
          "2025-03-21 18:00:00",
          "2025-03-21 19:00:00",
          "2025-03-21 20:00:00",
          "2025-03-21 21:00:00",
          "2025-03-21 22:00:00",
          "2025-03-21 23:00:00",
          "2025-03-22 00:00:00",
          "2025-03-22 01:00:00",
          "2025-03-22 02:00:00",
          "2025-03-22 03:00:00",
          "2025-03-22 04:00:00",
          "2025-03-22 05:00:00",
          "2025-03-22 06:00:00",
          "2025-03-22 07:00:00",
          "2025-03-22 08:00:00",
          "2025-03-22 09:00:00",
          "2025-03-22 10:00:00",
          "2025-03-22 11:00:00",
          "2025-03-22 12:00:00",
          "2025-03-22 13:00:00",
          "2025-03-22 14:00:00",
          "2025-03-22 15:00:00",
          "2025-03-22 16:00:00",
          "2025-03-22 17:00:00",
          "2025-03-22 18:00:00",
          "2025-03-22 19:00:00",
          "2025-03-22 20:00:00",
          "2025-03-22 21:00:00",
          "2025-03-22 22:00:00",
          "2025-03-22 23:00:00",
          "2025-03-23 00:00:00",
          "2025-03-23 01:00:00",
          "2025-03-23 02:00:00",
          "2025-03-23 03:00:00",
          "2025-03-23 04:00:00",
          "2025-03-23 05:00:00",
          "2025-03-23 06:00:00",
          "2025-03-23 07:00:00",
          "2025-03-23 08:00:00",
          "2025-03-23 09:00:00",
          "2025-03-23 10:00:00",
          "2025-03-23 11:00:00",
          "2025-03-23 12:00:00",
          "2025-03-23 13:00:00",
          "2025-03-23 14:00:00",
          "2025-03-23 15:00:00",
          "2025-03-23 16:00:00",
          "2025-03-23 17:00:00",
          "2025-03-23 18:00:00",
          "2025-03-23 19:00:00",
          "2025-03-23 20:00:00",
          "2025-03-23 21:00:00",
          "2025-03-23 22:00:00",
          "2025-03-23 23:00:00",
          "2025-03-24 00:00:00",
          "2025-03-24 01:00:00",
          "2025-03-24 02:00:00",
          "2025-03-24 03:00:00",
          "2025-03-24 04:00:00",
          "2025-03-24 05:00:00",
          "2025-03-24 06:00:00",
          "2025-03-24 07:00:00",
          "2025-03-24 08:00:00",
          "2025-03-24 09:00:00",
          "2025-03-24 10:00:00",
          "2025-03-24 11:00:00",
          "2025-03-24 12:00:00",
          "2025-03-24 13:00:00",
          "2025-03-24 14:00:00",
          "2025-03-24 15:00:00",
          "2025-03-24 16:00:00",
          "2025-03-24 17:00:00",
          "2025-03-24 18:00:00",
          "2025-03-24 19:00:00",
          "2025-03-24 20:00:00",
          "2025-03-24 21:00:00",
          "2025-03-24 22:00:00",
          "2025-03-24 23:00:00",
          "2025-03-25 00:00:00",
          "2025-03-25 01:00:00",
          "2025-03-25 02:00:00",
          "2025-03-25 03:00:00",
          "2025-03-25 04:00:00",
          "2025-03-25 05:00:00",
          "2025-03-25 06:00:00",
          "2025-03-25 07:00:00",
          "2025-03-25 08:00:00",
          "2025-03-25 09:00:00",
          "2025-03-25 10:00:00",
          "2025-03-25 11:00:00",
          "2025-03-25 12:00:00",
          "2025-03-25 13:00:00",
          "2025-03-25 14:00:00",
          "2025-03-25 15:00:00",
          "2025-03-25 16:00:00",
          "2025-03-25 17:00:00",
          "2025-03-25 18:00:00",
          "2025-03-25 19:00:00",
          "2025-03-25 20:00:00",
          "2025-03-25 21:00:00",
          "2025-03-25 22:00:00",
          "2025-03-25 23:00:00",
          "2025-03-26 00:00:00",
          "2025-03-26 01:00:00",
          "2025-03-26 02:00:00",
          "2025-03-26 03:00:00",
          "2025-03-26 04:00:00",
          "2025-03-26 05:00:00",
          "2025-03-26 06:00:00",
          "2025-03-26 07:00:00",
          "2025-03-26 08:00:00",
          "2025-03-26 09:00:00",
          "2025-03-26 10:00:00",
          "2025-03-26 11:00:00",
          "2025-03-26 12:00:00",
          "2025-03-26 13:00:00",
          "2025-03-26 14:00:00",
          "2025-03-26 15:00:00",
          "2025-03-26 16:00:00",
          "2025-03-26 17:00:00",
          "2025-03-26 18:00:00",
          "2025-03-26 19:00:00",
          "2025-03-26 20:00:00",
          "2025-03-26 21:00:00",
          "2025-03-26 22:00:00",
          "2025-03-26 23:00:00",
          "2025-03-27 00:00:00",
          "2025-03-27 01:00:00",
          "2025-03-27 02:00:00",
          "2025-03-27 03:00:00",
          "2025-03-27 04:00:00",
          "2025-03-27 05:00:00",
          "2025-03-27 06:00:00",
          "2025-03-27 07:00:00",
          "2025-03-27 08:00:00",
          "2025-03-27 09:00:00",
          "2025-03-27 10:00:00",
          "2025-03-27 11:00:00",
          "2025-03-27 12:00:00",
          "2025-03-27 13:00:00",
          "2025-03-27 14:00:00",
          "2025-03-27 15:00:00",
          "2025-03-27 16:00:00",
          "2025-03-27 17:00:00",
          "2025-03-27 18:00:00",
          "2025-03-27 19:00:00",
          "2025-03-27 20:00:00",
          "2025-03-27 21:00:00",
          "2025-03-27 22:00:00",
          "2025-03-27 23:00:00",
          "2025-03-28 00:00:00",
          "2025-03-28 01:00:00",
          "2025-03-28 02:00:00",
          "2025-03-28 03:00:00",
          "2025-03-28 04:00:00",
          "2025-03-28 05:00:00",
          "2025-03-28 06:00:00",
          "2025-03-28 07:00:00",
          "2025-03-28 08:00:00",
          "2025-03-28 09:00:00",
          "2025-03-28 10:00:00",
          "2025-03-28 11:00:00",
          "2025-03-28 12:00:00",
          "2025-03-28 13:00:00",
          "2025-03-28 14:00:00",
          "2025-03-28 15:00:00",
          "2025-03-28 16:00:00",
          "2025-03-28 17:00:00",
          "2025-03-28 18:00:00",
          "2025-03-28 19:00:00",
          "2025-03-28 20:00:00",
          "2025-03-28 21:00:00",
          "2025-03-28 22:00:00",
          "2025-03-28 23:00:00",
          "2025-03-29 00:00:00",
          "2025-03-29 01:00:00",
          "2025-03-29 02:00:00",
          "2025-03-29 03:00:00",
          "2025-03-29 04:00:00",
          "2025-03-29 05:00:00",
          "2025-03-29 06:00:00",
          "2025-03-29 07:00:00",
          "2025-03-29 08:00:00",
          "2025-03-29 09:00:00",
          "2025-03-29 10:00:00",
          "2025-03-29 11:00:00",
          "2025-03-29 12:00:00",
          "2025-03-29 13:00:00",
          "2025-03-29 14:00:00",
          "2025-03-29 15:00:00",
          "2025-03-29 16:00:00",
          "2025-03-29 17:00:00",
          "2025-03-29 18:00:00",
          "2025-03-29 19:00:00",
          "2025-03-29 20:00:00",
          "2025-03-29 21:00:00",
          "2025-03-29 22:00:00",
          "2025-03-29 23:00:00",
          "2025-03-30 00:00:00",
          "2025-03-30 01:00:00",
          "2025-03-30 02:00:00",
          "2025-03-30 03:00:00",
          "2025-03-30 04:00:00",
          "2025-03-30 05:00:00",
          "2025-03-30 06:00:00",
          "2025-03-30 07:00:00",
          "2025-03-30 08:00:00",
          "2025-03-30 09:00:00",
          "2025-03-30 10:00:00",
          "2025-03-30 11:00:00",
          "2025-03-30 12:00:00",
          "2025-03-30 13:00:00",
          "2025-03-30 14:00:00",
          "2025-03-30 15:00:00",
          "2025-03-30 16:00:00",
          "2025-03-30 17:00:00",
          "2025-03-30 18:00:00",
          "2025-03-30 19:00:00",
          "2025-03-30 20:00:00",
          "2025-03-30 21:00:00",
          "2025-03-30 22:00:00",
          "2025-03-30 23:00:00",
          "2025-03-31 00:00:00",
          "2025-03-31 01:00:00",
          "2025-03-31 02:00:00",
          "2025-03-31 03:00:00",
          "2025-03-31 04:00:00",
          "2025-03-31 05:00:00",
          "2025-03-31 06:00:00",
          "2025-03-31 07:00:00",
          "2025-03-31 08:00:00",
          "2025-03-31 09:00:00",
          "2025-03-31 10:00:00",
          "2025-03-31 11:00:00",
          "2025-03-31 12:00:00",
          "2025-03-31 13:00:00",
          "2025-03-31 14:00:00",
          "2025-03-31 15:00:00",
          "2025-03-31 16:00:00",
          "2025-03-31 17:00:00",
          "2025-03-31 18:00:00",
          "2025-03-31 19:00:00",
          "2025-03-31 20:00:00",
          "2025-03-31 21:00:00",
          "2025-03-31 22:00:00",
          "2025-03-31 23:00:00",
          "2025-04-01 00:00:00",
          "2025-04-01 01:00:00",
          "2025-04-01 02:00:00",
          "2025-04-01 03:00:00",
          "2025-04-01 04:00:00",
          "2025-04-01 05:00:00",
          "2025-04-01 06:00:00",
          "2025-04-01 07:00:00",
          "2025-04-01 08:00:00",
          "2025-04-01 09:00:00",
          "2025-04-01 10:00:00",
          "2025-04-01 11:00:00",
          "2025-04-01 12:00:00",
          "2025-04-01 13:00:00",
          "2025-04-01 14:00:00",
          "2025-04-01 15:00:00",
          "2025-04-01 16:00:00",
          "2025-04-01 17:00:00",
          "2025-04-01 18:00:00",
          "2025-04-01 19:00:00",
          "2025-04-01 20:00:00",
          "2025-04-01 21:00:00",
          "2025-04-01 22:00:00",
          "2025-04-01 23:00:00",
          "2025-04-02 00:00:00",
          "2025-04-02 01:00:00",
          "2025-04-02 02:00:00",
          "2025-04-02 03:00:00",
          "2025-04-02 04:00:00",
          "2025-04-02 05:00:00",
          "2025-04-02 06:00:00",
          "2025-04-02 07:00:00",
          "2025-04-02 08:00:00",
          "2025-04-02 09:00:00",
          "2025-04-02 10:00:00",
          "2025-04-02 11:00:00",
          "2025-04-02 12:00:00",
          "2025-04-02 13:00:00",
          "2025-04-02 14:00:00",
          "2025-04-02 15:00:00",
          "2025-04-02 16:00:00",
          "2025-04-02 17:00:00",
          "2025-04-02 18:00:00",
          "2025-04-02 19:00:00",
          "2025-04-02 20:00:00",
          "2025-04-02 21:00:00",
          "2025-04-02 22:00:00",
          "2025-04-02 23:00:00",
          "2025-04-03 00:00:00",
          "2025-04-03 01:00:00",
          "2025-04-03 02:00:00",
          "2025-04-03 03:00:00",
          "2025-04-03 04:00:00",
          "2025-04-03 05:00:00",
          "2025-04-03 06:00:00",
          "2025-04-03 07:00:00"
         ],
         "y": [
          21.281538461538464,
          21.242857142857144,
          21.18230769230769,
          21.156428571428574,
          21.158461538461534,
          21.164285714285715,
          21.160000000000004,
          21.176428571428573,
          21.234615384615385,
          21.43642857142857,
          21.61846153846153,
          21.711428571428577,
          23.484615384615388,
          23.619285714285716,
          23.313076923076924,
          23.195,
          23.198461538461537,
          23.170000000000005,
          23.157692307692308,
          23.154285714285717,
          23.239230769230772,
          23.28357142857143,
          23.201538461538462,
          23.15571428571429,
          23.138461538461538,
          23.12642857142857,
          23.114615384615387,
          23.210714285714282,
          23.52461538461539,
          23.270000000000003,
          23.383846153846157,
          23.458571428571425,
          23.49615384615385,
          23.744285714285716,
          23.454615384615387,
          23.853571428571428,
          25.16692307692308,
          26.010714285714283,
          26.083846153846153,
          24.807857142857145,
          23.93307692307692,
          23.041428571428572,
          22.496923076923075,
          22.12357142857143,
          21.91692307692308,
          21.775714285714283,
          21.661538461538452,
          21.637857142857147,
          21.66615384615385,
          21.634285714285713,
          21.61000000000001,
          21.575714285714284,
          21.505384615384614,
          21.437142857142856,
          21.415384615384614,
          21.49571428571429,
          21.696153846153845,
          22.041428571428565,
          22.116153846153846,
          21.975,
          22.126923076923074,
          22.197142857142854,
          21.91692307692308,
          21.66142857142857,
          21.481538461538463,
          21.565714285714282,
          21.56,
          21.534285714285716,
          21.466923076923077,
          21.41,
          21.356153846153845,
          21.31714285714286,
          21.287692307692307,
          21.280714285714282,
          21.24615384615384,
          21.22785714285715,
          21.215384615384615,
          21.197142857142858,
          21.235384615384614,
          21.335,
          21.207692307692305,
          21.60214285714286,
          21.568461538461538,
          21.751428571428576,
          21.643076923076926,
          21.631428571428565,
          21.61076923076924,
          21.573571428571423,
          21.520769230769233,
          21.33142857142857,
          21.185384615384613,
          21.24571428571429,
          21.156153846153842,
          21.138571428571428,
          21.13230769230769,
          21.127142857142864,
          21.135384615384613,
          21.12142857142857,
          21.133846153846157,
          21.125,
          21.113846153846158,
          21.11571428571429,
          21.320769230769233,
          22.05857142857143,
          22.509230769230765,
          22.349285714285717,
          22.09076923076924,
          21.911428571428566,
          21.77692307692308,
          21.705714285714286,
          21.707692307692298,
          21.688571428571436,
          21.651538461538454,
          21.507857142857148,
          21.26923076923077,
          21.152142857142856,
          21.195384615384608,
          21.152857142857147,
          21.144615384615385,
          21.122142857142855,
          21.125384615384615,
          21.125,
          21.126153846153844,
          21.13285714285714,
          21.136923076923075,
          21.15142857142857,
          21.160769230769233,
          21.19,
          21.232307692307693,
          21.25214285714285,
          21.26,
          21.29357142857143,
          21.349230769230765,
          21.403571428571436,
          21.464615384615378,
          21.504285714285718,
          21.363076923076925,
          21.205,
          21.139230769230775,
          21.138571428571428,
          21.119230769230768,
          21.10428571428572,
          21.11,
          21.094285714285718,
          21.1,
          21.085,
          21.09307692307692,
          21.112142857142853,
          21.11384615384615,
          21.148571428571433,
          21.380000000000006,
          22.296428571428574,
          23.24692307692308,
          22.713571428571424,
          22.634615384615394,
          21.92,
          22.50076923076923,
          22.255000000000006,
          22.146923076923073,
          21.657857142857146,
          21.496923076923075,
          21.479285714285712,
          21.395384615384614,
          21.44571428571428,
          21.27153846153846,
          21.19142857142857,
          21.200769230769232,
          21.142857142857142,
          21.13615384615385,
          21.12642857142857,
          21.12,
          21.13714285714285,
          21.14923076923077,
          21.15642857142857,
          21.196153846153848,
          21.260714285714286,
          21.92615384615384,
          22.60857142857143,
          22.002307692307692,
          21.785000000000004,
          21.79076923076923,
          21.739285714285714,
          21.903076923076924,
          22.03,
          21.87461538461539,
          21.805714285714288,
          21.63230769230769,
          21.52642857142857,
          21.398461538461547,
          21.32785714285714,
          21.292307692307688,
          21.20571428571429,
          21.163846153846155,
          21.144285714285708,
          21.141538461538467,
          21.17142857142857,
          21.17230769230769,
          21.173571428571428,
          21.19076923076923,
          21.368571428571435,
          21.46076923076923,
          20.963571428571434,
          21.907692307692304,
          22.724285714285717,
          22.40615384615385,
          22.59857142857143,
          22.841538461538462,
          22.74857142857143,
          22.450000000000006,
          22.177142857142854,
          21.94,
          21.698571428571423,
          21.533846153846156,
          21.35214285714286,
          21.200769230769232,
          21.245,
          21.158461538461534,
          21.165,
          21.156923076923075,
          21.155,
          21.125384615384615,
          21.155,
          21.48692307692307,
          22.27642857142857,
          23.350769230769227,
          23.832857142857147,
          23.71923076923077,
          22.527142857142852,
          21.810769230769235,
          22.165714285714284,
          22.150769230769235,
          22.084285714285713,
          21.955384615384613,
          21.53923076923077,
          21.452857142857138,
          20.986153846153847,
          20.462857142857143,
          19.933846153846158,
          19.969285714285714,
          19.9,
          19.45642857142857,
          19.153076923076924,
          19.14928571428572,
          18.973076923076924,
          19.263076923076927,
          19.412142857142857,
          19.787692307692307,
          20.791428571428565,
          21.836923076923078,
          22.20714285714286,
          22.314615384615394,
          21.94142857142857,
          21.889230769230767,
          21.616923076923076,
          21.631428571428575,
          21.730769230769234,
          21.799285714285716,
          21.706153846153846,
          21.601428571428567,
          21.43230769230769,
          21.29642857142857,
          21.153846153846157,
          21.076428571428572,
          20.958461538461545,
          20.858571428571427,
          20.771538461538466,
          20.677857142857142,
          20.630769230769232,
          20.605384615384608,
          20.594285714285714,
          20.97846153846154,
          21.834285714285713,
          22.167692307692317,
          22.064285714285717,
          21.855384615384622,
          21.70357142857143,
          21.63153846153846,
          21.622142857142855,
          21.626153846153844,
          21.61500000000001,
          21.577692307692303,
          21.455000000000005,
          21.232307692307696,
          21.109285714285715,
          20.986153846153847,
          20.878571428571426,
          20.817692307692308,
          20.76214285714286,
          20.72692307692307,
          20.687142857142856,
          20.638461538461534,
          20.61071428571429,
          20.583846153846157,
          20.565714285714282,
          20.693076923076926,
          21.31357142857143,
          21.70846153846153,
          21.688571428571436,
          21.61076923076924,
          21.552857142857146,
          21.513846153846153,
          21.525,
          21.537692307692303,
          21.515,
          21.42538461538461,
          21.27571428571429,
          21.115384615384613,
          20.982142857142858,
          20.856923076923074,
          20.75428571428571,
          20.66846153846154,
          20.613571428571426,
          20.595384615384614,
          20.55857142857143,
          20.532307692307693,
          20.507142857142856,
          20.49153846153846,
          20.51571428571429,
          20.62,
          20.866428571428575,
          21.353076923076923,
          21.891428571428577,
          22.127692307692318,
          21.627857142857145,
          21.606153846153845,
          21.63,
          22.076153846153847,
          22.472857142857148,
          21.920769230769228,
          21.532857142857146,
          21.244615384615386,
          21.10714285714285,
          21.156153846153842,
          21.15285714285714,
          21.13615384615385,
          21.12071428571429,
          21.097692307692302,
          21.071428571428573,
          21.02384615384615,
          20.98928571428572,
          21.00384615384616,
          21.021428571428565,
          21.032307692307693,
          21.176428571428573,
          21.470769230769232,
          22.086428571428577,
          22.32,
          21.897142857142853,
          21.98692307692308,
          22.062857142857148,
          21.960769230769237,
          21.845714285714283,
          21.533076923076926,
          21.35214285714286,
          21.235384615384614,
          21.17714285714285,
          21.25769230769231,
          21.296923076923076,
          21.326428571428565,
          21.31615384615385,
          21.31142857142857,
          21.286153846153848,
          21.255714285714287,
          21.236923076923077,
          21.22928571428572,
          21.229230769230767,
          21.515,
          22.179230769230767,
          22.944285714285716,
          23.376153846153844,
          23.17142857142857,
          22.641538461538463,
          22.544285714285717,
          22.61692307692308,
          22.76928571428572,
          23.11615384615385,
          22.99357142857143,
          22.70923076923077,
          22.05428571428572,
          21.733076923076922,
          21.59642857142857,
          21.422307692307697,
          21.327857142857145,
          21.413846153846155,
          21.448571428571427,
          21.43230769230769,
          21.388571428571428,
          21.38615384615385,
          21.40357142857143,
          21.426923076923075,
          21.446428571428573,
          21.548461538461538,
          21.645000000000003,
          22.56384615384616,
          23.032857142857146,
          22.72384615384616,
          22.775714285714287,
          23.700000000000006,
          23.917857142857148,
          23.33461538461539,
          22.774285714285718,
          22.399230769230773,
          22.145000000000003,
          22.080769230769228,
          22.042857142857148,
          21.97,
          21.875714285714288,
          21.812307692307687,
          21.736428571428565,
          21.664615384615388,
          21.632857142857148,
          21.601538461538453,
          21.575,
          21.601538461538453,
          22.215714285714288,
          23.14692307692308,
          23.702857142857145,
          23.800769230769234,
          23.625714285714285,
          23.173076923076927,
          23.15357142857143,
          23.21076923076923,
          23.172142857142855,
          23.108461538461537,
          23.085000000000004,
          22.93461538461539,
          22.73,
          22.552307692307693,
          22.381428571428575,
          22.19461538461539,
          22.092857142857138,
          21.996923076923075,
          21.873571428571424,
          21.787692307692307,
          21.692142857142862,
          21.635384615384613,
          21.616428571428575,
          21.595384615384614,
          21.624285714285715,
          21.728461538461538,
          21.849285714285717,
          22.03076923076923,
          22.208571428571425,
          22.336153846153845,
          22.381428571428575,
          22.461538461538463,
          22.53571428571429,
          22.554615384615378,
          22.562142857142863,
          22.465384615384608,
          22.271428571428565,
          22.10461538461539,
          21.954285714285714,
          21.814615384615387,
          21.705000000000005,
          21.62384615384616,
          21.572857142857146,
          21.502307692307692,
          21.44214285714286,
          21.390769230769234,
          21.377857142857145,
          21.358461538461533,
          21.357142857142858,
          21.35,
          21.358571428571434,
          21.441538461538453,
          21.687142857142852,
          22.003076923076925,
          22.102857142857147,
          22.100769230769227,
          22.113571428571426,
          22.127692307692307,
          22.101428571428567,
          21.983846153846148,
          21.84357142857143,
          21.733076923076922,
          21.659285714285712,
          21.61692307692308,
          21.578571428571426,
          21.497692307692304,
          21.420000000000005,
          21.395384615384614,
          21.353571428571428,
          21.305384615384614,
          21.28928571428571,
          21.284615384615385,
          21.38785714285714,
          21.494615384615386,
          21.935714285714287,
          22.11076923076923,
          21.819285714285716,
          21.913846153846155,
          22.067857142857147,
          22.49230769230769,
          22.603571428571428,
          22.17230769230769,
          22.115714285714287,
          22.09,
          22.46857142857143,
          22.11384615384615,
          21.817857142857147,
          21.592307692307696,
          21.35071428571429,
          21.19230769230769,
          21.27928571428572,
          21.154615384615386,
          21.28428571428572,
          21.14923076923077,
          21.25571428571428,
          21.438461538461546,
          22.49571428571429,
          23.832307692307698,
          24.74,
          24.47230769230769,
          23.69214285714286,
          23.561538461538454,
          24.095714285714287,
          23.70923076923077,
          23.36785714285714,
          22.99230769230769,
          22.562142857142852,
          22.285384615384622,
          22.045714285714286,
          22.02769230769231,
          22.193571428571424,
          22.141538461538463,
          22.0892857142857,
          22.02230769230769,
          21.930714285714284,
          21.847692307692302,
          21.779285714285717,
          21.701538461538462,
          21.649285714285718,
          21.906923076923075,
          22.982142857142854,
          24.031538461538464,
          24.504999999999995,
          24.440000000000005,
          24.15142857142857,
          24.274615384615387,
          24.291428571428572,
          23.708461538461545,
          23.447857142857142,
          23.23692307692308,
          23.03642857142857,
          22.78076923076923,
          22.48785714285714,
          22.338461538461537,
          22.27,
          22.14076923076923,
          22.057142857142853,
          21.934615384615388,
          21.825714285714284,
          21.716153846153844,
          21.647857142857145,
          21.586923076923078,
          21.49642857142857,
          21.77076923076923,
          23.00428571428571,
          24.145
         ]
        },
        {
         "marker": {
          "color": "green",
          "size": 10
         },
         "mode": "markers",
         "name": "Correct (1 predicted as 1)",
         "type": "scatter",
         "x": [
          "2025-03-20 20:00:00",
          "2025-03-20 21:00:00",
          "2025-03-20 22:00:00",
          "2025-03-20 23:00:00",
          "2025-03-21 00:00:00",
          "2025-03-21 01:00:00",
          "2025-03-21 02:00:00",
          "2025-03-21 03:00:00",
          "2025-03-21 04:00:00",
          "2025-03-21 05:00:00",
          "2025-03-21 06:00:00"
         ],
         "y": [
          20.462857142857143,
          19.933846153846158,
          19.969285714285714,
          19.9,
          19.45642857142857,
          19.153076923076924,
          19.14928571428572,
          18.973076923076924,
          19.263076923076927,
          19.412142857142857,
          19.787692307692307
         ]
        },
        {
         "marker": {
          "color": "red",
          "size": 10,
          "symbol": "x"
         },
         "mode": "markers",
         "name": "False Negative (1 predicted as 0)",
         "type": "scatter",
         "x": [
          "2025-03-19 08:00:00",
          "2025-03-19 09:00:00",
          "2025-03-19 10:00:00",
          "2025-03-19 11:00:00",
          "2025-03-20 17:00:00",
          "2025-03-20 18:00:00",
          "2025-03-20 19:00:00",
          "2025-03-21 07:00:00"
         ],
         "y": [
          21.46076923076923,
          20.963571428571434,
          21.907692307692304,
          22.724285714285717,
          21.53923076923077,
          21.452857142857138,
          20.986153846153847,
          20.791428571428565
         ]
        },
        {
         "marker": {
          "color": "orange",
          "size": 10,
          "symbol": "triangle-up"
         },
         "mode": "markers",
         "name": "False Positive (0 predicted as 1)",
         "type": "scatter",
         "x": [
          "2025-03-24 02:00:00",
          "2025-03-24 03:00:00",
          "2025-03-24 04:00:00",
          "2025-03-24 05:00:00"
         ],
         "y": [
          20.532307692307693,
          20.507142857142856,
          20.49153846153846,
          20.51571428571429
         ]
        }
       ],
       "layout": {
        "height": 500,
        "legend": {
         "title": {
          "text": "Legend"
         }
        },
        "template": {
         "data": {
          "bar": [
           {
            "error_x": {
             "color": "#2a3f5f"
            },
            "error_y": {
             "color": "#2a3f5f"
            },
            "marker": {
             "line": {
              "color": "#E5ECF6",
              "width": 0.5
             },
             "pattern": {
              "fillmode": "overlay",
              "size": 10,
              "solidity": 0.2
             }
            },
            "type": "bar"
           }
          ],
          "barpolar": [
           {
            "marker": {
             "line": {
              "color": "#E5ECF6",
              "width": 0.5
             },
             "pattern": {
              "fillmode": "overlay",
              "size": 10,
              "solidity": 0.2
             }
            },
            "type": "barpolar"
           }
          ],
          "carpet": [
           {
            "aaxis": {
             "endlinecolor": "#2a3f5f",
             "gridcolor": "white",
             "linecolor": "white",
             "minorgridcolor": "white",
             "startlinecolor": "#2a3f5f"
            },
            "baxis": {
             "endlinecolor": "#2a3f5f",
             "gridcolor": "white",
             "linecolor": "white",
             "minorgridcolor": "white",
             "startlinecolor": "#2a3f5f"
            },
            "type": "carpet"
           }
          ],
          "choropleth": [
           {
            "colorbar": {
             "outlinewidth": 0,
             "ticks": ""
            },
            "type": "choropleth"
           }
          ],
          "contour": [
           {
            "colorbar": {
             "outlinewidth": 0,
             "ticks": ""
            },
            "colorscale": [
             [
              0,
              "#0d0887"
             ],
             [
              0.1111111111111111,
              "#46039f"
             ],
             [
              0.2222222222222222,
              "#7201a8"
             ],
             [
              0.3333333333333333,
              "#9c179e"
             ],
             [
              0.4444444444444444,
              "#bd3786"
             ],
             [
              0.5555555555555556,
              "#d8576b"
             ],
             [
              0.6666666666666666,
              "#ed7953"
             ],
             [
              0.7777777777777778,
              "#fb9f3a"
             ],
             [
              0.8888888888888888,
              "#fdca26"
             ],
             [
              1,
              "#f0f921"
             ]
            ],
            "type": "contour"
           }
          ],
          "contourcarpet": [
           {
            "colorbar": {
             "outlinewidth": 0,
             "ticks": ""
            },
            "type": "contourcarpet"
           }
          ],
          "heatmap": [
           {
            "colorbar": {
             "outlinewidth": 0,
             "ticks": ""
            },
            "colorscale": [
             [
              0,
              "#0d0887"
             ],
             [
              0.1111111111111111,
              "#46039f"
             ],
             [
              0.2222222222222222,
              "#7201a8"
             ],
             [
              0.3333333333333333,
              "#9c179e"
             ],
             [
              0.4444444444444444,
              "#bd3786"
             ],
             [
              0.5555555555555556,
              "#d8576b"
             ],
             [
              0.6666666666666666,
              "#ed7953"
             ],
             [
              0.7777777777777778,
              "#fb9f3a"
             ],
             [
              0.8888888888888888,
              "#fdca26"
             ],
             [
              1,
              "#f0f921"
             ]
            ],
            "type": "heatmap"
           }
          ],
          "heatmapgl": [
           {
            "colorbar": {
             "outlinewidth": 0,
             "ticks": ""
            },
            "colorscale": [
             [
              0,
              "#0d0887"
             ],
             [
              0.1111111111111111,
              "#46039f"
             ],
             [
              0.2222222222222222,
              "#7201a8"
             ],
             [
              0.3333333333333333,
              "#9c179e"
             ],
             [
              0.4444444444444444,
              "#bd3786"
             ],
             [
              0.5555555555555556,
              "#d8576b"
             ],
             [
              0.6666666666666666,
              "#ed7953"
             ],
             [
              0.7777777777777778,
              "#fb9f3a"
             ],
             [
              0.8888888888888888,
              "#fdca26"
             ],
             [
              1,
              "#f0f921"
             ]
            ],
            "type": "heatmapgl"
           }
          ],
          "histogram": [
           {
            "marker": {
             "pattern": {
              "fillmode": "overlay",
              "size": 10,
              "solidity": 0.2
             }
            },
            "type": "histogram"
           }
          ],
          "histogram2d": [
           {
            "colorbar": {
             "outlinewidth": 0,
             "ticks": ""
            },
            "colorscale": [
             [
              0,
              "#0d0887"
             ],
             [
              0.1111111111111111,
              "#46039f"
             ],
             [
              0.2222222222222222,
              "#7201a8"
             ],
             [
              0.3333333333333333,
              "#9c179e"
             ],
             [
              0.4444444444444444,
              "#bd3786"
             ],
             [
              0.5555555555555556,
              "#d8576b"
             ],
             [
              0.6666666666666666,
              "#ed7953"
             ],
             [
              0.7777777777777778,
              "#fb9f3a"
             ],
             [
              0.8888888888888888,
              "#fdca26"
             ],
             [
              1,
              "#f0f921"
             ]
            ],
            "type": "histogram2d"
           }
          ],
          "histogram2dcontour": [
           {
            "colorbar": {
             "outlinewidth": 0,
             "ticks": ""
            },
            "colorscale": [
             [
              0,
              "#0d0887"
             ],
             [
              0.1111111111111111,
              "#46039f"
             ],
             [
              0.2222222222222222,
              "#7201a8"
             ],
             [
              0.3333333333333333,
              "#9c179e"
             ],
             [
              0.4444444444444444,
              "#bd3786"
             ],
             [
              0.5555555555555556,
              "#d8576b"
             ],
             [
              0.6666666666666666,
              "#ed7953"
             ],
             [
              0.7777777777777778,
              "#fb9f3a"
             ],
             [
              0.8888888888888888,
              "#fdca26"
             ],
             [
              1,
              "#f0f921"
             ]
            ],
            "type": "histogram2dcontour"
           }
          ],
          "mesh3d": [
           {
            "colorbar": {
             "outlinewidth": 0,
             "ticks": ""
            },
            "type": "mesh3d"
           }
          ],
          "parcoords": [
           {
            "line": {
             "colorbar": {
              "outlinewidth": 0,
              "ticks": ""
             }
            },
            "type": "parcoords"
           }
          ],
          "pie": [
           {
            "automargin": true,
            "type": "pie"
           }
          ],
          "scatter": [
           {
            "fillpattern": {
             "fillmode": "overlay",
             "size": 10,
             "solidity": 0.2
            },
            "type": "scatter"
           }
          ],
          "scatter3d": [
           {
            "line": {
             "colorbar": {
              "outlinewidth": 0,
              "ticks": ""
             }
            },
            "marker": {
             "colorbar": {
              "outlinewidth": 0,
              "ticks": ""
             }
            },
            "type": "scatter3d"
           }
          ],
          "scattercarpet": [
           {
            "marker": {
             "colorbar": {
              "outlinewidth": 0,
              "ticks": ""
             }
            },
            "type": "scattercarpet"
           }
          ],
          "scattergeo": [
           {
            "marker": {
             "colorbar": {
              "outlinewidth": 0,
              "ticks": ""
             }
            },
            "type": "scattergeo"
           }
          ],
          "scattergl": [
           {
            "marker": {
             "colorbar": {
              "outlinewidth": 0,
              "ticks": ""
             }
            },
            "type": "scattergl"
           }
          ],
          "scattermapbox": [
           {
            "marker": {
             "colorbar": {
              "outlinewidth": 0,
              "ticks": ""
             }
            },
            "type": "scattermapbox"
           }
          ],
          "scatterpolar": [
           {
            "marker": {
             "colorbar": {
              "outlinewidth": 0,
              "ticks": ""
             }
            },
            "type": "scatterpolar"
           }
          ],
          "scatterpolargl": [
           {
            "marker": {
             "colorbar": {
              "outlinewidth": 0,
              "ticks": ""
             }
            },
            "type": "scatterpolargl"
           }
          ],
          "scatterternary": [
           {
            "marker": {
             "colorbar": {
              "outlinewidth": 0,
              "ticks": ""
             }
            },
            "type": "scatterternary"
           }
          ],
          "surface": [
           {
            "colorbar": {
             "outlinewidth": 0,
             "ticks": ""
            },
            "colorscale": [
             [
              0,
              "#0d0887"
             ],
             [
              0.1111111111111111,
              "#46039f"
             ],
             [
              0.2222222222222222,
              "#7201a8"
             ],
             [
              0.3333333333333333,
              "#9c179e"
             ],
             [
              0.4444444444444444,
              "#bd3786"
             ],
             [
              0.5555555555555556,
              "#d8576b"
             ],
             [
              0.6666666666666666,
              "#ed7953"
             ],
             [
              0.7777777777777778,
              "#fb9f3a"
             ],
             [
              0.8888888888888888,
              "#fdca26"
             ],
             [
              1,
              "#f0f921"
             ]
            ],
            "type": "surface"
           }
          ],
          "table": [
           {
            "cells": {
             "fill": {
              "color": "#EBF0F8"
             },
             "line": {
              "color": "white"
             }
            },
            "header": {
             "fill": {
              "color": "#C8D4E3"
             },
             "line": {
              "color": "white"
             }
            },
            "type": "table"
           }
          ]
         },
         "layout": {
          "annotationdefaults": {
           "arrowcolor": "#2a3f5f",
           "arrowhead": 0,
           "arrowwidth": 1
          },
          "autotypenumbers": "strict",
          "coloraxis": {
           "colorbar": {
            "outlinewidth": 0,
            "ticks": ""
           }
          },
          "colorscale": {
           "diverging": [
            [
             0,
             "#8e0152"
            ],
            [
             0.1,
             "#c51b7d"
            ],
            [
             0.2,
             "#de77ae"
            ],
            [
             0.3,
             "#f1b6da"
            ],
            [
             0.4,
             "#fde0ef"
            ],
            [
             0.5,
             "#f7f7f7"
            ],
            [
             0.6,
             "#e6f5d0"
            ],
            [
             0.7,
             "#b8e186"
            ],
            [
             0.8,
             "#7fbc41"
            ],
            [
             0.9,
             "#4d9221"
            ],
            [
             1,
             "#276419"
            ]
           ],
           "sequential": [
            [
             0,
             "#0d0887"
            ],
            [
             0.1111111111111111,
             "#46039f"
            ],
            [
             0.2222222222222222,
             "#7201a8"
            ],
            [
             0.3333333333333333,
             "#9c179e"
            ],
            [
             0.4444444444444444,
             "#bd3786"
            ],
            [
             0.5555555555555556,
             "#d8576b"
            ],
            [
             0.6666666666666666,
             "#ed7953"
            ],
            [
             0.7777777777777778,
             "#fb9f3a"
            ],
            [
             0.8888888888888888,
             "#fdca26"
            ],
            [
             1,
             "#f0f921"
            ]
           ],
           "sequentialminus": [
            [
             0,
             "#0d0887"
            ],
            [
             0.1111111111111111,
             "#46039f"
            ],
            [
             0.2222222222222222,
             "#7201a8"
            ],
            [
             0.3333333333333333,
             "#9c179e"
            ],
            [
             0.4444444444444444,
             "#bd3786"
            ],
            [
             0.5555555555555556,
             "#d8576b"
            ],
            [
             0.6666666666666666,
             "#ed7953"
            ],
            [
             0.7777777777777778,
             "#fb9f3a"
            ],
            [
             0.8888888888888888,
             "#fdca26"
            ],
            [
             1,
             "#f0f921"
            ]
           ]
          },
          "colorway": [
           "#636efa",
           "#EF553B",
           "#00cc96",
           "#ab63fa",
           "#FFA15A",
           "#19d3f3",
           "#FF6692",
           "#B6E880",
           "#FF97FF",
           "#FECB52"
          ],
          "font": {
           "color": "#2a3f5f"
          },
          "geo": {
           "bgcolor": "white",
           "lakecolor": "white",
           "landcolor": "#E5ECF6",
           "showlakes": true,
           "showland": true,
           "subunitcolor": "white"
          },
          "hoverlabel": {
           "align": "left"
          },
          "hovermode": "closest",
          "mapbox": {
           "style": "light"
          },
          "paper_bgcolor": "white",
          "plot_bgcolor": "#E5ECF6",
          "polar": {
           "angularaxis": {
            "gridcolor": "white",
            "linecolor": "white",
            "ticks": ""
           },
           "bgcolor": "#E5ECF6",
           "radialaxis": {
            "gridcolor": "white",
            "linecolor": "white",
            "ticks": ""
           }
          },
          "scene": {
           "xaxis": {
            "backgroundcolor": "#E5ECF6",
            "gridcolor": "white",
            "gridwidth": 2,
            "linecolor": "white",
            "showbackground": true,
            "ticks": "",
            "zerolinecolor": "white"
           },
           "yaxis": {
            "backgroundcolor": "#E5ECF6",
            "gridcolor": "white",
            "gridwidth": 2,
            "linecolor": "white",
            "showbackground": true,
            "ticks": "",
            "zerolinecolor": "white"
           },
           "zaxis": {
            "backgroundcolor": "#E5ECF6",
            "gridcolor": "white",
            "gridwidth": 2,
            "linecolor": "white",
            "showbackground": true,
            "ticks": "",
            "zerolinecolor": "white"
           }
          },
          "shapedefaults": {
           "line": {
            "color": "#2a3f5f"
           }
          },
          "ternary": {
           "aaxis": {
            "gridcolor": "white",
            "linecolor": "white",
            "ticks": ""
           },
           "baxis": {
            "gridcolor": "white",
            "linecolor": "white",
            "ticks": ""
           },
           "bgcolor": "#E5ECF6",
           "caxis": {
            "gridcolor": "white",
            "linecolor": "white",
            "ticks": ""
           }
          },
          "title": {
           "x": 0.05
          },
          "xaxis": {
           "automargin": true,
           "gridcolor": "white",
           "linecolor": "white",
           "ticks": "",
           "title": {
            "standoff": 15
           },
           "zerolinecolor": "white",
           "zerolinewidth": 2
          },
          "yaxis": {
           "automargin": true,
           "gridcolor": "white",
           "linecolor": "white",
           "ticks": "",
           "title": {
            "standoff": 15
           },
           "zerolinecolor": "white",
           "zerolinewidth": 2
          }
         }
        },
        "title": {
         "text": "Temperatures in meeting room & Prediction Markers for fault 1"
        },
        "width": 800,
        "xaxis": {
         "title": {
          "text": "Time"
         }
        },
        "yaxis": {
         "title": {
          "text": "Temperature (°C)"
         }
        }
       }
      }
     },
     "metadata": {},
     "output_type": "display_data"
    }
   ],
   "source": [
    "fig = go.Figure()\n",
    "\n",
    "# Base temperature curve\n",
    "fig.add_trace(go.Scatter(\n",
    "    x=df_engen['Time'], \n",
    "    y=df_engen[test_temp], \n",
    "    mode='lines', \n",
    "    name='Mean air temperature'\n",
    "))\n",
    "\n",
    "# Convert y_pred to a Pandas Series with the correct index\n",
    "y_pred_series = pd.Series(y_pred, index=test_y.index)\n",
    "\n",
    "# Find indices for different cases\n",
    "correct_1_indices = (test_y == 1) & (y_pred_series == 1)  # True 1, Pred 1 -> Green\n",
    "false_negative_indices = (test_y == 1) & (y_pred_series == 0)  # True 1, Pred 0 -> Red\n",
    "false_positive_indices = (test_y == 0) & (y_pred_series == 1)  # True 0, Pred 1 -> Orange\n",
    "\n",
    "# Extract timestamps\n",
    "correct_1_timestamps = df_engen.loc[test_y.index, 'Time'][correct_1_indices]\n",
    "false_negative_timestamps = df_engen.loc[test_y.index, 'Time'][false_negative_indices]\n",
    "false_positive_timestamps = df_engen.loc[test_y.index, 'Time'][false_positive_indices]\n",
    "\n",
    "# Extract corresponding temperatures\n",
    "correct_1_temps = df_engen.loc[test_y.index, test_temp][correct_1_indices]\n",
    "false_negative_temps = df_engen.loc[test_y.index, test_temp][false_negative_indices]\n",
    "false_positive_temps = df_engen.loc[test_y.index, test_temp][false_positive_indices]\n",
    "\n",
    "# Add markers for correct predictions (Green)\n",
    "fig.add_trace(go.Scatter(\n",
    "    x=correct_1_timestamps,\n",
    "    y=correct_1_temps,\n",
    "    mode='markers',\n",
    "    marker=dict(color='green', size=10),\n",
    "    name='Correct (1 predicted as 1)'\n",
    "))\n",
    "\n",
    "# Add markers for false negatives (Red)\n",
    "fig.add_trace(go.Scatter(\n",
    "    x=false_negative_timestamps,\n",
    "    y=false_negative_temps,\n",
    "    mode='markers',\n",
    "    marker=dict(color='red', size=10, symbol='x'),\n",
    "    name='False Negative (1 predicted as 0)'\n",
    "))\n",
    "\n",
    "# Add markers for false positives (Orange)\n",
    "fig.add_trace(go.Scatter(\n",
    "    x=false_positive_timestamps,\n",
    "    y=false_positive_temps,\n",
    "    mode='markers',\n",
    "    marker=dict(color='orange', size=10, symbol='triangle-up'),\n",
    "    name='False Positive (0 predicted as 1)'\n",
    "))\n",
    "\n",
    "# Customize layout\n",
    "fig.update_layout(\n",
    "    title=\"Temperatures in meeting room & Prediction Markers for fault 1\",\n",
    "    xaxis_title=\"Time\",\n",
    "    yaxis_title=\"Temperature (°C)\",\n",
    "    legend_title=\"Legend\",\n",
    "    template=\"plotly\", \n",
    "    width = 800,\n",
    "    height = 500\n",
    ")\n",
    "\n",
    "# Show the plot\n",
    "fig.show()"
   ]
  },
  {
   "cell_type": "markdown",
   "metadata": {},
   "source": [
    "## 2) Fault 4\n",
    "### Training on zone 1 binary class high setpoint  and testing on Engen Mileparken "
   ]
  },
  {
   "cell_type": "code",
   "execution_count": 118,
   "metadata": {},
   "outputs": [],
   "source": [
    "df_simulated = pd.read_csv('/Users/sararhiger/Desktop/Master thesis /Data/Processed data/Fault4_HighSetpoint_dataprocessed.csv')\n",
    "\n",
    "df_engen = pd.read_csv('/Users/sararhiger/Desktop/Master thesis /Data/Processed data/Mileparken.csv')\n"
   ]
  },
  {
   "cell_type": "code",
   "execution_count": 119,
   "metadata": {},
   "outputs": [],
   "source": [
    "# Define the start and end times for training data\n",
    "start_time_train = \"2023-01-01 00:00:00\"  \n",
    "end_time_train = \"2023-12-31 23:00:00\"  \n",
    "\n",
    "# Define the start and end times for testing data\n",
    "start_time_test = \"2025-03-11 00:00:00\"  \n",
    "end_time_test = \"2025-03-18 07:00:00\"\n",
    "\n",
    "# Filter DataFrame for timestamps within the range\n",
    "df_train = df_simulated[(df_simulated['Time'] >= start_time_train) & (df_simulated['Time'] <= end_time_train)]\n",
    "\n",
    "df_test = df_engen[(df_engen['Time'] >= start_time_test) & (df_engen['Time'] <= end_time_test)]"
   ]
  },
  {
   "cell_type": "code",
   "execution_count": 120,
   "metadata": {},
   "outputs": [],
   "source": [
    "train_x= df_train[['Global Horizontal Irradiance, W/m2','Outdoor air temp','Mean air temperature, degC, zone 1', 'Relative humidity, %, zone 1', 'CO2, ppm (vol), zone 1', 'Ideal heaters and other local u']]\n",
    "train_y = df_train['FDD, zone 1']\n",
    "\n",
    "test_x = df_test[['GHI, W/m2','Outdoor temperature','TEMP °C', 'HUMIDITY %', 'CO2 ppm', 'Heating kWh']]\n",
    "test_y = df_test['FDD']\n",
    "\n",
    "# Define zones and variables for plots \n",
    "test_temp = 'TEMP °C'\n",
    "test_heat = 'Heating kWh'"
   ]
  },
  {
   "cell_type": "markdown",
   "metadata": {},
   "source": [
    "### Random Forest"
   ]
  },
  {
   "cell_type": "code",
   "execution_count": 121,
   "metadata": {},
   "outputs": [
    {
     "name": "stdout",
     "output_type": "stream",
     "text": [
      "Accuracy: 1.0\n",
      "Train Report:\n",
      "               precision    recall  f1-score   support\n",
      "\n",
      "           0       1.00      1.00      1.00      8572\n",
      "           4       1.00      1.00      1.00       188\n",
      "\n",
      "    accuracy                           1.00      8760\n",
      "   macro avg       1.00      1.00      1.00      8760\n",
      "weighted avg       1.00      1.00      1.00      8760\n",
      "\n",
      "\n",
      "Accuracy: 0.9943181818181818\n",
      "\n",
      "Classification Report:\n",
      "               precision    recall  f1-score   support\n",
      "\n",
      "           0       0.99      1.00      1.00       172\n",
      "           4       1.00      0.75      0.86         4\n",
      "\n",
      "    accuracy                           0.99       176\n",
      "   macro avg       1.00      0.88      0.93       176\n",
      "weighted avg       0.99      0.99      0.99       176\n",
      "\n",
      "[0.0417537  0.04219284 0.78117635 0.05766126 0.02818913 0.04902672]\n"
     ]
    }
   ],
   "source": [
    "# Initialize the Random Forest Classifier\n",
    "#rf_model = RandomForestClassifier(class_weight='balanced')\n",
    "rf_model = RandomForestClassifier()\n",
    "\n",
    "# Train the model\n",
    "rf_model.fit(train_x, train_y)\n",
    "\n",
    "# Make predictions\n",
    "y_pred_train = rf_model.predict(train_x)\n",
    "y_pred = rf_model.predict(test_x)\n",
    "\n",
    "# Evaluate the model\n",
    "print(\"Accuracy:\", accuracy_score(train_y, y_pred_train))\n",
    "print(\"Train Report:\\n\", classification_report(train_y, y_pred_train))\n",
    "print()\n",
    "print(\"Accuracy:\", accuracy_score(test_y, y_pred))\n",
    "print(\"\\nClassification Report:\\n\", classification_report(test_y, y_pred))\n",
    "\n",
    "print(rf_model.feature_importances_)"
   ]
  },
  {
   "cell_type": "code",
   "execution_count": 122,
   "metadata": {},
   "outputs": [
    {
     "name": "stdout",
     "output_type": "stream",
     "text": [
      "\n",
      "Summary (Mean ± Std):\n",
      "          run  precision_class_0  recall_class_0  f1_class_0  \\\n",
      "mean  5.50000           0.995954             1.0    0.997971   \n",
      "std   3.02765           0.002792             0.0    0.001400   \n",
      "\n",
      "      precision_class_4  recall_class_4  f1_class_4  \n",
      "mean                1.0        0.825000    0.900000  \n",
      "std                 0.0        0.120761    0.069007  \n",
      "\n",
      "All Per-Class Results:\n",
      "   run  precision_class_0  recall_class_0  f1_class_0  precision_class_4  \\\n",
      "0    1            0.99422             1.0    0.997101                1.0   \n",
      "1    2            1.00000             1.0    1.000000                1.0   \n",
      "2    3            0.99422             1.0    0.997101                1.0   \n",
      "3    4            0.99422             1.0    0.997101                1.0   \n",
      "4    5            0.99422             1.0    0.997101                1.0   \n",
      "5    6            0.99422             1.0    0.997101                1.0   \n",
      "6    7            1.00000             1.0    1.000000                1.0   \n",
      "7    8            0.99422             1.0    0.997101                1.0   \n",
      "8    9            0.99422             1.0    0.997101                1.0   \n",
      "9   10            1.00000             1.0    1.000000                1.0   \n",
      "\n",
      "   recall_class_4  f1_class_4  \n",
      "0            0.75    0.857143  \n",
      "1            1.00    1.000000  \n",
      "2            0.75    0.857143  \n",
      "3            0.75    0.857143  \n",
      "4            0.75    0.857143  \n",
      "5            0.75    0.857143  \n",
      "6            1.00    1.000000  \n",
      "7            0.75    0.857143  \n",
      "8            0.75    0.857143  \n",
      "9            1.00    1.000000  \n"
     ]
    }
   ],
   "source": [
    "# Store all runs\n",
    "results = []\n",
    "\n",
    "for i in range(10):\n",
    "    rf_model = RandomForestClassifier()\n",
    "    rf_model.fit(train_x, train_y)\n",
    "\n",
    "    y_pred = rf_model.predict(test_x)\n",
    "    report = classification_report(test_y, y_pred, output_dict=True)\n",
    "\n",
    "    # Store per-class metrics\n",
    "    run_result = {'run': i + 1}\n",
    "    for label in report:\n",
    "        if label not in ('accuracy', 'macro avg', 'weighted avg'):\n",
    "            run_result[f'precision_class_{label}'] = report[label]['precision']\n",
    "            run_result[f'recall_class_{label}'] = report[label]['recall']\n",
    "            run_result[f'f1_class_{label}'] = report[label]['f1-score']\n",
    "    \n",
    "    results.append(run_result)\n",
    "\n",
    "# Results as DataFrame\n",
    "results_df = pd.DataFrame(results)\n",
    "\n",
    "# Summary (mean and std)\n",
    "summary = results_df.describe().loc[['mean', 'std']]\n",
    "\n",
    "print(\"\\nSummary (Mean ± Std):\")\n",
    "print(summary)\n",
    "\n",
    "print(\"\\nAll Per-Class Results:\")\n",
    "print(results_df)"
   ]
  },
  {
   "cell_type": "code",
   "execution_count": 123,
   "metadata": {},
   "outputs": [
    {
     "data": {
      "application/vnd.plotly.v1+json": {
       "config": {
        "plotlyServerURL": "https://plot.ly"
       },
       "data": [
        {
         "colorscale": [
          [
           0,
           "rgb(247,251,255)"
          ],
          [
           0.125,
           "rgb(222,235,247)"
          ],
          [
           0.25,
           "rgb(198,219,239)"
          ],
          [
           0.375,
           "rgb(158,202,225)"
          ],
          [
           0.5,
           "rgb(107,174,214)"
          ],
          [
           0.625,
           "rgb(66,146,198)"
          ],
          [
           0.75,
           "rgb(33,113,181)"
          ],
          [
           0.875,
           "rgb(8,81,156)"
          ],
          [
           1,
           "rgb(8,48,107)"
          ]
         ],
         "hovertemplate": "Actual: %{y}<br>Predicted: %{x}<br>Count: %{z}<extra></extra>",
         "showscale": true,
         "text": [
          [
           172,
           0
          ],
          [
           0,
           4
          ]
         ],
         "texttemplate": "%{text}",
         "type": "heatmap",
         "x": [
          0,
          1
         ],
         "y": [
          0,
          1
         ],
         "z": [
          [
           172,
           0
          ],
          [
           0,
           4
          ]
         ]
        }
       ],
       "layout": {
        "height": 500,
        "template": {
         "data": {
          "bar": [
           {
            "error_x": {
             "color": "#2a3f5f"
            },
            "error_y": {
             "color": "#2a3f5f"
            },
            "marker": {
             "line": {
              "color": "white",
              "width": 0.5
             },
             "pattern": {
              "fillmode": "overlay",
              "size": 10,
              "solidity": 0.2
             }
            },
            "type": "bar"
           }
          ],
          "barpolar": [
           {
            "marker": {
             "line": {
              "color": "white",
              "width": 0.5
             },
             "pattern": {
              "fillmode": "overlay",
              "size": 10,
              "solidity": 0.2
             }
            },
            "type": "barpolar"
           }
          ],
          "carpet": [
           {
            "aaxis": {
             "endlinecolor": "#2a3f5f",
             "gridcolor": "#C8D4E3",
             "linecolor": "#C8D4E3",
             "minorgridcolor": "#C8D4E3",
             "startlinecolor": "#2a3f5f"
            },
            "baxis": {
             "endlinecolor": "#2a3f5f",
             "gridcolor": "#C8D4E3",
             "linecolor": "#C8D4E3",
             "minorgridcolor": "#C8D4E3",
             "startlinecolor": "#2a3f5f"
            },
            "type": "carpet"
           }
          ],
          "choropleth": [
           {
            "colorbar": {
             "outlinewidth": 0,
             "ticks": ""
            },
            "type": "choropleth"
           }
          ],
          "contour": [
           {
            "colorbar": {
             "outlinewidth": 0,
             "ticks": ""
            },
            "colorscale": [
             [
              0,
              "#0d0887"
             ],
             [
              0.1111111111111111,
              "#46039f"
             ],
             [
              0.2222222222222222,
              "#7201a8"
             ],
             [
              0.3333333333333333,
              "#9c179e"
             ],
             [
              0.4444444444444444,
              "#bd3786"
             ],
             [
              0.5555555555555556,
              "#d8576b"
             ],
             [
              0.6666666666666666,
              "#ed7953"
             ],
             [
              0.7777777777777778,
              "#fb9f3a"
             ],
             [
              0.8888888888888888,
              "#fdca26"
             ],
             [
              1,
              "#f0f921"
             ]
            ],
            "type": "contour"
           }
          ],
          "contourcarpet": [
           {
            "colorbar": {
             "outlinewidth": 0,
             "ticks": ""
            },
            "type": "contourcarpet"
           }
          ],
          "heatmap": [
           {
            "colorbar": {
             "outlinewidth": 0,
             "ticks": ""
            },
            "colorscale": [
             [
              0,
              "#0d0887"
             ],
             [
              0.1111111111111111,
              "#46039f"
             ],
             [
              0.2222222222222222,
              "#7201a8"
             ],
             [
              0.3333333333333333,
              "#9c179e"
             ],
             [
              0.4444444444444444,
              "#bd3786"
             ],
             [
              0.5555555555555556,
              "#d8576b"
             ],
             [
              0.6666666666666666,
              "#ed7953"
             ],
             [
              0.7777777777777778,
              "#fb9f3a"
             ],
             [
              0.8888888888888888,
              "#fdca26"
             ],
             [
              1,
              "#f0f921"
             ]
            ],
            "type": "heatmap"
           }
          ],
          "heatmapgl": [
           {
            "colorbar": {
             "outlinewidth": 0,
             "ticks": ""
            },
            "colorscale": [
             [
              0,
              "#0d0887"
             ],
             [
              0.1111111111111111,
              "#46039f"
             ],
             [
              0.2222222222222222,
              "#7201a8"
             ],
             [
              0.3333333333333333,
              "#9c179e"
             ],
             [
              0.4444444444444444,
              "#bd3786"
             ],
             [
              0.5555555555555556,
              "#d8576b"
             ],
             [
              0.6666666666666666,
              "#ed7953"
             ],
             [
              0.7777777777777778,
              "#fb9f3a"
             ],
             [
              0.8888888888888888,
              "#fdca26"
             ],
             [
              1,
              "#f0f921"
             ]
            ],
            "type": "heatmapgl"
           }
          ],
          "histogram": [
           {
            "marker": {
             "pattern": {
              "fillmode": "overlay",
              "size": 10,
              "solidity": 0.2
             }
            },
            "type": "histogram"
           }
          ],
          "histogram2d": [
           {
            "colorbar": {
             "outlinewidth": 0,
             "ticks": ""
            },
            "colorscale": [
             [
              0,
              "#0d0887"
             ],
             [
              0.1111111111111111,
              "#46039f"
             ],
             [
              0.2222222222222222,
              "#7201a8"
             ],
             [
              0.3333333333333333,
              "#9c179e"
             ],
             [
              0.4444444444444444,
              "#bd3786"
             ],
             [
              0.5555555555555556,
              "#d8576b"
             ],
             [
              0.6666666666666666,
              "#ed7953"
             ],
             [
              0.7777777777777778,
              "#fb9f3a"
             ],
             [
              0.8888888888888888,
              "#fdca26"
             ],
             [
              1,
              "#f0f921"
             ]
            ],
            "type": "histogram2d"
           }
          ],
          "histogram2dcontour": [
           {
            "colorbar": {
             "outlinewidth": 0,
             "ticks": ""
            },
            "colorscale": [
             [
              0,
              "#0d0887"
             ],
             [
              0.1111111111111111,
              "#46039f"
             ],
             [
              0.2222222222222222,
              "#7201a8"
             ],
             [
              0.3333333333333333,
              "#9c179e"
             ],
             [
              0.4444444444444444,
              "#bd3786"
             ],
             [
              0.5555555555555556,
              "#d8576b"
             ],
             [
              0.6666666666666666,
              "#ed7953"
             ],
             [
              0.7777777777777778,
              "#fb9f3a"
             ],
             [
              0.8888888888888888,
              "#fdca26"
             ],
             [
              1,
              "#f0f921"
             ]
            ],
            "type": "histogram2dcontour"
           }
          ],
          "mesh3d": [
           {
            "colorbar": {
             "outlinewidth": 0,
             "ticks": ""
            },
            "type": "mesh3d"
           }
          ],
          "parcoords": [
           {
            "line": {
             "colorbar": {
              "outlinewidth": 0,
              "ticks": ""
             }
            },
            "type": "parcoords"
           }
          ],
          "pie": [
           {
            "automargin": true,
            "type": "pie"
           }
          ],
          "scatter": [
           {
            "fillpattern": {
             "fillmode": "overlay",
             "size": 10,
             "solidity": 0.2
            },
            "type": "scatter"
           }
          ],
          "scatter3d": [
           {
            "line": {
             "colorbar": {
              "outlinewidth": 0,
              "ticks": ""
             }
            },
            "marker": {
             "colorbar": {
              "outlinewidth": 0,
              "ticks": ""
             }
            },
            "type": "scatter3d"
           }
          ],
          "scattercarpet": [
           {
            "marker": {
             "colorbar": {
              "outlinewidth": 0,
              "ticks": ""
             }
            },
            "type": "scattercarpet"
           }
          ],
          "scattergeo": [
           {
            "marker": {
             "colorbar": {
              "outlinewidth": 0,
              "ticks": ""
             }
            },
            "type": "scattergeo"
           }
          ],
          "scattergl": [
           {
            "marker": {
             "colorbar": {
              "outlinewidth": 0,
              "ticks": ""
             }
            },
            "type": "scattergl"
           }
          ],
          "scattermapbox": [
           {
            "marker": {
             "colorbar": {
              "outlinewidth": 0,
              "ticks": ""
             }
            },
            "type": "scattermapbox"
           }
          ],
          "scatterpolar": [
           {
            "marker": {
             "colorbar": {
              "outlinewidth": 0,
              "ticks": ""
             }
            },
            "type": "scatterpolar"
           }
          ],
          "scatterpolargl": [
           {
            "marker": {
             "colorbar": {
              "outlinewidth": 0,
              "ticks": ""
             }
            },
            "type": "scatterpolargl"
           }
          ],
          "scatterternary": [
           {
            "marker": {
             "colorbar": {
              "outlinewidth": 0,
              "ticks": ""
             }
            },
            "type": "scatterternary"
           }
          ],
          "surface": [
           {
            "colorbar": {
             "outlinewidth": 0,
             "ticks": ""
            },
            "colorscale": [
             [
              0,
              "#0d0887"
             ],
             [
              0.1111111111111111,
              "#46039f"
             ],
             [
              0.2222222222222222,
              "#7201a8"
             ],
             [
              0.3333333333333333,
              "#9c179e"
             ],
             [
              0.4444444444444444,
              "#bd3786"
             ],
             [
              0.5555555555555556,
              "#d8576b"
             ],
             [
              0.6666666666666666,
              "#ed7953"
             ],
             [
              0.7777777777777778,
              "#fb9f3a"
             ],
             [
              0.8888888888888888,
              "#fdca26"
             ],
             [
              1,
              "#f0f921"
             ]
            ],
            "type": "surface"
           }
          ],
          "table": [
           {
            "cells": {
             "fill": {
              "color": "#EBF0F8"
             },
             "line": {
              "color": "white"
             }
            },
            "header": {
             "fill": {
              "color": "#C8D4E3"
             },
             "line": {
              "color": "white"
             }
            },
            "type": "table"
           }
          ]
         },
         "layout": {
          "annotationdefaults": {
           "arrowcolor": "#2a3f5f",
           "arrowhead": 0,
           "arrowwidth": 1
          },
          "autotypenumbers": "strict",
          "coloraxis": {
           "colorbar": {
            "outlinewidth": 0,
            "ticks": ""
           }
          },
          "colorscale": {
           "diverging": [
            [
             0,
             "#8e0152"
            ],
            [
             0.1,
             "#c51b7d"
            ],
            [
             0.2,
             "#de77ae"
            ],
            [
             0.3,
             "#f1b6da"
            ],
            [
             0.4,
             "#fde0ef"
            ],
            [
             0.5,
             "#f7f7f7"
            ],
            [
             0.6,
             "#e6f5d0"
            ],
            [
             0.7,
             "#b8e186"
            ],
            [
             0.8,
             "#7fbc41"
            ],
            [
             0.9,
             "#4d9221"
            ],
            [
             1,
             "#276419"
            ]
           ],
           "sequential": [
            [
             0,
             "#0d0887"
            ],
            [
             0.1111111111111111,
             "#46039f"
            ],
            [
             0.2222222222222222,
             "#7201a8"
            ],
            [
             0.3333333333333333,
             "#9c179e"
            ],
            [
             0.4444444444444444,
             "#bd3786"
            ],
            [
             0.5555555555555556,
             "#d8576b"
            ],
            [
             0.6666666666666666,
             "#ed7953"
            ],
            [
             0.7777777777777778,
             "#fb9f3a"
            ],
            [
             0.8888888888888888,
             "#fdca26"
            ],
            [
             1,
             "#f0f921"
            ]
           ],
           "sequentialminus": [
            [
             0,
             "#0d0887"
            ],
            [
             0.1111111111111111,
             "#46039f"
            ],
            [
             0.2222222222222222,
             "#7201a8"
            ],
            [
             0.3333333333333333,
             "#9c179e"
            ],
            [
             0.4444444444444444,
             "#bd3786"
            ],
            [
             0.5555555555555556,
             "#d8576b"
            ],
            [
             0.6666666666666666,
             "#ed7953"
            ],
            [
             0.7777777777777778,
             "#fb9f3a"
            ],
            [
             0.8888888888888888,
             "#fdca26"
            ],
            [
             1,
             "#f0f921"
            ]
           ]
          },
          "colorway": [
           "#636efa",
           "#EF553B",
           "#00cc96",
           "#ab63fa",
           "#FFA15A",
           "#19d3f3",
           "#FF6692",
           "#B6E880",
           "#FF97FF",
           "#FECB52"
          ],
          "font": {
           "color": "#2a3f5f"
          },
          "geo": {
           "bgcolor": "white",
           "lakecolor": "white",
           "landcolor": "white",
           "showlakes": true,
           "showland": true,
           "subunitcolor": "#C8D4E3"
          },
          "hoverlabel": {
           "align": "left"
          },
          "hovermode": "closest",
          "mapbox": {
           "style": "light"
          },
          "paper_bgcolor": "white",
          "plot_bgcolor": "white",
          "polar": {
           "angularaxis": {
            "gridcolor": "#EBF0F8",
            "linecolor": "#EBF0F8",
            "ticks": ""
           },
           "bgcolor": "white",
           "radialaxis": {
            "gridcolor": "#EBF0F8",
            "linecolor": "#EBF0F8",
            "ticks": ""
           }
          },
          "scene": {
           "xaxis": {
            "backgroundcolor": "white",
            "gridcolor": "#DFE8F3",
            "gridwidth": 2,
            "linecolor": "#EBF0F8",
            "showbackground": true,
            "ticks": "",
            "zerolinecolor": "#EBF0F8"
           },
           "yaxis": {
            "backgroundcolor": "white",
            "gridcolor": "#DFE8F3",
            "gridwidth": 2,
            "linecolor": "#EBF0F8",
            "showbackground": true,
            "ticks": "",
            "zerolinecolor": "#EBF0F8"
           },
           "zaxis": {
            "backgroundcolor": "white",
            "gridcolor": "#DFE8F3",
            "gridwidth": 2,
            "linecolor": "#EBF0F8",
            "showbackground": true,
            "ticks": "",
            "zerolinecolor": "#EBF0F8"
           }
          },
          "shapedefaults": {
           "line": {
            "color": "#2a3f5f"
           }
          },
          "ternary": {
           "aaxis": {
            "gridcolor": "#DFE8F3",
            "linecolor": "#A2B1C6",
            "ticks": ""
           },
           "baxis": {
            "gridcolor": "#DFE8F3",
            "linecolor": "#A2B1C6",
            "ticks": ""
           },
           "bgcolor": "white",
           "caxis": {
            "gridcolor": "#DFE8F3",
            "linecolor": "#A2B1C6",
            "ticks": ""
           }
          },
          "title": {
           "x": 0.05
          },
          "xaxis": {
           "automargin": true,
           "gridcolor": "#EBF0F8",
           "linecolor": "#EBF0F8",
           "ticks": "",
           "title": {
            "standoff": 15
           },
           "zerolinecolor": "#EBF0F8",
           "zerolinewidth": 2
          },
          "yaxis": {
           "automargin": true,
           "gridcolor": "#EBF0F8",
           "linecolor": "#EBF0F8",
           "ticks": "",
           "title": {
            "standoff": 15
           },
           "zerolinecolor": "#EBF0F8",
           "zerolinewidth": 2
          }
         }
        },
        "title": {
         "text": "Confusion Matrix for meeting room opened window"
        },
        "width": 500,
        "xaxis": {
         "showgrid": false,
         "tickmode": "array",
         "tickvals": [
          0,
          1
         ],
         "title": {
          "text": "Predicted Label"
         }
        },
        "yaxis": {
         "showgrid": false,
         "tickmode": "array",
         "tickvals": [
          0,
          1
         ],
         "title": {
          "text": "Actual Label"
         }
        }
       }
      }
     },
     "metadata": {},
     "output_type": "display_data"
    }
   ],
   "source": [
    "# Compute confusion matrix\n",
    "cm = confusion_matrix(test_y, y_pred)\n",
    "\n",
    "# Ensure labels are 0 and 1\n",
    "labels = [0, 1]  \n",
    "\n",
    "# Create the confusion matrix heatmap\n",
    "fig = go.Figure(data=go.Heatmap(\n",
    "    z=cm,\n",
    "    x=labels,  # Predicted labels\n",
    "    y=labels,  # Actual labels\n",
    "    colorscale='Blues',\n",
    "    showscale=True,\n",
    "    text=cm,  # Display numbers in the cells\n",
    "    texttemplate=\"%{text}\",  # Ensure counts appear inside the cells\n",
    "    hovertemplate='Actual: %{y}<br>Predicted: %{x}<br>Count: %{z}<extra></extra>'\n",
    "))\n",
    "\n",
    "# Update layout for binary classification (0 and 1 on axes)\n",
    "fig.update_layout(\n",
    "    title=\"Confusion Matrix for meeting room opened window\",\n",
    "    width=500,   # Reduce width\n",
    "    height=500,\n",
    "    xaxis=dict(\n",
    "        title=\"Predicted Label\",\n",
    "        tickmode='array',        # Custom tick labels\n",
    "        tickvals=[0, 1],         # Only show 0 and 1\n",
    "        showgrid=False\n",
    "    ),\n",
    "    yaxis=dict(\n",
    "        title=\"Actual Label\",\n",
    "        tickmode='array',\n",
    "        tickvals=[0, 1],         # Only show 0 and 1\n",
    "        showgrid=False\n",
    "    ),\n",
    "    template=\"plotly_white\"\n",
    ")\n",
    "\n",
    "# Show the plot\n",
    "fig.show()"
   ]
  },
  {
   "cell_type": "code",
   "execution_count": 124,
   "metadata": {},
   "outputs": [
    {
     "data": {
      "application/vnd.plotly.v1+json": {
       "config": {
        "plotlyServerURL": "https://plot.ly"
       },
       "data": [
        {
         "mode": "lines",
         "name": "Meeting room faulty operation",
         "type": "scatter",
         "x": [
          "2025-03-11 00:00:00",
          "2025-03-11 01:00:00",
          "2025-03-11 02:00:00",
          "2025-03-11 03:00:00",
          "2025-03-11 04:00:00",
          "2025-03-11 05:00:00",
          "2025-03-11 06:00:00",
          "2025-03-11 07:00:00",
          "2025-03-11 08:00:00",
          "2025-03-11 09:00:00",
          "2025-03-11 10:00:00",
          "2025-03-11 11:00:00",
          "2025-03-11 12:00:00",
          "2025-03-11 13:00:00",
          "2025-03-11 14:00:00",
          "2025-03-11 15:00:00",
          "2025-03-11 16:00:00",
          "2025-03-11 17:00:00",
          "2025-03-11 18:00:00",
          "2025-03-11 19:00:00",
          "2025-03-11 20:00:00",
          "2025-03-11 21:00:00",
          "2025-03-11 22:00:00",
          "2025-03-11 23:00:00",
          "2025-03-12 00:00:00",
          "2025-03-12 01:00:00",
          "2025-03-12 02:00:00",
          "2025-03-12 03:00:00",
          "2025-03-12 04:00:00",
          "2025-03-12 05:00:00",
          "2025-03-12 06:00:00",
          "2025-03-12 07:00:00",
          "2025-03-12 08:00:00",
          "2025-03-12 09:00:00",
          "2025-03-12 10:00:00",
          "2025-03-12 11:00:00",
          "2025-03-12 12:00:00",
          "2025-03-12 13:00:00",
          "2025-03-12 14:00:00",
          "2025-03-12 15:00:00",
          "2025-03-12 16:00:00",
          "2025-03-12 17:00:00",
          "2025-03-12 18:00:00",
          "2025-03-12 19:00:00",
          "2025-03-12 20:00:00",
          "2025-03-12 21:00:00",
          "2025-03-12 22:00:00",
          "2025-03-12 23:00:00",
          "2025-03-13 00:00:00",
          "2025-03-13 01:00:00",
          "2025-03-13 02:00:00",
          "2025-03-13 03:00:00",
          "2025-03-13 04:00:00",
          "2025-03-13 05:00:00",
          "2025-03-13 06:00:00",
          "2025-03-13 07:00:00",
          "2025-03-13 08:00:00",
          "2025-03-13 09:00:00",
          "2025-03-13 10:00:00",
          "2025-03-13 11:00:00",
          "2025-03-13 12:00:00",
          "2025-03-13 13:00:00",
          "2025-03-13 14:00:00",
          "2025-03-13 15:00:00",
          "2025-03-13 16:00:00",
          "2025-03-13 17:00:00",
          "2025-03-13 18:00:00",
          "2025-03-13 19:00:00",
          "2025-03-13 20:00:00",
          "2025-03-13 21:00:00",
          "2025-03-13 22:00:00",
          "2025-03-13 23:00:00",
          "2025-03-14 00:00:00",
          "2025-03-14 01:00:00",
          "2025-03-14 02:00:00",
          "2025-03-14 03:00:00",
          "2025-03-14 04:00:00",
          "2025-03-14 05:00:00",
          "2025-03-14 06:00:00",
          "2025-03-14 07:00:00",
          "2025-03-14 08:00:00",
          "2025-03-14 09:00:00",
          "2025-03-14 10:00:00",
          "2025-03-14 11:00:00",
          "2025-03-14 12:00:00",
          "2025-03-14 13:00:00",
          "2025-03-14 14:00:00",
          "2025-03-14 15:00:00",
          "2025-03-14 16:00:00",
          "2025-03-14 17:00:00",
          "2025-03-14 18:00:00",
          "2025-03-14 19:00:00",
          "2025-03-14 20:00:00",
          "2025-03-14 21:00:00",
          "2025-03-14 22:00:00",
          "2025-03-14 23:00:00",
          "2025-03-15 00:00:00",
          "2025-03-15 01:00:00",
          "2025-03-15 02:00:00",
          "2025-03-15 03:00:00",
          "2025-03-15 04:00:00",
          "2025-03-15 05:00:00",
          "2025-03-15 06:00:00",
          "2025-03-15 07:00:00",
          "2025-03-15 08:00:00",
          "2025-03-15 09:00:00",
          "2025-03-15 10:00:00",
          "2025-03-15 11:00:00",
          "2025-03-15 12:00:00",
          "2025-03-15 13:00:00",
          "2025-03-15 14:00:00",
          "2025-03-15 15:00:00",
          "2025-03-15 16:00:00",
          "2025-03-15 17:00:00",
          "2025-03-15 18:00:00",
          "2025-03-15 19:00:00",
          "2025-03-15 20:00:00",
          "2025-03-15 21:00:00",
          "2025-03-15 22:00:00",
          "2025-03-15 23:00:00",
          "2025-03-16 00:00:00",
          "2025-03-16 01:00:00",
          "2025-03-16 02:00:00",
          "2025-03-16 03:00:00",
          "2025-03-16 04:00:00",
          "2025-03-16 05:00:00",
          "2025-03-16 06:00:00",
          "2025-03-16 07:00:00",
          "2025-03-16 08:00:00",
          "2025-03-16 09:00:00",
          "2025-03-16 10:00:00",
          "2025-03-16 11:00:00",
          "2025-03-16 12:00:00",
          "2025-03-16 13:00:00",
          "2025-03-16 14:00:00",
          "2025-03-16 15:00:00",
          "2025-03-16 16:00:00",
          "2025-03-16 17:00:00",
          "2025-03-16 18:00:00",
          "2025-03-16 19:00:00",
          "2025-03-16 20:00:00",
          "2025-03-16 21:00:00",
          "2025-03-16 22:00:00",
          "2025-03-16 23:00:00",
          "2025-03-17 00:00:00",
          "2025-03-17 01:00:00",
          "2025-03-17 02:00:00",
          "2025-03-17 03:00:00",
          "2025-03-17 04:00:00",
          "2025-03-17 05:00:00",
          "2025-03-17 06:00:00",
          "2025-03-17 07:00:00",
          "2025-03-17 08:00:00",
          "2025-03-17 09:00:00",
          "2025-03-17 10:00:00",
          "2025-03-17 11:00:00",
          "2025-03-17 12:00:00",
          "2025-03-17 13:00:00",
          "2025-03-17 14:00:00",
          "2025-03-17 15:00:00",
          "2025-03-17 16:00:00",
          "2025-03-17 17:00:00",
          "2025-03-17 18:00:00",
          "2025-03-17 19:00:00",
          "2025-03-17 20:00:00",
          "2025-03-17 21:00:00",
          "2025-03-17 22:00:00",
          "2025-03-17 23:00:00",
          "2025-03-18 00:00:00",
          "2025-03-18 01:00:00",
          "2025-03-18 02:00:00",
          "2025-03-18 03:00:00",
          "2025-03-18 04:00:00",
          "2025-03-18 05:00:00",
          "2025-03-18 06:00:00",
          "2025-03-18 07:00:00",
          "2025-03-18 08:00:00",
          "2025-03-18 09:00:00",
          "2025-03-18 10:00:00",
          "2025-03-18 11:00:00",
          "2025-03-18 12:00:00",
          "2025-03-18 13:00:00",
          "2025-03-18 14:00:00",
          "2025-03-18 15:00:00",
          "2025-03-18 16:00:00",
          "2025-03-18 17:00:00",
          "2025-03-18 18:00:00",
          "2025-03-18 19:00:00",
          "2025-03-18 20:00:00",
          "2025-03-18 21:00:00",
          "2025-03-18 22:00:00",
          "2025-03-18 23:00:00",
          "2025-03-19 00:00:00",
          "2025-03-19 01:00:00",
          "2025-03-19 02:00:00",
          "2025-03-19 03:00:00",
          "2025-03-19 04:00:00",
          "2025-03-19 05:00:00",
          "2025-03-19 06:00:00",
          "2025-03-19 07:00:00",
          "2025-03-19 08:00:00",
          "2025-03-19 09:00:00",
          "2025-03-19 10:00:00",
          "2025-03-19 11:00:00",
          "2025-03-19 12:00:00",
          "2025-03-19 13:00:00",
          "2025-03-19 14:00:00",
          "2025-03-19 15:00:00",
          "2025-03-19 16:00:00",
          "2025-03-19 17:00:00",
          "2025-03-19 18:00:00",
          "2025-03-19 19:00:00",
          "2025-03-19 20:00:00",
          "2025-03-19 21:00:00",
          "2025-03-19 22:00:00",
          "2025-03-19 23:00:00",
          "2025-03-20 00:00:00",
          "2025-03-20 01:00:00",
          "2025-03-20 02:00:00",
          "2025-03-20 03:00:00",
          "2025-03-20 04:00:00",
          "2025-03-20 05:00:00",
          "2025-03-20 06:00:00",
          "2025-03-20 07:00:00",
          "2025-03-20 08:00:00",
          "2025-03-20 09:00:00",
          "2025-03-20 10:00:00",
          "2025-03-20 11:00:00",
          "2025-03-20 12:00:00",
          "2025-03-20 13:00:00",
          "2025-03-20 14:00:00",
          "2025-03-20 15:00:00",
          "2025-03-20 16:00:00",
          "2025-03-20 17:00:00",
          "2025-03-20 18:00:00",
          "2025-03-20 19:00:00",
          "2025-03-20 20:00:00",
          "2025-03-20 21:00:00",
          "2025-03-20 22:00:00",
          "2025-03-20 23:00:00",
          "2025-03-21 00:00:00",
          "2025-03-21 01:00:00",
          "2025-03-21 02:00:00",
          "2025-03-21 03:00:00",
          "2025-03-21 04:00:00",
          "2025-03-21 05:00:00",
          "2025-03-21 06:00:00",
          "2025-03-21 07:00:00",
          "2025-03-21 08:00:00",
          "2025-03-21 09:00:00",
          "2025-03-21 10:00:00",
          "2025-03-21 11:00:00",
          "2025-03-21 12:00:00",
          "2025-03-21 13:00:00",
          "2025-03-21 14:00:00",
          "2025-03-21 15:00:00",
          "2025-03-21 16:00:00",
          "2025-03-21 17:00:00",
          "2025-03-21 18:00:00",
          "2025-03-21 19:00:00",
          "2025-03-21 20:00:00",
          "2025-03-21 21:00:00",
          "2025-03-21 22:00:00",
          "2025-03-21 23:00:00",
          "2025-03-22 00:00:00",
          "2025-03-22 01:00:00",
          "2025-03-22 02:00:00",
          "2025-03-22 03:00:00",
          "2025-03-22 04:00:00",
          "2025-03-22 05:00:00",
          "2025-03-22 06:00:00",
          "2025-03-22 07:00:00",
          "2025-03-22 08:00:00",
          "2025-03-22 09:00:00",
          "2025-03-22 10:00:00",
          "2025-03-22 11:00:00",
          "2025-03-22 12:00:00",
          "2025-03-22 13:00:00",
          "2025-03-22 14:00:00",
          "2025-03-22 15:00:00",
          "2025-03-22 16:00:00",
          "2025-03-22 17:00:00",
          "2025-03-22 18:00:00",
          "2025-03-22 19:00:00",
          "2025-03-22 20:00:00",
          "2025-03-22 21:00:00",
          "2025-03-22 22:00:00",
          "2025-03-22 23:00:00",
          "2025-03-23 00:00:00",
          "2025-03-23 01:00:00",
          "2025-03-23 02:00:00",
          "2025-03-23 03:00:00",
          "2025-03-23 04:00:00",
          "2025-03-23 05:00:00",
          "2025-03-23 06:00:00",
          "2025-03-23 07:00:00",
          "2025-03-23 08:00:00",
          "2025-03-23 09:00:00",
          "2025-03-23 10:00:00",
          "2025-03-23 11:00:00",
          "2025-03-23 12:00:00",
          "2025-03-23 13:00:00",
          "2025-03-23 14:00:00",
          "2025-03-23 15:00:00",
          "2025-03-23 16:00:00",
          "2025-03-23 17:00:00",
          "2025-03-23 18:00:00",
          "2025-03-23 19:00:00",
          "2025-03-23 20:00:00",
          "2025-03-23 21:00:00",
          "2025-03-23 22:00:00",
          "2025-03-23 23:00:00",
          "2025-03-24 00:00:00",
          "2025-03-24 01:00:00",
          "2025-03-24 02:00:00",
          "2025-03-24 03:00:00",
          "2025-03-24 04:00:00",
          "2025-03-24 05:00:00",
          "2025-03-24 06:00:00",
          "2025-03-24 07:00:00",
          "2025-03-24 08:00:00",
          "2025-03-24 09:00:00",
          "2025-03-24 10:00:00",
          "2025-03-24 11:00:00",
          "2025-03-24 12:00:00",
          "2025-03-24 13:00:00",
          "2025-03-24 14:00:00",
          "2025-03-24 15:00:00",
          "2025-03-24 16:00:00",
          "2025-03-24 17:00:00",
          "2025-03-24 18:00:00",
          "2025-03-24 19:00:00",
          "2025-03-24 20:00:00",
          "2025-03-24 21:00:00",
          "2025-03-24 22:00:00",
          "2025-03-24 23:00:00",
          "2025-03-25 00:00:00",
          "2025-03-25 01:00:00",
          "2025-03-25 02:00:00",
          "2025-03-25 03:00:00",
          "2025-03-25 04:00:00",
          "2025-03-25 05:00:00",
          "2025-03-25 06:00:00",
          "2025-03-25 07:00:00",
          "2025-03-25 08:00:00",
          "2025-03-25 09:00:00",
          "2025-03-25 10:00:00",
          "2025-03-25 11:00:00",
          "2025-03-25 12:00:00",
          "2025-03-25 13:00:00",
          "2025-03-25 14:00:00",
          "2025-03-25 15:00:00",
          "2025-03-25 16:00:00",
          "2025-03-25 17:00:00",
          "2025-03-25 18:00:00",
          "2025-03-25 19:00:00",
          "2025-03-25 20:00:00",
          "2025-03-25 21:00:00",
          "2025-03-25 22:00:00",
          "2025-03-25 23:00:00",
          "2025-03-26 00:00:00",
          "2025-03-26 01:00:00",
          "2025-03-26 02:00:00",
          "2025-03-26 03:00:00",
          "2025-03-26 04:00:00",
          "2025-03-26 05:00:00",
          "2025-03-26 06:00:00",
          "2025-03-26 07:00:00",
          "2025-03-26 08:00:00",
          "2025-03-26 09:00:00",
          "2025-03-26 10:00:00",
          "2025-03-26 11:00:00",
          "2025-03-26 12:00:00",
          "2025-03-26 13:00:00",
          "2025-03-26 14:00:00",
          "2025-03-26 15:00:00",
          "2025-03-26 16:00:00",
          "2025-03-26 17:00:00",
          "2025-03-26 18:00:00",
          "2025-03-26 19:00:00",
          "2025-03-26 20:00:00",
          "2025-03-26 21:00:00",
          "2025-03-26 22:00:00",
          "2025-03-26 23:00:00",
          "2025-03-27 00:00:00",
          "2025-03-27 01:00:00",
          "2025-03-27 02:00:00",
          "2025-03-27 03:00:00",
          "2025-03-27 04:00:00",
          "2025-03-27 05:00:00",
          "2025-03-27 06:00:00",
          "2025-03-27 07:00:00",
          "2025-03-27 08:00:00",
          "2025-03-27 09:00:00",
          "2025-03-27 10:00:00",
          "2025-03-27 11:00:00",
          "2025-03-27 12:00:00",
          "2025-03-27 13:00:00",
          "2025-03-27 14:00:00",
          "2025-03-27 15:00:00",
          "2025-03-27 16:00:00",
          "2025-03-27 17:00:00",
          "2025-03-27 18:00:00",
          "2025-03-27 19:00:00",
          "2025-03-27 20:00:00",
          "2025-03-27 21:00:00",
          "2025-03-27 22:00:00",
          "2025-03-27 23:00:00",
          "2025-03-28 00:00:00",
          "2025-03-28 01:00:00",
          "2025-03-28 02:00:00",
          "2025-03-28 03:00:00",
          "2025-03-28 04:00:00",
          "2025-03-28 05:00:00",
          "2025-03-28 06:00:00",
          "2025-03-28 07:00:00",
          "2025-03-28 08:00:00",
          "2025-03-28 09:00:00",
          "2025-03-28 10:00:00",
          "2025-03-28 11:00:00",
          "2025-03-28 12:00:00",
          "2025-03-28 13:00:00",
          "2025-03-28 14:00:00",
          "2025-03-28 15:00:00",
          "2025-03-28 16:00:00",
          "2025-03-28 17:00:00",
          "2025-03-28 18:00:00",
          "2025-03-28 19:00:00",
          "2025-03-28 20:00:00",
          "2025-03-28 21:00:00",
          "2025-03-28 22:00:00",
          "2025-03-28 23:00:00",
          "2025-03-29 00:00:00",
          "2025-03-29 01:00:00",
          "2025-03-29 02:00:00",
          "2025-03-29 03:00:00",
          "2025-03-29 04:00:00",
          "2025-03-29 05:00:00",
          "2025-03-29 06:00:00",
          "2025-03-29 07:00:00",
          "2025-03-29 08:00:00",
          "2025-03-29 09:00:00",
          "2025-03-29 10:00:00",
          "2025-03-29 11:00:00",
          "2025-03-29 12:00:00",
          "2025-03-29 13:00:00",
          "2025-03-29 14:00:00",
          "2025-03-29 15:00:00",
          "2025-03-29 16:00:00",
          "2025-03-29 17:00:00",
          "2025-03-29 18:00:00",
          "2025-03-29 19:00:00",
          "2025-03-29 20:00:00",
          "2025-03-29 21:00:00",
          "2025-03-29 22:00:00",
          "2025-03-29 23:00:00",
          "2025-03-30 00:00:00",
          "2025-03-30 01:00:00",
          "2025-03-30 02:00:00",
          "2025-03-30 03:00:00",
          "2025-03-30 04:00:00",
          "2025-03-30 05:00:00",
          "2025-03-30 06:00:00",
          "2025-03-30 07:00:00",
          "2025-03-30 08:00:00",
          "2025-03-30 09:00:00",
          "2025-03-30 10:00:00",
          "2025-03-30 11:00:00",
          "2025-03-30 12:00:00",
          "2025-03-30 13:00:00",
          "2025-03-30 14:00:00",
          "2025-03-30 15:00:00",
          "2025-03-30 16:00:00",
          "2025-03-30 17:00:00",
          "2025-03-30 18:00:00",
          "2025-03-30 19:00:00",
          "2025-03-30 20:00:00",
          "2025-03-30 21:00:00",
          "2025-03-30 22:00:00",
          "2025-03-30 23:00:00",
          "2025-03-31 00:00:00",
          "2025-03-31 01:00:00",
          "2025-03-31 02:00:00",
          "2025-03-31 03:00:00",
          "2025-03-31 04:00:00",
          "2025-03-31 05:00:00",
          "2025-03-31 06:00:00",
          "2025-03-31 07:00:00",
          "2025-03-31 08:00:00",
          "2025-03-31 09:00:00",
          "2025-03-31 10:00:00",
          "2025-03-31 11:00:00",
          "2025-03-31 12:00:00",
          "2025-03-31 13:00:00",
          "2025-03-31 14:00:00",
          "2025-03-31 15:00:00",
          "2025-03-31 16:00:00",
          "2025-03-31 17:00:00",
          "2025-03-31 18:00:00",
          "2025-03-31 19:00:00",
          "2025-03-31 20:00:00",
          "2025-03-31 21:00:00",
          "2025-03-31 22:00:00",
          "2025-03-31 23:00:00",
          "2025-04-01 00:00:00",
          "2025-04-01 01:00:00",
          "2025-04-01 02:00:00",
          "2025-04-01 03:00:00",
          "2025-04-01 04:00:00",
          "2025-04-01 05:00:00",
          "2025-04-01 06:00:00",
          "2025-04-01 07:00:00",
          "2025-04-01 08:00:00",
          "2025-04-01 09:00:00",
          "2025-04-01 10:00:00",
          "2025-04-01 11:00:00",
          "2025-04-01 12:00:00",
          "2025-04-01 13:00:00",
          "2025-04-01 14:00:00",
          "2025-04-01 15:00:00",
          "2025-04-01 16:00:00",
          "2025-04-01 17:00:00",
          "2025-04-01 18:00:00",
          "2025-04-01 19:00:00",
          "2025-04-01 20:00:00",
          "2025-04-01 21:00:00",
          "2025-04-01 22:00:00",
          "2025-04-01 23:00:00",
          "2025-04-02 00:00:00",
          "2025-04-02 01:00:00",
          "2025-04-02 02:00:00",
          "2025-04-02 03:00:00",
          "2025-04-02 04:00:00",
          "2025-04-02 05:00:00",
          "2025-04-02 06:00:00",
          "2025-04-02 07:00:00",
          "2025-04-02 08:00:00",
          "2025-04-02 09:00:00",
          "2025-04-02 10:00:00",
          "2025-04-02 11:00:00",
          "2025-04-02 12:00:00",
          "2025-04-02 13:00:00",
          "2025-04-02 14:00:00",
          "2025-04-02 15:00:00",
          "2025-04-02 16:00:00",
          "2025-04-02 17:00:00",
          "2025-04-02 18:00:00",
          "2025-04-02 19:00:00",
          "2025-04-02 20:00:00",
          "2025-04-02 21:00:00",
          "2025-04-02 22:00:00",
          "2025-04-02 23:00:00",
          "2025-04-03 00:00:00",
          "2025-04-03 01:00:00",
          "2025-04-03 02:00:00",
          "2025-04-03 03:00:00",
          "2025-04-03 04:00:00",
          "2025-04-03 05:00:00",
          "2025-04-03 06:00:00",
          "2025-04-03 07:00:00"
         ],
         "y": [
          21.281538461538464,
          21.242857142857144,
          21.18230769230769,
          21.156428571428574,
          21.158461538461534,
          21.164285714285715,
          21.160000000000004,
          21.176428571428573,
          21.234615384615385,
          21.43642857142857,
          21.61846153846153,
          21.711428571428577,
          23.484615384615388,
          23.619285714285716,
          23.313076923076924,
          23.195,
          23.198461538461537,
          23.170000000000005,
          23.157692307692308,
          23.154285714285717,
          23.239230769230772,
          23.28357142857143,
          23.201538461538462,
          23.15571428571429,
          23.138461538461538,
          23.12642857142857,
          23.114615384615387,
          23.210714285714282,
          23.52461538461539,
          23.270000000000003,
          23.383846153846157,
          23.458571428571425,
          23.49615384615385,
          23.744285714285716,
          23.454615384615387,
          23.853571428571428,
          25.16692307692308,
          26.010714285714283,
          26.083846153846153,
          24.807857142857145,
          23.93307692307692,
          23.041428571428572,
          22.496923076923075,
          22.12357142857143,
          21.91692307692308,
          21.775714285714283,
          21.661538461538452,
          21.637857142857147,
          21.66615384615385,
          21.634285714285713,
          21.61000000000001,
          21.575714285714284,
          21.505384615384614,
          21.437142857142856,
          21.415384615384614,
          21.49571428571429,
          21.696153846153845,
          22.041428571428565,
          22.116153846153846,
          21.975,
          22.126923076923074,
          22.197142857142854,
          21.91692307692308,
          21.66142857142857,
          21.481538461538463,
          21.565714285714282,
          21.56,
          21.534285714285716,
          21.466923076923077,
          21.41,
          21.356153846153845,
          21.31714285714286,
          21.287692307692307,
          21.280714285714282,
          21.24615384615384,
          21.22785714285715,
          21.215384615384615,
          21.197142857142858,
          21.235384615384614,
          21.335,
          21.207692307692305,
          21.60214285714286,
          21.568461538461538,
          21.751428571428576,
          21.643076923076926,
          21.631428571428565,
          21.61076923076924,
          21.573571428571423,
          21.520769230769233,
          21.33142857142857,
          21.185384615384613,
          21.24571428571429,
          21.156153846153842,
          21.138571428571428,
          21.13230769230769,
          21.127142857142864,
          21.135384615384613,
          21.12142857142857,
          21.133846153846157,
          21.125,
          21.113846153846158,
          21.11571428571429,
          21.320769230769233,
          22.05857142857143,
          22.509230769230765,
          22.349285714285717,
          22.09076923076924,
          21.911428571428566,
          21.77692307692308,
          21.705714285714286,
          21.707692307692298,
          21.688571428571436,
          21.651538461538454,
          21.507857142857148,
          21.26923076923077,
          21.152142857142856,
          21.195384615384608,
          21.152857142857147,
          21.144615384615385,
          21.122142857142855,
          21.125384615384615,
          21.125,
          21.126153846153844,
          21.13285714285714,
          21.136923076923075,
          21.15142857142857,
          21.160769230769233,
          21.19,
          21.232307692307693,
          21.25214285714285,
          21.26,
          21.29357142857143,
          21.349230769230765,
          21.403571428571436,
          21.464615384615378,
          21.504285714285718,
          21.363076923076925,
          21.205,
          21.139230769230775,
          21.138571428571428,
          21.119230769230768,
          21.10428571428572,
          21.11,
          21.094285714285718,
          21.1,
          21.085,
          21.09307692307692,
          21.112142857142853,
          21.11384615384615,
          21.148571428571433,
          21.380000000000006,
          22.296428571428574,
          23.24692307692308,
          22.713571428571424,
          22.634615384615394,
          21.92,
          22.50076923076923,
          22.255000000000006,
          22.146923076923073,
          21.657857142857146,
          21.496923076923075,
          21.479285714285712,
          21.395384615384614,
          21.44571428571428,
          21.27153846153846,
          21.19142857142857,
          21.200769230769232,
          21.142857142857142,
          21.13615384615385,
          21.12642857142857,
          21.12,
          21.13714285714285,
          21.14923076923077,
          21.15642857142857,
          21.196153846153848,
          21.260714285714286,
          21.92615384615384,
          22.60857142857143,
          22.002307692307692,
          21.785000000000004,
          21.79076923076923,
          21.739285714285714,
          21.903076923076924,
          22.03,
          21.87461538461539,
          21.805714285714288,
          21.63230769230769,
          21.52642857142857,
          21.398461538461547,
          21.32785714285714,
          21.292307692307688,
          21.20571428571429,
          21.163846153846155,
          21.144285714285708,
          21.141538461538467,
          21.17142857142857,
          21.17230769230769,
          21.173571428571428,
          21.19076923076923,
          21.368571428571435,
          21.46076923076923,
          20.963571428571434,
          21.907692307692304,
          22.724285714285717,
          22.40615384615385,
          22.59857142857143,
          22.841538461538462,
          22.74857142857143,
          22.450000000000006,
          22.177142857142854,
          21.94,
          21.698571428571423,
          21.533846153846156,
          21.35214285714286,
          21.200769230769232,
          21.245,
          21.158461538461534,
          21.165,
          21.156923076923075,
          21.155,
          21.125384615384615,
          21.155,
          21.48692307692307,
          22.27642857142857,
          23.350769230769227,
          23.832857142857147,
          23.71923076923077,
          22.527142857142852,
          21.810769230769235,
          22.165714285714284,
          22.150769230769235,
          22.084285714285713,
          21.955384615384613,
          21.53923076923077,
          21.452857142857138,
          20.986153846153847,
          20.462857142857143,
          19.933846153846158,
          19.969285714285714,
          19.9,
          19.45642857142857,
          19.153076923076924,
          19.14928571428572,
          18.973076923076924,
          19.263076923076927,
          19.412142857142857,
          19.787692307692307,
          20.791428571428565,
          21.836923076923078,
          22.20714285714286,
          22.314615384615394,
          21.94142857142857,
          21.889230769230767,
          21.616923076923076,
          21.631428571428575,
          21.730769230769234,
          21.799285714285716,
          21.706153846153846,
          21.601428571428567,
          21.43230769230769,
          21.29642857142857,
          21.153846153846157,
          21.076428571428572,
          20.958461538461545,
          20.858571428571427,
          20.771538461538466,
          20.677857142857142,
          20.630769230769232,
          20.605384615384608,
          20.594285714285714,
          20.97846153846154,
          21.834285714285713,
          22.167692307692317,
          22.064285714285717,
          21.855384615384622,
          21.70357142857143,
          21.63153846153846,
          21.622142857142855,
          21.626153846153844,
          21.61500000000001,
          21.577692307692303,
          21.455000000000005,
          21.232307692307696,
          21.109285714285715,
          20.986153846153847,
          20.878571428571426,
          20.817692307692308,
          20.76214285714286,
          20.72692307692307,
          20.687142857142856,
          20.638461538461534,
          20.61071428571429,
          20.583846153846157,
          20.565714285714282,
          20.693076923076926,
          21.31357142857143,
          21.70846153846153,
          21.688571428571436,
          21.61076923076924,
          21.552857142857146,
          21.513846153846153,
          21.525,
          21.537692307692303,
          21.515,
          21.42538461538461,
          21.27571428571429,
          21.115384615384613,
          20.982142857142858,
          20.856923076923074,
          20.75428571428571,
          20.66846153846154,
          20.613571428571426,
          20.595384615384614,
          20.55857142857143,
          20.532307692307693,
          20.507142857142856,
          20.49153846153846,
          20.51571428571429,
          20.62,
          20.866428571428575,
          21.353076923076923,
          21.891428571428577,
          22.127692307692318,
          21.627857142857145,
          21.606153846153845,
          21.63,
          22.076153846153847,
          22.472857142857148,
          21.920769230769228,
          21.532857142857146,
          21.244615384615386,
          21.10714285714285,
          21.156153846153842,
          21.15285714285714,
          21.13615384615385,
          21.12071428571429,
          21.097692307692302,
          21.071428571428573,
          21.02384615384615,
          20.98928571428572,
          21.00384615384616,
          21.021428571428565,
          21.032307692307693,
          21.176428571428573,
          21.470769230769232,
          22.086428571428577,
          22.32,
          21.897142857142853,
          21.98692307692308,
          22.062857142857148,
          21.960769230769237,
          21.845714285714283,
          21.533076923076926,
          21.35214285714286,
          21.235384615384614,
          21.17714285714285,
          21.25769230769231,
          21.296923076923076,
          21.326428571428565,
          21.31615384615385,
          21.31142857142857,
          21.286153846153848,
          21.255714285714287,
          21.236923076923077,
          21.22928571428572,
          21.229230769230767,
          21.515,
          22.179230769230767,
          22.944285714285716,
          23.376153846153844,
          23.17142857142857,
          22.641538461538463,
          22.544285714285717,
          22.61692307692308,
          22.76928571428572,
          23.11615384615385,
          22.99357142857143,
          22.70923076923077,
          22.05428571428572,
          21.733076923076922,
          21.59642857142857,
          21.422307692307697,
          21.327857142857145,
          21.413846153846155,
          21.448571428571427,
          21.43230769230769,
          21.388571428571428,
          21.38615384615385,
          21.40357142857143,
          21.426923076923075,
          21.446428571428573,
          21.548461538461538,
          21.645000000000003,
          22.56384615384616,
          23.032857142857146,
          22.72384615384616,
          22.775714285714287,
          23.700000000000006,
          23.917857142857148,
          23.33461538461539,
          22.774285714285718,
          22.399230769230773,
          22.145000000000003,
          22.080769230769228,
          22.042857142857148,
          21.97,
          21.875714285714288,
          21.812307692307687,
          21.736428571428565,
          21.664615384615388,
          21.632857142857148,
          21.601538461538453,
          21.575,
          21.601538461538453,
          22.215714285714288,
          23.14692307692308,
          23.702857142857145,
          23.800769230769234,
          23.625714285714285,
          23.173076923076927,
          23.15357142857143,
          23.21076923076923,
          23.172142857142855,
          23.108461538461537,
          23.085000000000004,
          22.93461538461539,
          22.73,
          22.552307692307693,
          22.381428571428575,
          22.19461538461539,
          22.092857142857138,
          21.996923076923075,
          21.873571428571424,
          21.787692307692307,
          21.692142857142862,
          21.635384615384613,
          21.616428571428575,
          21.595384615384614,
          21.624285714285715,
          21.728461538461538,
          21.849285714285717,
          22.03076923076923,
          22.208571428571425,
          22.336153846153845,
          22.381428571428575,
          22.461538461538463,
          22.53571428571429,
          22.554615384615378,
          22.562142857142863,
          22.465384615384608,
          22.271428571428565,
          22.10461538461539,
          21.954285714285714,
          21.814615384615387,
          21.705000000000005,
          21.62384615384616,
          21.572857142857146,
          21.502307692307692,
          21.44214285714286,
          21.390769230769234,
          21.377857142857145,
          21.358461538461533,
          21.357142857142858,
          21.35,
          21.358571428571434,
          21.441538461538453,
          21.687142857142852,
          22.003076923076925,
          22.102857142857147,
          22.100769230769227,
          22.113571428571426,
          22.127692307692307,
          22.101428571428567,
          21.983846153846148,
          21.84357142857143,
          21.733076923076922,
          21.659285714285712,
          21.61692307692308,
          21.578571428571426,
          21.497692307692304,
          21.420000000000005,
          21.395384615384614,
          21.353571428571428,
          21.305384615384614,
          21.28928571428571,
          21.284615384615385,
          21.38785714285714,
          21.494615384615386,
          21.935714285714287,
          22.11076923076923,
          21.819285714285716,
          21.913846153846155,
          22.067857142857147,
          22.49230769230769,
          22.603571428571428,
          22.17230769230769,
          22.115714285714287,
          22.09,
          22.46857142857143,
          22.11384615384615,
          21.817857142857147,
          21.592307692307696,
          21.35071428571429,
          21.19230769230769,
          21.27928571428572,
          21.154615384615386,
          21.28428571428572,
          21.14923076923077,
          21.25571428571428,
          21.438461538461546,
          22.49571428571429,
          23.832307692307698,
          24.74,
          24.47230769230769,
          23.69214285714286,
          23.561538461538454,
          24.095714285714287,
          23.70923076923077,
          23.36785714285714,
          22.99230769230769,
          22.562142857142852,
          22.285384615384622,
          22.045714285714286,
          22.02769230769231,
          22.193571428571424,
          22.141538461538463,
          22.0892857142857,
          22.02230769230769,
          21.930714285714284,
          21.847692307692302,
          21.779285714285717,
          21.701538461538462,
          21.649285714285718,
          21.906923076923075,
          22.982142857142854,
          24.031538461538464,
          24.504999999999995,
          24.440000000000005,
          24.15142857142857,
          24.274615384615387,
          24.291428571428572,
          23.708461538461545,
          23.447857142857142,
          23.23692307692308,
          23.03642857142857,
          22.78076923076923,
          22.48785714285714,
          22.338461538461537,
          22.27,
          22.14076923076923,
          22.057142857142853,
          21.934615384615388,
          21.825714285714284,
          21.716153846153844,
          21.647857142857145,
          21.586923076923078,
          21.49642857142857,
          21.77076923076923,
          23.00428571428571,
          24.145
         ]
        },
        {
         "marker": {
          "color": "green",
          "size": 10
         },
         "mode": "markers",
         "name": "Correct (4 predicted as 4)",
         "type": "scatter",
         "x": [
          "2025-03-12 12:00:00",
          "2025-03-12 13:00:00",
          "2025-03-12 14:00:00",
          "2025-03-12 15:00:00"
         ],
         "y": [
          25.16692307692308,
          26.010714285714283,
          26.083846153846153,
          24.807857142857145
         ]
        },
        {
         "marker": {
          "color": "red",
          "size": 10,
          "symbol": "x"
         },
         "mode": "markers",
         "name": "False Negative (4 predicted as 0)",
         "type": "scatter",
         "x": [],
         "y": []
        },
        {
         "marker": {
          "color": "orange",
          "size": 10,
          "symbol": "triangle-up"
         },
         "mode": "markers",
         "name": "False Positive (0 predicted as 4)",
         "type": "scatter",
         "x": [],
         "y": []
        }
       ],
       "layout": {
        "legend": {
         "title": {
          "text": "Legend"
         }
        },
        "template": {
         "data": {
          "bar": [
           {
            "error_x": {
             "color": "#2a3f5f"
            },
            "error_y": {
             "color": "#2a3f5f"
            },
            "marker": {
             "line": {
              "color": "#E5ECF6",
              "width": 0.5
             },
             "pattern": {
              "fillmode": "overlay",
              "size": 10,
              "solidity": 0.2
             }
            },
            "type": "bar"
           }
          ],
          "barpolar": [
           {
            "marker": {
             "line": {
              "color": "#E5ECF6",
              "width": 0.5
             },
             "pattern": {
              "fillmode": "overlay",
              "size": 10,
              "solidity": 0.2
             }
            },
            "type": "barpolar"
           }
          ],
          "carpet": [
           {
            "aaxis": {
             "endlinecolor": "#2a3f5f",
             "gridcolor": "white",
             "linecolor": "white",
             "minorgridcolor": "white",
             "startlinecolor": "#2a3f5f"
            },
            "baxis": {
             "endlinecolor": "#2a3f5f",
             "gridcolor": "white",
             "linecolor": "white",
             "minorgridcolor": "white",
             "startlinecolor": "#2a3f5f"
            },
            "type": "carpet"
           }
          ],
          "choropleth": [
           {
            "colorbar": {
             "outlinewidth": 0,
             "ticks": ""
            },
            "type": "choropleth"
           }
          ],
          "contour": [
           {
            "colorbar": {
             "outlinewidth": 0,
             "ticks": ""
            },
            "colorscale": [
             [
              0,
              "#0d0887"
             ],
             [
              0.1111111111111111,
              "#46039f"
             ],
             [
              0.2222222222222222,
              "#7201a8"
             ],
             [
              0.3333333333333333,
              "#9c179e"
             ],
             [
              0.4444444444444444,
              "#bd3786"
             ],
             [
              0.5555555555555556,
              "#d8576b"
             ],
             [
              0.6666666666666666,
              "#ed7953"
             ],
             [
              0.7777777777777778,
              "#fb9f3a"
             ],
             [
              0.8888888888888888,
              "#fdca26"
             ],
             [
              1,
              "#f0f921"
             ]
            ],
            "type": "contour"
           }
          ],
          "contourcarpet": [
           {
            "colorbar": {
             "outlinewidth": 0,
             "ticks": ""
            },
            "type": "contourcarpet"
           }
          ],
          "heatmap": [
           {
            "colorbar": {
             "outlinewidth": 0,
             "ticks": ""
            },
            "colorscale": [
             [
              0,
              "#0d0887"
             ],
             [
              0.1111111111111111,
              "#46039f"
             ],
             [
              0.2222222222222222,
              "#7201a8"
             ],
             [
              0.3333333333333333,
              "#9c179e"
             ],
             [
              0.4444444444444444,
              "#bd3786"
             ],
             [
              0.5555555555555556,
              "#d8576b"
             ],
             [
              0.6666666666666666,
              "#ed7953"
             ],
             [
              0.7777777777777778,
              "#fb9f3a"
             ],
             [
              0.8888888888888888,
              "#fdca26"
             ],
             [
              1,
              "#f0f921"
             ]
            ],
            "type": "heatmap"
           }
          ],
          "heatmapgl": [
           {
            "colorbar": {
             "outlinewidth": 0,
             "ticks": ""
            },
            "colorscale": [
             [
              0,
              "#0d0887"
             ],
             [
              0.1111111111111111,
              "#46039f"
             ],
             [
              0.2222222222222222,
              "#7201a8"
             ],
             [
              0.3333333333333333,
              "#9c179e"
             ],
             [
              0.4444444444444444,
              "#bd3786"
             ],
             [
              0.5555555555555556,
              "#d8576b"
             ],
             [
              0.6666666666666666,
              "#ed7953"
             ],
             [
              0.7777777777777778,
              "#fb9f3a"
             ],
             [
              0.8888888888888888,
              "#fdca26"
             ],
             [
              1,
              "#f0f921"
             ]
            ],
            "type": "heatmapgl"
           }
          ],
          "histogram": [
           {
            "marker": {
             "pattern": {
              "fillmode": "overlay",
              "size": 10,
              "solidity": 0.2
             }
            },
            "type": "histogram"
           }
          ],
          "histogram2d": [
           {
            "colorbar": {
             "outlinewidth": 0,
             "ticks": ""
            },
            "colorscale": [
             [
              0,
              "#0d0887"
             ],
             [
              0.1111111111111111,
              "#46039f"
             ],
             [
              0.2222222222222222,
              "#7201a8"
             ],
             [
              0.3333333333333333,
              "#9c179e"
             ],
             [
              0.4444444444444444,
              "#bd3786"
             ],
             [
              0.5555555555555556,
              "#d8576b"
             ],
             [
              0.6666666666666666,
              "#ed7953"
             ],
             [
              0.7777777777777778,
              "#fb9f3a"
             ],
             [
              0.8888888888888888,
              "#fdca26"
             ],
             [
              1,
              "#f0f921"
             ]
            ],
            "type": "histogram2d"
           }
          ],
          "histogram2dcontour": [
           {
            "colorbar": {
             "outlinewidth": 0,
             "ticks": ""
            },
            "colorscale": [
             [
              0,
              "#0d0887"
             ],
             [
              0.1111111111111111,
              "#46039f"
             ],
             [
              0.2222222222222222,
              "#7201a8"
             ],
             [
              0.3333333333333333,
              "#9c179e"
             ],
             [
              0.4444444444444444,
              "#bd3786"
             ],
             [
              0.5555555555555556,
              "#d8576b"
             ],
             [
              0.6666666666666666,
              "#ed7953"
             ],
             [
              0.7777777777777778,
              "#fb9f3a"
             ],
             [
              0.8888888888888888,
              "#fdca26"
             ],
             [
              1,
              "#f0f921"
             ]
            ],
            "type": "histogram2dcontour"
           }
          ],
          "mesh3d": [
           {
            "colorbar": {
             "outlinewidth": 0,
             "ticks": ""
            },
            "type": "mesh3d"
           }
          ],
          "parcoords": [
           {
            "line": {
             "colorbar": {
              "outlinewidth": 0,
              "ticks": ""
             }
            },
            "type": "parcoords"
           }
          ],
          "pie": [
           {
            "automargin": true,
            "type": "pie"
           }
          ],
          "scatter": [
           {
            "fillpattern": {
             "fillmode": "overlay",
             "size": 10,
             "solidity": 0.2
            },
            "type": "scatter"
           }
          ],
          "scatter3d": [
           {
            "line": {
             "colorbar": {
              "outlinewidth": 0,
              "ticks": ""
             }
            },
            "marker": {
             "colorbar": {
              "outlinewidth": 0,
              "ticks": ""
             }
            },
            "type": "scatter3d"
           }
          ],
          "scattercarpet": [
           {
            "marker": {
             "colorbar": {
              "outlinewidth": 0,
              "ticks": ""
             }
            },
            "type": "scattercarpet"
           }
          ],
          "scattergeo": [
           {
            "marker": {
             "colorbar": {
              "outlinewidth": 0,
              "ticks": ""
             }
            },
            "type": "scattergeo"
           }
          ],
          "scattergl": [
           {
            "marker": {
             "colorbar": {
              "outlinewidth": 0,
              "ticks": ""
             }
            },
            "type": "scattergl"
           }
          ],
          "scattermapbox": [
           {
            "marker": {
             "colorbar": {
              "outlinewidth": 0,
              "ticks": ""
             }
            },
            "type": "scattermapbox"
           }
          ],
          "scatterpolar": [
           {
            "marker": {
             "colorbar": {
              "outlinewidth": 0,
              "ticks": ""
             }
            },
            "type": "scatterpolar"
           }
          ],
          "scatterpolargl": [
           {
            "marker": {
             "colorbar": {
              "outlinewidth": 0,
              "ticks": ""
             }
            },
            "type": "scatterpolargl"
           }
          ],
          "scatterternary": [
           {
            "marker": {
             "colorbar": {
              "outlinewidth": 0,
              "ticks": ""
             }
            },
            "type": "scatterternary"
           }
          ],
          "surface": [
           {
            "colorbar": {
             "outlinewidth": 0,
             "ticks": ""
            },
            "colorscale": [
             [
              0,
              "#0d0887"
             ],
             [
              0.1111111111111111,
              "#46039f"
             ],
             [
              0.2222222222222222,
              "#7201a8"
             ],
             [
              0.3333333333333333,
              "#9c179e"
             ],
             [
              0.4444444444444444,
              "#bd3786"
             ],
             [
              0.5555555555555556,
              "#d8576b"
             ],
             [
              0.6666666666666666,
              "#ed7953"
             ],
             [
              0.7777777777777778,
              "#fb9f3a"
             ],
             [
              0.8888888888888888,
              "#fdca26"
             ],
             [
              1,
              "#f0f921"
             ]
            ],
            "type": "surface"
           }
          ],
          "table": [
           {
            "cells": {
             "fill": {
              "color": "#EBF0F8"
             },
             "line": {
              "color": "white"
             }
            },
            "header": {
             "fill": {
              "color": "#C8D4E3"
             },
             "line": {
              "color": "white"
             }
            },
            "type": "table"
           }
          ]
         },
         "layout": {
          "annotationdefaults": {
           "arrowcolor": "#2a3f5f",
           "arrowhead": 0,
           "arrowwidth": 1
          },
          "autotypenumbers": "strict",
          "coloraxis": {
           "colorbar": {
            "outlinewidth": 0,
            "ticks": ""
           }
          },
          "colorscale": {
           "diverging": [
            [
             0,
             "#8e0152"
            ],
            [
             0.1,
             "#c51b7d"
            ],
            [
             0.2,
             "#de77ae"
            ],
            [
             0.3,
             "#f1b6da"
            ],
            [
             0.4,
             "#fde0ef"
            ],
            [
             0.5,
             "#f7f7f7"
            ],
            [
             0.6,
             "#e6f5d0"
            ],
            [
             0.7,
             "#b8e186"
            ],
            [
             0.8,
             "#7fbc41"
            ],
            [
             0.9,
             "#4d9221"
            ],
            [
             1,
             "#276419"
            ]
           ],
           "sequential": [
            [
             0,
             "#0d0887"
            ],
            [
             0.1111111111111111,
             "#46039f"
            ],
            [
             0.2222222222222222,
             "#7201a8"
            ],
            [
             0.3333333333333333,
             "#9c179e"
            ],
            [
             0.4444444444444444,
             "#bd3786"
            ],
            [
             0.5555555555555556,
             "#d8576b"
            ],
            [
             0.6666666666666666,
             "#ed7953"
            ],
            [
             0.7777777777777778,
             "#fb9f3a"
            ],
            [
             0.8888888888888888,
             "#fdca26"
            ],
            [
             1,
             "#f0f921"
            ]
           ],
           "sequentialminus": [
            [
             0,
             "#0d0887"
            ],
            [
             0.1111111111111111,
             "#46039f"
            ],
            [
             0.2222222222222222,
             "#7201a8"
            ],
            [
             0.3333333333333333,
             "#9c179e"
            ],
            [
             0.4444444444444444,
             "#bd3786"
            ],
            [
             0.5555555555555556,
             "#d8576b"
            ],
            [
             0.6666666666666666,
             "#ed7953"
            ],
            [
             0.7777777777777778,
             "#fb9f3a"
            ],
            [
             0.8888888888888888,
             "#fdca26"
            ],
            [
             1,
             "#f0f921"
            ]
           ]
          },
          "colorway": [
           "#636efa",
           "#EF553B",
           "#00cc96",
           "#ab63fa",
           "#FFA15A",
           "#19d3f3",
           "#FF6692",
           "#B6E880",
           "#FF97FF",
           "#FECB52"
          ],
          "font": {
           "color": "#2a3f5f"
          },
          "geo": {
           "bgcolor": "white",
           "lakecolor": "white",
           "landcolor": "#E5ECF6",
           "showlakes": true,
           "showland": true,
           "subunitcolor": "white"
          },
          "hoverlabel": {
           "align": "left"
          },
          "hovermode": "closest",
          "mapbox": {
           "style": "light"
          },
          "paper_bgcolor": "white",
          "plot_bgcolor": "#E5ECF6",
          "polar": {
           "angularaxis": {
            "gridcolor": "white",
            "linecolor": "white",
            "ticks": ""
           },
           "bgcolor": "#E5ECF6",
           "radialaxis": {
            "gridcolor": "white",
            "linecolor": "white",
            "ticks": ""
           }
          },
          "scene": {
           "xaxis": {
            "backgroundcolor": "#E5ECF6",
            "gridcolor": "white",
            "gridwidth": 2,
            "linecolor": "white",
            "showbackground": true,
            "ticks": "",
            "zerolinecolor": "white"
           },
           "yaxis": {
            "backgroundcolor": "#E5ECF6",
            "gridcolor": "white",
            "gridwidth": 2,
            "linecolor": "white",
            "showbackground": true,
            "ticks": "",
            "zerolinecolor": "white"
           },
           "zaxis": {
            "backgroundcolor": "#E5ECF6",
            "gridcolor": "white",
            "gridwidth": 2,
            "linecolor": "white",
            "showbackground": true,
            "ticks": "",
            "zerolinecolor": "white"
           }
          },
          "shapedefaults": {
           "line": {
            "color": "#2a3f5f"
           }
          },
          "ternary": {
           "aaxis": {
            "gridcolor": "white",
            "linecolor": "white",
            "ticks": ""
           },
           "baxis": {
            "gridcolor": "white",
            "linecolor": "white",
            "ticks": ""
           },
           "bgcolor": "#E5ECF6",
           "caxis": {
            "gridcolor": "white",
            "linecolor": "white",
            "ticks": ""
           }
          },
          "title": {
           "x": 0.05
          },
          "xaxis": {
           "automargin": true,
           "gridcolor": "white",
           "linecolor": "white",
           "ticks": "",
           "title": {
            "standoff": 15
           },
           "zerolinecolor": "white",
           "zerolinewidth": 2
          },
          "yaxis": {
           "automargin": true,
           "gridcolor": "white",
           "linecolor": "white",
           "ticks": "",
           "title": {
            "standoff": 15
           },
           "zerolinecolor": "white",
           "zerolinewidth": 2
          }
         }
        },
        "title": {
         "text": "Temperatures in meeting room & Prediction Markers for fault 4"
        },
        "xaxis": {
         "title": {
          "text": "Time"
         }
        },
        "yaxis": {
         "title": {
          "text": "Temperature (°C)"
         }
        }
       }
      }
     },
     "metadata": {},
     "output_type": "display_data"
    }
   ],
   "source": [
    "fig = go.Figure()\n",
    "\n",
    "# Base temperature curve\n",
    "fig.add_trace(go.Scatter(\n",
    "    x=df_engen['Time'], \n",
    "    y=df_engen[test_temp], \n",
    "    mode='lines', \n",
    "    name='Meeting room faulty operation'\n",
    "))\n",
    "\n",
    "# Convert y_pred to a Pandas Series with the correct index\n",
    "y_pred_series = pd.Series(y_pred, index=test_y.index)\n",
    "\n",
    "# Find indices for different cases\n",
    "correct_1_indices = (test_y == 4) & (y_pred_series == 4)  # True 1, Pred 1 -> Green\n",
    "false_negative_indices = (test_y == 4) & (y_pred_series == 0)  # True 1, Pred 0 -> Red\n",
    "false_positive_indices = (test_y == 0) & (y_pred_series == 4)  # True 0, Pred 1 -> Orange\n",
    "\n",
    "# Extract timestamps\n",
    "correct_1_timestamps = df_engen.loc[test_y.index, 'Time'][correct_1_indices]\n",
    "false_negative_timestamps = df_engen.loc[test_y.index, 'Time'][false_negative_indices]\n",
    "false_positive_timestamps = df_engen.loc[test_y.index, 'Time'][false_positive_indices]\n",
    "\n",
    "# Extract corresponding temperatures\n",
    "correct_1_temps = df_engen.loc[test_y.index, test_temp][correct_1_indices]\n",
    "false_negative_temps = df_engen.loc[test_y.index, test_temp][false_negative_indices]\n",
    "false_positive_temps = df_engen.loc[test_y.index, test_temp][false_positive_indices]\n",
    "\n",
    "# Add markers for correct predictions (Green)\n",
    "fig.add_trace(go.Scatter(\n",
    "    x=correct_1_timestamps,\n",
    "    y=correct_1_temps,\n",
    "    mode='markers',\n",
    "    marker=dict(color='green', size=10),\n",
    "    name='Correct (4 predicted as 4)'\n",
    "))\n",
    "\n",
    "# Add markers for false negatives (Red)\n",
    "fig.add_trace(go.Scatter(\n",
    "    x=false_negative_timestamps,\n",
    "    y=false_negative_temps,\n",
    "    mode='markers',\n",
    "    marker=dict(color='red', size=10, symbol='x'),\n",
    "    name='False Negative (4 predicted as 0)'\n",
    "))\n",
    "\n",
    "# Add markers for false positives (Orange)\n",
    "fig.add_trace(go.Scatter(\n",
    "    x=false_positive_timestamps,\n",
    "    y=false_positive_temps,\n",
    "    mode='markers',\n",
    "    marker=dict(color='orange', size=10, symbol='triangle-up'),\n",
    "    name='False Positive (0 predicted as 4)'\n",
    "))\n",
    "\n",
    "# Customize layout\n",
    "fig.update_layout(\n",
    "    title=\"Temperatures in meeting room & Prediction Markers for fault 4\",\n",
    "    xaxis_title=\"Time\",\n",
    "    yaxis_title=\"Temperature (°C)\",\n",
    "    legend_title=\"Legend\",\n",
    "    template=\"plotly\"\n",
    ")\n",
    "\n",
    "# Show the plot\n",
    "fig.show()"
   ]
  },
  {
   "cell_type": "markdown",
   "metadata": {},
   "source": [
    "### XGBoost"
   ]
  },
  {
   "cell_type": "code",
   "execution_count": 125,
   "metadata": {},
   "outputs": [
    {
     "name": "stdout",
     "output_type": "stream",
     "text": [
      "Accuracy on Train Set: 1.0\n",
      "Train Report:\n",
      "               precision    recall  f1-score   support\n",
      "\n",
      "           0       1.00      1.00      1.00      8572\n",
      "           1       1.00      1.00      1.00       188\n",
      "\n",
      "    accuracy                           1.00      8760\n",
      "   macro avg       1.00      1.00      1.00      8760\n",
      "weighted avg       1.00      1.00      1.00      8760\n",
      "\n",
      "\n",
      "Accuracy on Test Set: 1.0\n",
      "\n",
      "Classification Report:\n",
      "               precision    recall  f1-score   support\n",
      "\n",
      "           0       1.00      1.00      1.00       172\n",
      "           1       1.00      1.00      1.00         4\n",
      "\n",
      "    accuracy                           1.00       176\n",
      "   macro avg       1.00      1.00      1.00       176\n",
      "weighted avg       1.00      1.00      1.00       176\n",
      "\n"
     ]
    }
   ],
   "source": [
    "train_y = train_y.replace(4, 1)\n",
    "test_y = test_y.replace(4, 1)\n",
    "\n",
    "# Initialize the XGBoost Classifier\n",
    "xgb_model = XGBClassifier()\n",
    "\n",
    "# Train the model\n",
    "xgb_model.fit(train_x, train_y)\n",
    "\n",
    "# Make predictions\n",
    "y_pred_train = xgb_model.predict(train_x)\n",
    "y_pred = xgb_model.predict(test_x)\n",
    "\n",
    "# Evaluate the model\n",
    "print(\"Accuracy on Train Set:\", accuracy_score(train_y, y_pred_train))\n",
    "print(\"Train Report:\\n\", classification_report(train_y, y_pred_train))\n",
    "print()\n",
    "print(\"Accuracy on Test Set:\", accuracy_score(test_y, y_pred))\n",
    "print(\"\\nClassification Report:\\n\", classification_report(test_y, y_pred))"
   ]
  },
  {
   "cell_type": "code",
   "execution_count": 126,
   "metadata": {},
   "outputs": [
    {
     "name": "stdout",
     "output_type": "stream",
     "text": [
      "\n",
      "Summary (Mean ± Std):\n",
      "          run  precision_class_0  recall_class_0  f1_class_0  \\\n",
      "mean  5.50000                1.0             1.0         1.0   \n",
      "std   3.02765                0.0             0.0         0.0   \n",
      "\n",
      "      precision_class_1  recall_class_1  f1_class_1  \n",
      "mean                1.0             1.0         1.0  \n",
      "std                 0.0             0.0         0.0  \n",
      "\n",
      "All Per-Class Results:\n",
      "   run  precision_class_0  recall_class_0  f1_class_0  precision_class_1  \\\n",
      "0    1                1.0             1.0         1.0                1.0   \n",
      "1    2                1.0             1.0         1.0                1.0   \n",
      "2    3                1.0             1.0         1.0                1.0   \n",
      "3    4                1.0             1.0         1.0                1.0   \n",
      "4    5                1.0             1.0         1.0                1.0   \n",
      "5    6                1.0             1.0         1.0                1.0   \n",
      "6    7                1.0             1.0         1.0                1.0   \n",
      "7    8                1.0             1.0         1.0                1.0   \n",
      "8    9                1.0             1.0         1.0                1.0   \n",
      "9   10                1.0             1.0         1.0                1.0   \n",
      "\n",
      "   recall_class_1  f1_class_1  \n",
      "0             1.0         1.0  \n",
      "1             1.0         1.0  \n",
      "2             1.0         1.0  \n",
      "3             1.0         1.0  \n",
      "4             1.0         1.0  \n",
      "5             1.0         1.0  \n",
      "6             1.0         1.0  \n",
      "7             1.0         1.0  \n",
      "8             1.0         1.0  \n",
      "9             1.0         1.0  \n"
     ]
    }
   ],
   "source": [
    "# Store all runs\n",
    "results = []\n",
    "\n",
    "for i in range(10):\n",
    "    xgb_model = XGBClassifier()\n",
    "    xgb_model.fit(train_x, train_y)\n",
    "\n",
    "    y_pred = xgb_model.predict(test_x)\n",
    "    report = classification_report(test_y, y_pred, output_dict=True)\n",
    "\n",
    "    # Store per-class metrics\n",
    "    run_result = {'run': i + 1}\n",
    "    for label in report:\n",
    "        if label not in ('accuracy', 'macro avg', 'weighted avg'):\n",
    "            run_result[f'precision_class_{label}'] = report[label]['precision']\n",
    "            run_result[f'recall_class_{label}'] = report[label]['recall']\n",
    "            run_result[f'f1_class_{label}'] = report[label]['f1-score']\n",
    "    \n",
    "    results.append(run_result)\n",
    "\n",
    "# Results as DataFrame\n",
    "results_df = pd.DataFrame(results)\n",
    "\n",
    "# Summary (mean and std)\n",
    "summary = results_df.describe().loc[['mean', 'std']]\n",
    "\n",
    "print(\"\\nSummary (Mean ± Std):\")\n",
    "print(summary)\n",
    "\n",
    "print(\"\\nAll Per-Class Results:\")\n",
    "print(results_df)"
   ]
  },
  {
   "cell_type": "markdown",
   "metadata": {},
   "source": [
    "## 3) Multiclass model på Mileparken "
   ]
  },
  {
   "cell_type": "code",
   "execution_count": 127,
   "metadata": {},
   "outputs": [],
   "source": [
    "df_simulated = pd.read_csv('/Users/sararhiger/Desktop/Master thesis /Data/Processed data/Multiclass_dataprocessed.csv')\n",
    "\n",
    "df_engen = pd.read_csv('/Users/sararhiger/Desktop/Master thesis /Data/Processed data/Mileparken.csv')\n"
   ]
  },
  {
   "cell_type": "code",
   "execution_count": 128,
   "metadata": {},
   "outputs": [],
   "source": [
    "# Define the start and end times for training data\n",
    "start_time_train = \"2023-01-01 00:00:00\"  \n",
    "end_time_train = \"2023-12-31 23:00:00\"  \n",
    "\n",
    "# Define the start and end times for testing data\n",
    "start_time_test = \"2025-03-11 00:00:00\"  \n",
    "end_time_test = \"2025-03-31 07:00:00\"\n",
    "\n",
    "# Filter DataFrame for timestamps within the range\n",
    "df_train = df_simulated[(df_simulated['Time'] >= start_time_train) & (df_simulated['Time'] <= end_time_train)]\n",
    "\n",
    "df_test = df_engen[(df_engen['Time'] >= start_time_test) & (df_engen['Time'] <= end_time_test)]\n",
    "\n",
    "\n"
   ]
  },
  {
   "cell_type": "code",
   "execution_count": 129,
   "metadata": {},
   "outputs": [],
   "source": [
    "train_x= df_train[['Global Horizontal Irradiance, W/m2','Outdoor air temp','Mean air temperature, degC, zone 1', 'Relative humidity, %, zone 1', 'CO2, ppm (vol), zone 1', 'Ideal heaters and other local u']]\n",
    "train_y = df_train['FDD, zone 1']\n",
    "\n",
    "test_x = df_test[['GHI, W/m2','Outdoor temperature','TEMP °C', 'HUMIDITY %', 'CO2 ppm', 'Heating kWh']]\n",
    "test_y = df_test['FDD']\n",
    "\n",
    "# Define zones and variables for plots \n",
    "test_temp = 'TEMP °C'\n",
    "test_heat = 'Heating kWh'"
   ]
  },
  {
   "cell_type": "code",
   "execution_count": 130,
   "metadata": {},
   "outputs": [
    {
     "name": "stdout",
     "output_type": "stream",
     "text": [
      "Accuracy: 1.0\n",
      "Train Report:\n",
      "               precision    recall  f1-score   support\n",
      "\n",
      "           0       1.00      1.00      1.00      6976\n",
      "           1       1.00      1.00      1.00        48\n",
      "           2       1.00      1.00      1.00       103\n",
      "           3       1.00      1.00      1.00      1445\n",
      "           4       1.00      1.00      1.00       188\n",
      "\n",
      "    accuracy                           1.00      8760\n",
      "   macro avg       1.00      1.00      1.00      8760\n",
      "weighted avg       1.00      1.00      1.00      8760\n",
      "\n",
      "\n",
      "Accuracy: 0.9569672131147541\n",
      "\n",
      "Classification Report:\n",
      "               precision    recall  f1-score   support\n",
      "\n",
      "           0       0.96      1.00      0.98       465\n",
      "           1       1.00      0.11      0.19        19\n",
      "           4       0.00      0.00      0.00         4\n",
      "\n",
      "    accuracy                           0.96       488\n",
      "   macro avg       0.65      0.37      0.39       488\n",
      "weighted avg       0.95      0.96      0.94       488\n",
      "\n",
      "[0.02754447 0.03064252 0.10878296 0.03266064 0.77368322 0.02668619]\n"
     ]
    },
    {
     "name": "stderr",
     "output_type": "stream",
     "text": [
      "/Users/sararhiger/opt/anaconda3/lib/python3.7/site-packages/sklearn/metrics/_classification.py:1272: UndefinedMetricWarning:\n",
      "\n",
      "Precision and F-score are ill-defined and being set to 0.0 in labels with no predicted samples. Use `zero_division` parameter to control this behavior.\n",
      "\n"
     ]
    }
   ],
   "source": [
    "# Initialize the Random Forest Classifier\n",
    "rf_model = RandomForestClassifier()\n",
    "\n",
    "# Train the model\n",
    "rf_model.fit(train_x, train_y)\n",
    "\n",
    "# Make predictions\n",
    "y_pred_train = rf_model.predict(train_x)\n",
    "y_pred = rf_model.predict(test_x)\n",
    "\n",
    "# Evaluate the model\n",
    "print(\"Accuracy:\", accuracy_score(train_y, y_pred_train))\n",
    "print(\"Train Report:\\n\", classification_report(train_y, y_pred_train))\n",
    "print()\n",
    "print(\"Accuracy:\", accuracy_score(test_y, y_pred))\n",
    "print(\"\\nClassification Report:\\n\", classification_report(test_y, y_pred))\n",
    "\n",
    "print(rf_model.feature_importances_)"
   ]
  },
  {
   "cell_type": "code",
   "execution_count": 131,
   "metadata": {},
   "outputs": [
    {
     "name": "stdout",
     "output_type": "stream",
     "text": [
      "Any NaNs? False\n",
      "          run  precision_class_0  recall_class_0  f1_class_0  \\\n",
      "mean  5.50000           0.959167        0.998925    0.978624   \n",
      "std   3.02765           0.006398        0.002730    0.002363   \n",
      "\n",
      "      precision_class_1  recall_class_1  f1_class_1  precision_class_2  \\\n",
      "mean                1.0        0.089474    0.163333                0.0   \n",
      "std                 0.0        0.025423    0.043704                0.0   \n",
      "\n",
      "      recall_class_2  f1_class_2  precision_class_3  recall_class_3  \\\n",
      "mean             0.0         0.0                0.0             0.0   \n",
      "std              0.0         0.0                0.0             0.0   \n",
      "\n",
      "      f1_class_3  precision_class_4  recall_class_4  f1_class_4  \n",
      "mean         0.0                0.0             0.0         0.0  \n",
      "std          0.0                0.0             0.0         0.0  \n"
     ]
    }
   ],
   "source": [
    "results = []\n",
    "expected_labels = ['0', '1', '2', '3', '4']  # All classes in training data\n",
    "\n",
    "for i in range(10):\n",
    "    rf_model = RandomForestClassifier()\n",
    "    rf_model.fit(train_x, train_y)\n",
    "\n",
    "    y_pred = rf_model.predict(test_x)\n",
    "    report = classification_report(test_y, y_pred, output_dict=True, zero_division=0)\n",
    "\n",
    "    run_result = {'run': i + 1}\n",
    "    \n",
    "    for label in expected_labels:\n",
    "        if label in report:\n",
    "            run_result[f'precision_class_{label}'] = report[label]['precision']\n",
    "            run_result[f'recall_class_{label}'] = report[label]['recall']\n",
    "            run_result[f'f1_class_{label}'] = report[label]['f1-score']\n",
    "        else:\n",
    "            run_result[f'precision_class_{label}'] = 0.0\n",
    "            run_result[f'recall_class_{label}'] = 0.0\n",
    "            run_result[f'f1_class_{label}'] = 0.0\n",
    "\n",
    "    results.append(run_result)\n",
    "\n",
    "# Build results DataFrame\n",
    "results_df = pd.DataFrame(results)\n",
    "\n",
    "# Confirm no NaNs\n",
    "print(\"Any NaNs?\", results_df.isna().any().any())\n",
    "\n",
    "# Summary\n",
    "summary = results_df.describe().loc[['mean', 'std']]\n",
    "print(summary)"
   ]
  },
  {
   "cell_type": "code",
   "execution_count": 132,
   "metadata": {},
   "outputs": [
    {
     "data": {
      "application/vnd.plotly.v1+json": {
       "config": {
        "plotlyServerURL": "https://plot.ly"
       },
       "data": [
        {
         "coloraxis": "coloraxis",
         "hovertemplate": "Predicted: %{x}<br>Actual: %{y}<br>Count: %{z}<extra></extra>",
         "name": "0",
         "texttemplate": "%{z}",
         "type": "heatmap",
         "x": [
          0,
          1,
          2,
          3,
          4
         ],
         "xaxis": "x",
         "y": [
          0,
          1,
          2,
          3,
          4
         ],
         "yaxis": "y",
         "z": [
          [
           465,
           0,
           0,
           0,
           0
          ],
          [
           17,
           2,
           0,
           0,
           0
          ],
          [
           0,
           0,
           0,
           0,
           0
          ],
          [
           0,
           0,
           0,
           0,
           0
          ],
          [
           4,
           0,
           0,
           0,
           0
          ]
         ]
        }
       ],
       "layout": {
        "coloraxis": {
         "colorbar": {
          "title": {
           "text": "Count"
          }
         },
         "colorscale": [
          [
           0,
           "rgb(247,251,255)"
          ],
          [
           0.125,
           "rgb(222,235,247)"
          ],
          [
           0.25,
           "rgb(198,219,239)"
          ],
          [
           0.375,
           "rgb(158,202,225)"
          ],
          [
           0.5,
           "rgb(107,174,214)"
          ],
          [
           0.625,
           "rgb(66,146,198)"
          ],
          [
           0.75,
           "rgb(33,113,181)"
          ],
          [
           0.875,
           "rgb(8,81,156)"
          ],
          [
           1,
           "rgb(8,48,107)"
          ]
         ]
        },
        "height": 500,
        "margin": {
         "t": 60
        },
        "template": {
         "data": {
          "bar": [
           {
            "error_x": {
             "color": "#2a3f5f"
            },
            "error_y": {
             "color": "#2a3f5f"
            },
            "marker": {
             "line": {
              "color": "#E5ECF6",
              "width": 0.5
             },
             "pattern": {
              "fillmode": "overlay",
              "size": 10,
              "solidity": 0.2
             }
            },
            "type": "bar"
           }
          ],
          "barpolar": [
           {
            "marker": {
             "line": {
              "color": "#E5ECF6",
              "width": 0.5
             },
             "pattern": {
              "fillmode": "overlay",
              "size": 10,
              "solidity": 0.2
             }
            },
            "type": "barpolar"
           }
          ],
          "carpet": [
           {
            "aaxis": {
             "endlinecolor": "#2a3f5f",
             "gridcolor": "white",
             "linecolor": "white",
             "minorgridcolor": "white",
             "startlinecolor": "#2a3f5f"
            },
            "baxis": {
             "endlinecolor": "#2a3f5f",
             "gridcolor": "white",
             "linecolor": "white",
             "minorgridcolor": "white",
             "startlinecolor": "#2a3f5f"
            },
            "type": "carpet"
           }
          ],
          "choropleth": [
           {
            "colorbar": {
             "outlinewidth": 0,
             "ticks": ""
            },
            "type": "choropleth"
           }
          ],
          "contour": [
           {
            "colorbar": {
             "outlinewidth": 0,
             "ticks": ""
            },
            "colorscale": [
             [
              0,
              "#0d0887"
             ],
             [
              0.1111111111111111,
              "#46039f"
             ],
             [
              0.2222222222222222,
              "#7201a8"
             ],
             [
              0.3333333333333333,
              "#9c179e"
             ],
             [
              0.4444444444444444,
              "#bd3786"
             ],
             [
              0.5555555555555556,
              "#d8576b"
             ],
             [
              0.6666666666666666,
              "#ed7953"
             ],
             [
              0.7777777777777778,
              "#fb9f3a"
             ],
             [
              0.8888888888888888,
              "#fdca26"
             ],
             [
              1,
              "#f0f921"
             ]
            ],
            "type": "contour"
           }
          ],
          "contourcarpet": [
           {
            "colorbar": {
             "outlinewidth": 0,
             "ticks": ""
            },
            "type": "contourcarpet"
           }
          ],
          "heatmap": [
           {
            "colorbar": {
             "outlinewidth": 0,
             "ticks": ""
            },
            "colorscale": [
             [
              0,
              "#0d0887"
             ],
             [
              0.1111111111111111,
              "#46039f"
             ],
             [
              0.2222222222222222,
              "#7201a8"
             ],
             [
              0.3333333333333333,
              "#9c179e"
             ],
             [
              0.4444444444444444,
              "#bd3786"
             ],
             [
              0.5555555555555556,
              "#d8576b"
             ],
             [
              0.6666666666666666,
              "#ed7953"
             ],
             [
              0.7777777777777778,
              "#fb9f3a"
             ],
             [
              0.8888888888888888,
              "#fdca26"
             ],
             [
              1,
              "#f0f921"
             ]
            ],
            "type": "heatmap"
           }
          ],
          "heatmapgl": [
           {
            "colorbar": {
             "outlinewidth": 0,
             "ticks": ""
            },
            "colorscale": [
             [
              0,
              "#0d0887"
             ],
             [
              0.1111111111111111,
              "#46039f"
             ],
             [
              0.2222222222222222,
              "#7201a8"
             ],
             [
              0.3333333333333333,
              "#9c179e"
             ],
             [
              0.4444444444444444,
              "#bd3786"
             ],
             [
              0.5555555555555556,
              "#d8576b"
             ],
             [
              0.6666666666666666,
              "#ed7953"
             ],
             [
              0.7777777777777778,
              "#fb9f3a"
             ],
             [
              0.8888888888888888,
              "#fdca26"
             ],
             [
              1,
              "#f0f921"
             ]
            ],
            "type": "heatmapgl"
           }
          ],
          "histogram": [
           {
            "marker": {
             "pattern": {
              "fillmode": "overlay",
              "size": 10,
              "solidity": 0.2
             }
            },
            "type": "histogram"
           }
          ],
          "histogram2d": [
           {
            "colorbar": {
             "outlinewidth": 0,
             "ticks": ""
            },
            "colorscale": [
             [
              0,
              "#0d0887"
             ],
             [
              0.1111111111111111,
              "#46039f"
             ],
             [
              0.2222222222222222,
              "#7201a8"
             ],
             [
              0.3333333333333333,
              "#9c179e"
             ],
             [
              0.4444444444444444,
              "#bd3786"
             ],
             [
              0.5555555555555556,
              "#d8576b"
             ],
             [
              0.6666666666666666,
              "#ed7953"
             ],
             [
              0.7777777777777778,
              "#fb9f3a"
             ],
             [
              0.8888888888888888,
              "#fdca26"
             ],
             [
              1,
              "#f0f921"
             ]
            ],
            "type": "histogram2d"
           }
          ],
          "histogram2dcontour": [
           {
            "colorbar": {
             "outlinewidth": 0,
             "ticks": ""
            },
            "colorscale": [
             [
              0,
              "#0d0887"
             ],
             [
              0.1111111111111111,
              "#46039f"
             ],
             [
              0.2222222222222222,
              "#7201a8"
             ],
             [
              0.3333333333333333,
              "#9c179e"
             ],
             [
              0.4444444444444444,
              "#bd3786"
             ],
             [
              0.5555555555555556,
              "#d8576b"
             ],
             [
              0.6666666666666666,
              "#ed7953"
             ],
             [
              0.7777777777777778,
              "#fb9f3a"
             ],
             [
              0.8888888888888888,
              "#fdca26"
             ],
             [
              1,
              "#f0f921"
             ]
            ],
            "type": "histogram2dcontour"
           }
          ],
          "mesh3d": [
           {
            "colorbar": {
             "outlinewidth": 0,
             "ticks": ""
            },
            "type": "mesh3d"
           }
          ],
          "parcoords": [
           {
            "line": {
             "colorbar": {
              "outlinewidth": 0,
              "ticks": ""
             }
            },
            "type": "parcoords"
           }
          ],
          "pie": [
           {
            "automargin": true,
            "type": "pie"
           }
          ],
          "scatter": [
           {
            "fillpattern": {
             "fillmode": "overlay",
             "size": 10,
             "solidity": 0.2
            },
            "type": "scatter"
           }
          ],
          "scatter3d": [
           {
            "line": {
             "colorbar": {
              "outlinewidth": 0,
              "ticks": ""
             }
            },
            "marker": {
             "colorbar": {
              "outlinewidth": 0,
              "ticks": ""
             }
            },
            "type": "scatter3d"
           }
          ],
          "scattercarpet": [
           {
            "marker": {
             "colorbar": {
              "outlinewidth": 0,
              "ticks": ""
             }
            },
            "type": "scattercarpet"
           }
          ],
          "scattergeo": [
           {
            "marker": {
             "colorbar": {
              "outlinewidth": 0,
              "ticks": ""
             }
            },
            "type": "scattergeo"
           }
          ],
          "scattergl": [
           {
            "marker": {
             "colorbar": {
              "outlinewidth": 0,
              "ticks": ""
             }
            },
            "type": "scattergl"
           }
          ],
          "scattermapbox": [
           {
            "marker": {
             "colorbar": {
              "outlinewidth": 0,
              "ticks": ""
             }
            },
            "type": "scattermapbox"
           }
          ],
          "scatterpolar": [
           {
            "marker": {
             "colorbar": {
              "outlinewidth": 0,
              "ticks": ""
             }
            },
            "type": "scatterpolar"
           }
          ],
          "scatterpolargl": [
           {
            "marker": {
             "colorbar": {
              "outlinewidth": 0,
              "ticks": ""
             }
            },
            "type": "scatterpolargl"
           }
          ],
          "scatterternary": [
           {
            "marker": {
             "colorbar": {
              "outlinewidth": 0,
              "ticks": ""
             }
            },
            "type": "scatterternary"
           }
          ],
          "surface": [
           {
            "colorbar": {
             "outlinewidth": 0,
             "ticks": ""
            },
            "colorscale": [
             [
              0,
              "#0d0887"
             ],
             [
              0.1111111111111111,
              "#46039f"
             ],
             [
              0.2222222222222222,
              "#7201a8"
             ],
             [
              0.3333333333333333,
              "#9c179e"
             ],
             [
              0.4444444444444444,
              "#bd3786"
             ],
             [
              0.5555555555555556,
              "#d8576b"
             ],
             [
              0.6666666666666666,
              "#ed7953"
             ],
             [
              0.7777777777777778,
              "#fb9f3a"
             ],
             [
              0.8888888888888888,
              "#fdca26"
             ],
             [
              1,
              "#f0f921"
             ]
            ],
            "type": "surface"
           }
          ],
          "table": [
           {
            "cells": {
             "fill": {
              "color": "#EBF0F8"
             },
             "line": {
              "color": "white"
             }
            },
            "header": {
             "fill": {
              "color": "#C8D4E3"
             },
             "line": {
              "color": "white"
             }
            },
            "type": "table"
           }
          ]
         },
         "layout": {
          "annotationdefaults": {
           "arrowcolor": "#2a3f5f",
           "arrowhead": 0,
           "arrowwidth": 1
          },
          "autotypenumbers": "strict",
          "coloraxis": {
           "colorbar": {
            "outlinewidth": 0,
            "ticks": ""
           }
          },
          "colorscale": {
           "diverging": [
            [
             0,
             "#8e0152"
            ],
            [
             0.1,
             "#c51b7d"
            ],
            [
             0.2,
             "#de77ae"
            ],
            [
             0.3,
             "#f1b6da"
            ],
            [
             0.4,
             "#fde0ef"
            ],
            [
             0.5,
             "#f7f7f7"
            ],
            [
             0.6,
             "#e6f5d0"
            ],
            [
             0.7,
             "#b8e186"
            ],
            [
             0.8,
             "#7fbc41"
            ],
            [
             0.9,
             "#4d9221"
            ],
            [
             1,
             "#276419"
            ]
           ],
           "sequential": [
            [
             0,
             "#0d0887"
            ],
            [
             0.1111111111111111,
             "#46039f"
            ],
            [
             0.2222222222222222,
             "#7201a8"
            ],
            [
             0.3333333333333333,
             "#9c179e"
            ],
            [
             0.4444444444444444,
             "#bd3786"
            ],
            [
             0.5555555555555556,
             "#d8576b"
            ],
            [
             0.6666666666666666,
             "#ed7953"
            ],
            [
             0.7777777777777778,
             "#fb9f3a"
            ],
            [
             0.8888888888888888,
             "#fdca26"
            ],
            [
             1,
             "#f0f921"
            ]
           ],
           "sequentialminus": [
            [
             0,
             "#0d0887"
            ],
            [
             0.1111111111111111,
             "#46039f"
            ],
            [
             0.2222222222222222,
             "#7201a8"
            ],
            [
             0.3333333333333333,
             "#9c179e"
            ],
            [
             0.4444444444444444,
             "#bd3786"
            ],
            [
             0.5555555555555556,
             "#d8576b"
            ],
            [
             0.6666666666666666,
             "#ed7953"
            ],
            [
             0.7777777777777778,
             "#fb9f3a"
            ],
            [
             0.8888888888888888,
             "#fdca26"
            ],
            [
             1,
             "#f0f921"
            ]
           ]
          },
          "colorway": [
           "#636efa",
           "#EF553B",
           "#00cc96",
           "#ab63fa",
           "#FFA15A",
           "#19d3f3",
           "#FF6692",
           "#B6E880",
           "#FF97FF",
           "#FECB52"
          ],
          "font": {
           "color": "#2a3f5f"
          },
          "geo": {
           "bgcolor": "white",
           "lakecolor": "white",
           "landcolor": "#E5ECF6",
           "showlakes": true,
           "showland": true,
           "subunitcolor": "white"
          },
          "hoverlabel": {
           "align": "left"
          },
          "hovermode": "closest",
          "mapbox": {
           "style": "light"
          },
          "paper_bgcolor": "white",
          "plot_bgcolor": "#E5ECF6",
          "polar": {
           "angularaxis": {
            "gridcolor": "white",
            "linecolor": "white",
            "ticks": ""
           },
           "bgcolor": "#E5ECF6",
           "radialaxis": {
            "gridcolor": "white",
            "linecolor": "white",
            "ticks": ""
           }
          },
          "scene": {
           "xaxis": {
            "backgroundcolor": "#E5ECF6",
            "gridcolor": "white",
            "gridwidth": 2,
            "linecolor": "white",
            "showbackground": true,
            "ticks": "",
            "zerolinecolor": "white"
           },
           "yaxis": {
            "backgroundcolor": "#E5ECF6",
            "gridcolor": "white",
            "gridwidth": 2,
            "linecolor": "white",
            "showbackground": true,
            "ticks": "",
            "zerolinecolor": "white"
           },
           "zaxis": {
            "backgroundcolor": "#E5ECF6",
            "gridcolor": "white",
            "gridwidth": 2,
            "linecolor": "white",
            "showbackground": true,
            "ticks": "",
            "zerolinecolor": "white"
           }
          },
          "shapedefaults": {
           "line": {
            "color": "#2a3f5f"
           }
          },
          "ternary": {
           "aaxis": {
            "gridcolor": "white",
            "linecolor": "white",
            "ticks": ""
           },
           "baxis": {
            "gridcolor": "white",
            "linecolor": "white",
            "ticks": ""
           },
           "bgcolor": "#E5ECF6",
           "caxis": {
            "gridcolor": "white",
            "linecolor": "white",
            "ticks": ""
           }
          },
          "title": {
           "x": 0.05
          },
          "xaxis": {
           "automargin": true,
           "gridcolor": "white",
           "linecolor": "white",
           "ticks": "",
           "title": {
            "standoff": 15
           },
           "zerolinecolor": "white",
           "zerolinewidth": 2
          },
          "yaxis": {
           "automargin": true,
           "gridcolor": "white",
           "linecolor": "white",
           "ticks": "",
           "title": {
            "standoff": 15
           },
           "zerolinecolor": "white",
           "zerolinewidth": 2
          }
         }
        },
        "title": {
         "text": "Confusion Matrix for meeting room"
        },
        "width": 700,
        "xaxis": {
         "anchor": "y",
         "constrain": "domain",
         "domain": [
          0,
          1
         ],
         "scaleanchor": "y",
         "tickmode": "array",
         "ticktext": [
          "Fault free",
          "Open window",
          "Heating shut down",
          "Defect CO2 sensor",
          "Setpoint 25 degrees"
         ],
         "tickvals": [
          0,
          1,
          2,
          3,
          4
         ],
         "title": {
          "text": "Predicted Label"
         }
        },
        "yaxis": {
         "anchor": "x",
         "autorange": "reversed",
         "constrain": "domain",
         "domain": [
          0,
          1
         ],
         "tickmode": "array",
         "ticktext": [
          "Fault free",
          "Open window",
          "Heating shut down",
          "Defect CO2 sensor ",
          "Setpoint 25 degrees"
         ],
         "tickvals": [
          0,
          1,
          2,
          3,
          4
         ],
         "title": {
          "text": "Actual Label"
         }
        }
       }
      }
     },
     "metadata": {},
     "output_type": "display_data"
    }
   ],
   "source": [
    "# Define all possible classes\n",
    "all_classes = [0, 1, 2, 3, 4]  \n",
    "\n",
    "# Compute confusion matrix with fixed labels\n",
    "cm = confusion_matrix(test_y, y_pred, labels=all_classes)\n",
    "\n",
    "# Convert to DataFrame\n",
    "df_cm = pd.DataFrame(cm, index=all_classes, columns=all_classes)\n",
    "\n",
    "# Create interactive Plotly heatmap\n",
    "fig = px.imshow(df_cm, \n",
    "                text_auto=True,  \n",
    "                color_continuous_scale='Blues',  \n",
    "                labels=dict(x=\"Predicted\", y=\"Actual\", color=\"Count\"))\n",
    "\n",
    "# Set axis labels and tick values to only show whole numbers (0,1,2,3)\n",
    "fig.update_layout(\n",
    "    title=\"Confusion Matrix for meeting room\",\n",
    "    xaxis_title=\"Predicted Label\",\n",
    "    yaxis_title=\"Actual Label\",\n",
    "    xaxis=dict(tickmode='array', tickvals=[0,1,2,3,4], ticktext=['Fault free','Open window','Heating shut down','Defect CO2 sensor','Setpoint 25 degrees']),\n",
    "    yaxis=dict(tickmode='array', tickvals=[0,1,2,3,4], ticktext=['Fault free','Open window','Heating shut down','Defect CO2 sensor ','Setpoint 25 degrees']), \n",
    "    width=700,  # Set width of the figure\n",
    "    height=500  # Set height of the figure\n",
    ")\n",
    "\n",
    "# Show plot\n",
    "fig.show()\n"
   ]
  },
  {
   "cell_type": "markdown",
   "metadata": {},
   "source": [
    "## Multiclass model på Mileparken med XGboost"
   ]
  },
  {
   "cell_type": "code",
   "execution_count": 133,
   "metadata": {},
   "outputs": [
    {
     "name": "stdout",
     "output_type": "stream",
     "text": [
      "Accuracy on Train Set: 1.0\n",
      "Train Report:\n",
      "               precision    recall  f1-score   support\n",
      "\n",
      "           0       1.00      1.00      1.00      6976\n",
      "           1       1.00      1.00      1.00        48\n",
      "           2       1.00      1.00      1.00       103\n",
      "           3       1.00      1.00      1.00      1445\n",
      "           4       1.00      1.00      1.00       188\n",
      "\n",
      "    accuracy                           1.00      8760\n",
      "   macro avg       1.00      1.00      1.00      8760\n",
      "weighted avg       1.00      1.00      1.00      8760\n",
      "\n",
      "\n",
      "Accuracy on Test Set: 0.9528688524590164\n",
      "\n",
      "Classification Report:\n",
      "               precision    recall  f1-score   support\n",
      "\n",
      "           0       0.96      1.00      0.98       465\n",
      "           1       0.67      0.11      0.18        19\n",
      "           4       0.00      0.00      0.00         4\n",
      "\n",
      "    accuracy                           0.95       488\n",
      "   macro avg       0.54      0.37      0.39       488\n",
      "weighted avg       0.94      0.95      0.94       488\n",
      "\n",
      "[0.02236849 0.02506593 0.0769866  0.02478595 0.8292208  0.02157222]\n"
     ]
    }
   ],
   "source": [
    "# Initialize the XGBoost Classifier\n",
    "xgb_model = XGBClassifier()\n",
    "\n",
    "# Train the model\n",
    "xgb_model.fit(train_x, train_y)\n",
    "\n",
    "# Make predictions\n",
    "y_pred_train = xgb_model.predict(train_x)\n",
    "y_pred = xgb_model.predict(test_x)\n",
    "\n",
    "# Evaluate the model\n",
    "print(\"Accuracy on Train Set:\", accuracy_score(train_y, y_pred_train))\n",
    "print(\"Train Report:\\n\", classification_report(train_y, y_pred_train))\n",
    "print()\n",
    "print(\"Accuracy on Test Set:\", accuracy_score(test_y, y_pred))\n",
    "print(\"\\nClassification Report:\\n\", classification_report(test_y, y_pred))\n",
    "\n",
    "print(xgb_model.feature_importances_)"
   ]
  },
  {
   "cell_type": "code",
   "execution_count": 134,
   "metadata": {},
   "outputs": [
    {
     "name": "stdout",
     "output_type": "stream",
     "text": [
      "\n",
      "Summary (Mean ± Std):\n",
      "          run  precision_class_0  recall_class_0    f1_class_0  \\\n",
      "mean  5.50000       9.566116e-01    9.956989e-01  9.757640e-01   \n",
      "std   3.02765       2.340556e-16    1.170278e-16  1.170278e-16   \n",
      "\n",
      "      precision_class_1  recall_class_1    f1_class_1  precision_class_4  \\\n",
      "mean       6.666667e-01        0.105263  1.818182e-01                0.0   \n",
      "std        1.170278e-16        0.000000  2.925695e-17                0.0   \n",
      "\n",
      "      recall_class_4  f1_class_4  \n",
      "mean             0.0         0.0  \n",
      "std              0.0         0.0  \n",
      "\n",
      "All Per-Class Results:\n",
      "   run  precision_class_0  recall_class_0  f1_class_0  precision_class_1  \\\n",
      "0    1           0.956612        0.995699    0.975764           0.666667   \n",
      "1    2           0.956612        0.995699    0.975764           0.666667   \n",
      "2    3           0.956612        0.995699    0.975764           0.666667   \n",
      "3    4           0.956612        0.995699    0.975764           0.666667   \n",
      "4    5           0.956612        0.995699    0.975764           0.666667   \n",
      "5    6           0.956612        0.995699    0.975764           0.666667   \n",
      "6    7           0.956612        0.995699    0.975764           0.666667   \n",
      "7    8           0.956612        0.995699    0.975764           0.666667   \n",
      "8    9           0.956612        0.995699    0.975764           0.666667   \n",
      "9   10           0.956612        0.995699    0.975764           0.666667   \n",
      "\n",
      "   recall_class_1  f1_class_1  precision_class_4  recall_class_4  f1_class_4  \n",
      "0        0.105263    0.181818                0.0             0.0         0.0  \n",
      "1        0.105263    0.181818                0.0             0.0         0.0  \n",
      "2        0.105263    0.181818                0.0             0.0         0.0  \n",
      "3        0.105263    0.181818                0.0             0.0         0.0  \n",
      "4        0.105263    0.181818                0.0             0.0         0.0  \n",
      "5        0.105263    0.181818                0.0             0.0         0.0  \n",
      "6        0.105263    0.181818                0.0             0.0         0.0  \n",
      "7        0.105263    0.181818                0.0             0.0         0.0  \n",
      "8        0.105263    0.181818                0.0             0.0         0.0  \n",
      "9        0.105263    0.181818                0.0             0.0         0.0  \n"
     ]
    }
   ],
   "source": [
    "# Store all runs\n",
    "results = []\n",
    "\n",
    "for i in range(10):\n",
    "    xgb_model = XGBClassifier()\n",
    "    xgb_model.fit(train_x, train_y)\n",
    "\n",
    "    y_pred = xgb_model.predict(test_x)\n",
    "    report = classification_report(test_y, y_pred, output_dict=True)\n",
    "\n",
    "    # Store per-class metrics\n",
    "    run_result = {'run': i + 1}\n",
    "    for label in report:\n",
    "        if label not in ('accuracy', 'macro avg', 'weighted avg'):\n",
    "            run_result[f'precision_class_{label}'] = report[label]['precision']\n",
    "            run_result[f'recall_class_{label}'] = report[label]['recall']\n",
    "            run_result[f'f1_class_{label}'] = report[label]['f1-score']\n",
    "    \n",
    "    results.append(run_result)\n",
    "\n",
    "# Results as DataFrame\n",
    "results_df = pd.DataFrame(results)\n",
    "\n",
    "# Summary (mean and std)\n",
    "summary = results_df.describe().loc[['mean', 'std']]\n",
    "\n",
    "print(\"\\nSummary (Mean ± Std):\")\n",
    "print(summary)\n",
    "\n",
    "print(\"\\nAll Per-Class Results:\")\n",
    "print(results_df)"
   ]
  },
  {
   "cell_type": "code",
   "execution_count": 135,
   "metadata": {},
   "outputs": [
    {
     "data": {
      "application/vnd.plotly.v1+json": {
       "config": {
        "plotlyServerURL": "https://plot.ly"
       },
       "data": [
        {
         "coloraxis": "coloraxis",
         "hovertemplate": "Predicted: %{x}<br>Actual: %{y}<br>Count: %{z}<extra></extra>",
         "name": "0",
         "texttemplate": "%{z}",
         "type": "heatmap",
         "x": [
          0,
          1,
          2,
          3,
          4
         ],
         "xaxis": "x",
         "y": [
          0,
          1,
          2,
          3,
          4
         ],
         "yaxis": "y",
         "z": [
          [
           null,
           1,
           0,
           0,
           1
          ],
          [
           17,
           2,
           0,
           0,
           0
          ],
          [
           0,
           0,
           0,
           0,
           0
          ],
          [
           0,
           0,
           0,
           0,
           0
          ],
          [
           4,
           0,
           0,
           0,
           0
          ]
         ]
        }
       ],
       "layout": {
        "annotations": [
         {
          "bgcolor": "white",
          "font": {
           "color": "red",
           "size": 12
          },
          "showarrow": false,
          "text": "463",
          "x": 0,
          "y": 0
         }
        ],
        "coloraxis": {
         "colorbar": {
          "title": {
           "text": "Count"
          }
         },
         "colorscale": [
          [
           0,
           "rgb(247,251,255)"
          ],
          [
           0.125,
           "rgb(222,235,247)"
          ],
          [
           0.25,
           "rgb(198,219,239)"
          ],
          [
           0.375,
           "rgb(158,202,225)"
          ],
          [
           0.5,
           "rgb(107,174,214)"
          ],
          [
           0.625,
           "rgb(66,146,198)"
          ],
          [
           0.75,
           "rgb(33,113,181)"
          ],
          [
           0.875,
           "rgb(8,81,156)"
          ],
          [
           1,
           "rgb(8,48,107)"
          ]
         ]
        },
        "height": 500,
        "margin": {
         "t": 60
        },
        "template": {
         "data": {
          "bar": [
           {
            "error_x": {
             "color": "#2a3f5f"
            },
            "error_y": {
             "color": "#2a3f5f"
            },
            "marker": {
             "line": {
              "color": "#E5ECF6",
              "width": 0.5
             },
             "pattern": {
              "fillmode": "overlay",
              "size": 10,
              "solidity": 0.2
             }
            },
            "type": "bar"
           }
          ],
          "barpolar": [
           {
            "marker": {
             "line": {
              "color": "#E5ECF6",
              "width": 0.5
             },
             "pattern": {
              "fillmode": "overlay",
              "size": 10,
              "solidity": 0.2
             }
            },
            "type": "barpolar"
           }
          ],
          "carpet": [
           {
            "aaxis": {
             "endlinecolor": "#2a3f5f",
             "gridcolor": "white",
             "linecolor": "white",
             "minorgridcolor": "white",
             "startlinecolor": "#2a3f5f"
            },
            "baxis": {
             "endlinecolor": "#2a3f5f",
             "gridcolor": "white",
             "linecolor": "white",
             "minorgridcolor": "white",
             "startlinecolor": "#2a3f5f"
            },
            "type": "carpet"
           }
          ],
          "choropleth": [
           {
            "colorbar": {
             "outlinewidth": 0,
             "ticks": ""
            },
            "type": "choropleth"
           }
          ],
          "contour": [
           {
            "colorbar": {
             "outlinewidth": 0,
             "ticks": ""
            },
            "colorscale": [
             [
              0,
              "#0d0887"
             ],
             [
              0.1111111111111111,
              "#46039f"
             ],
             [
              0.2222222222222222,
              "#7201a8"
             ],
             [
              0.3333333333333333,
              "#9c179e"
             ],
             [
              0.4444444444444444,
              "#bd3786"
             ],
             [
              0.5555555555555556,
              "#d8576b"
             ],
             [
              0.6666666666666666,
              "#ed7953"
             ],
             [
              0.7777777777777778,
              "#fb9f3a"
             ],
             [
              0.8888888888888888,
              "#fdca26"
             ],
             [
              1,
              "#f0f921"
             ]
            ],
            "type": "contour"
           }
          ],
          "contourcarpet": [
           {
            "colorbar": {
             "outlinewidth": 0,
             "ticks": ""
            },
            "type": "contourcarpet"
           }
          ],
          "heatmap": [
           {
            "colorbar": {
             "outlinewidth": 0,
             "ticks": ""
            },
            "colorscale": [
             [
              0,
              "#0d0887"
             ],
             [
              0.1111111111111111,
              "#46039f"
             ],
             [
              0.2222222222222222,
              "#7201a8"
             ],
             [
              0.3333333333333333,
              "#9c179e"
             ],
             [
              0.4444444444444444,
              "#bd3786"
             ],
             [
              0.5555555555555556,
              "#d8576b"
             ],
             [
              0.6666666666666666,
              "#ed7953"
             ],
             [
              0.7777777777777778,
              "#fb9f3a"
             ],
             [
              0.8888888888888888,
              "#fdca26"
             ],
             [
              1,
              "#f0f921"
             ]
            ],
            "type": "heatmap"
           }
          ],
          "heatmapgl": [
           {
            "colorbar": {
             "outlinewidth": 0,
             "ticks": ""
            },
            "colorscale": [
             [
              0,
              "#0d0887"
             ],
             [
              0.1111111111111111,
              "#46039f"
             ],
             [
              0.2222222222222222,
              "#7201a8"
             ],
             [
              0.3333333333333333,
              "#9c179e"
             ],
             [
              0.4444444444444444,
              "#bd3786"
             ],
             [
              0.5555555555555556,
              "#d8576b"
             ],
             [
              0.6666666666666666,
              "#ed7953"
             ],
             [
              0.7777777777777778,
              "#fb9f3a"
             ],
             [
              0.8888888888888888,
              "#fdca26"
             ],
             [
              1,
              "#f0f921"
             ]
            ],
            "type": "heatmapgl"
           }
          ],
          "histogram": [
           {
            "marker": {
             "pattern": {
              "fillmode": "overlay",
              "size": 10,
              "solidity": 0.2
             }
            },
            "type": "histogram"
           }
          ],
          "histogram2d": [
           {
            "colorbar": {
             "outlinewidth": 0,
             "ticks": ""
            },
            "colorscale": [
             [
              0,
              "#0d0887"
             ],
             [
              0.1111111111111111,
              "#46039f"
             ],
             [
              0.2222222222222222,
              "#7201a8"
             ],
             [
              0.3333333333333333,
              "#9c179e"
             ],
             [
              0.4444444444444444,
              "#bd3786"
             ],
             [
              0.5555555555555556,
              "#d8576b"
             ],
             [
              0.6666666666666666,
              "#ed7953"
             ],
             [
              0.7777777777777778,
              "#fb9f3a"
             ],
             [
              0.8888888888888888,
              "#fdca26"
             ],
             [
              1,
              "#f0f921"
             ]
            ],
            "type": "histogram2d"
           }
          ],
          "histogram2dcontour": [
           {
            "colorbar": {
             "outlinewidth": 0,
             "ticks": ""
            },
            "colorscale": [
             [
              0,
              "#0d0887"
             ],
             [
              0.1111111111111111,
              "#46039f"
             ],
             [
              0.2222222222222222,
              "#7201a8"
             ],
             [
              0.3333333333333333,
              "#9c179e"
             ],
             [
              0.4444444444444444,
              "#bd3786"
             ],
             [
              0.5555555555555556,
              "#d8576b"
             ],
             [
              0.6666666666666666,
              "#ed7953"
             ],
             [
              0.7777777777777778,
              "#fb9f3a"
             ],
             [
              0.8888888888888888,
              "#fdca26"
             ],
             [
              1,
              "#f0f921"
             ]
            ],
            "type": "histogram2dcontour"
           }
          ],
          "mesh3d": [
           {
            "colorbar": {
             "outlinewidth": 0,
             "ticks": ""
            },
            "type": "mesh3d"
           }
          ],
          "parcoords": [
           {
            "line": {
             "colorbar": {
              "outlinewidth": 0,
              "ticks": ""
             }
            },
            "type": "parcoords"
           }
          ],
          "pie": [
           {
            "automargin": true,
            "type": "pie"
           }
          ],
          "scatter": [
           {
            "fillpattern": {
             "fillmode": "overlay",
             "size": 10,
             "solidity": 0.2
            },
            "type": "scatter"
           }
          ],
          "scatter3d": [
           {
            "line": {
             "colorbar": {
              "outlinewidth": 0,
              "ticks": ""
             }
            },
            "marker": {
             "colorbar": {
              "outlinewidth": 0,
              "ticks": ""
             }
            },
            "type": "scatter3d"
           }
          ],
          "scattercarpet": [
           {
            "marker": {
             "colorbar": {
              "outlinewidth": 0,
              "ticks": ""
             }
            },
            "type": "scattercarpet"
           }
          ],
          "scattergeo": [
           {
            "marker": {
             "colorbar": {
              "outlinewidth": 0,
              "ticks": ""
             }
            },
            "type": "scattergeo"
           }
          ],
          "scattergl": [
           {
            "marker": {
             "colorbar": {
              "outlinewidth": 0,
              "ticks": ""
             }
            },
            "type": "scattergl"
           }
          ],
          "scattermapbox": [
           {
            "marker": {
             "colorbar": {
              "outlinewidth": 0,
              "ticks": ""
             }
            },
            "type": "scattermapbox"
           }
          ],
          "scatterpolar": [
           {
            "marker": {
             "colorbar": {
              "outlinewidth": 0,
              "ticks": ""
             }
            },
            "type": "scatterpolar"
           }
          ],
          "scatterpolargl": [
           {
            "marker": {
             "colorbar": {
              "outlinewidth": 0,
              "ticks": ""
             }
            },
            "type": "scatterpolargl"
           }
          ],
          "scatterternary": [
           {
            "marker": {
             "colorbar": {
              "outlinewidth": 0,
              "ticks": ""
             }
            },
            "type": "scatterternary"
           }
          ],
          "surface": [
           {
            "colorbar": {
             "outlinewidth": 0,
             "ticks": ""
            },
            "colorscale": [
             [
              0,
              "#0d0887"
             ],
             [
              0.1111111111111111,
              "#46039f"
             ],
             [
              0.2222222222222222,
              "#7201a8"
             ],
             [
              0.3333333333333333,
              "#9c179e"
             ],
             [
              0.4444444444444444,
              "#bd3786"
             ],
             [
              0.5555555555555556,
              "#d8576b"
             ],
             [
              0.6666666666666666,
              "#ed7953"
             ],
             [
              0.7777777777777778,
              "#fb9f3a"
             ],
             [
              0.8888888888888888,
              "#fdca26"
             ],
             [
              1,
              "#f0f921"
             ]
            ],
            "type": "surface"
           }
          ],
          "table": [
           {
            "cells": {
             "fill": {
              "color": "#EBF0F8"
             },
             "line": {
              "color": "white"
             }
            },
            "header": {
             "fill": {
              "color": "#C8D4E3"
             },
             "line": {
              "color": "white"
             }
            },
            "type": "table"
           }
          ]
         },
         "layout": {
          "annotationdefaults": {
           "arrowcolor": "#2a3f5f",
           "arrowhead": 0,
           "arrowwidth": 1
          },
          "autotypenumbers": "strict",
          "coloraxis": {
           "colorbar": {
            "outlinewidth": 0,
            "ticks": ""
           }
          },
          "colorscale": {
           "diverging": [
            [
             0,
             "#8e0152"
            ],
            [
             0.1,
             "#c51b7d"
            ],
            [
             0.2,
             "#de77ae"
            ],
            [
             0.3,
             "#f1b6da"
            ],
            [
             0.4,
             "#fde0ef"
            ],
            [
             0.5,
             "#f7f7f7"
            ],
            [
             0.6,
             "#e6f5d0"
            ],
            [
             0.7,
             "#b8e186"
            ],
            [
             0.8,
             "#7fbc41"
            ],
            [
             0.9,
             "#4d9221"
            ],
            [
             1,
             "#276419"
            ]
           ],
           "sequential": [
            [
             0,
             "#0d0887"
            ],
            [
             0.1111111111111111,
             "#46039f"
            ],
            [
             0.2222222222222222,
             "#7201a8"
            ],
            [
             0.3333333333333333,
             "#9c179e"
            ],
            [
             0.4444444444444444,
             "#bd3786"
            ],
            [
             0.5555555555555556,
             "#d8576b"
            ],
            [
             0.6666666666666666,
             "#ed7953"
            ],
            [
             0.7777777777777778,
             "#fb9f3a"
            ],
            [
             0.8888888888888888,
             "#fdca26"
            ],
            [
             1,
             "#f0f921"
            ]
           ],
           "sequentialminus": [
            [
             0,
             "#0d0887"
            ],
            [
             0.1111111111111111,
             "#46039f"
            ],
            [
             0.2222222222222222,
             "#7201a8"
            ],
            [
             0.3333333333333333,
             "#9c179e"
            ],
            [
             0.4444444444444444,
             "#bd3786"
            ],
            [
             0.5555555555555556,
             "#d8576b"
            ],
            [
             0.6666666666666666,
             "#ed7953"
            ],
            [
             0.7777777777777778,
             "#fb9f3a"
            ],
            [
             0.8888888888888888,
             "#fdca26"
            ],
            [
             1,
             "#f0f921"
            ]
           ]
          },
          "colorway": [
           "#636efa",
           "#EF553B",
           "#00cc96",
           "#ab63fa",
           "#FFA15A",
           "#19d3f3",
           "#FF6692",
           "#B6E880",
           "#FF97FF",
           "#FECB52"
          ],
          "font": {
           "color": "#2a3f5f"
          },
          "geo": {
           "bgcolor": "white",
           "lakecolor": "white",
           "landcolor": "#E5ECF6",
           "showlakes": true,
           "showland": true,
           "subunitcolor": "white"
          },
          "hoverlabel": {
           "align": "left"
          },
          "hovermode": "closest",
          "mapbox": {
           "style": "light"
          },
          "paper_bgcolor": "white",
          "plot_bgcolor": "#E5ECF6",
          "polar": {
           "angularaxis": {
            "gridcolor": "white",
            "linecolor": "white",
            "ticks": ""
           },
           "bgcolor": "#E5ECF6",
           "radialaxis": {
            "gridcolor": "white",
            "linecolor": "white",
            "ticks": ""
           }
          },
          "scene": {
           "xaxis": {
            "backgroundcolor": "#E5ECF6",
            "gridcolor": "white",
            "gridwidth": 2,
            "linecolor": "white",
            "showbackground": true,
            "ticks": "",
            "zerolinecolor": "white"
           },
           "yaxis": {
            "backgroundcolor": "#E5ECF6",
            "gridcolor": "white",
            "gridwidth": 2,
            "linecolor": "white",
            "showbackground": true,
            "ticks": "",
            "zerolinecolor": "white"
           },
           "zaxis": {
            "backgroundcolor": "#E5ECF6",
            "gridcolor": "white",
            "gridwidth": 2,
            "linecolor": "white",
            "showbackground": true,
            "ticks": "",
            "zerolinecolor": "white"
           }
          },
          "shapedefaults": {
           "line": {
            "color": "#2a3f5f"
           }
          },
          "ternary": {
           "aaxis": {
            "gridcolor": "white",
            "linecolor": "white",
            "ticks": ""
           },
           "baxis": {
            "gridcolor": "white",
            "linecolor": "white",
            "ticks": ""
           },
           "bgcolor": "#E5ECF6",
           "caxis": {
            "gridcolor": "white",
            "linecolor": "white",
            "ticks": ""
           }
          },
          "title": {
           "x": 0.05
          },
          "xaxis": {
           "automargin": true,
           "gridcolor": "white",
           "linecolor": "white",
           "ticks": "",
           "title": {
            "standoff": 15
           },
           "zerolinecolor": "white",
           "zerolinewidth": 2
          },
          "yaxis": {
           "automargin": true,
           "gridcolor": "white",
           "linecolor": "white",
           "ticks": "",
           "title": {
            "standoff": 15
           },
           "zerolinecolor": "white",
           "zerolinewidth": 2
          }
         }
        },
        "title": {
         "text": "Confusion Matrix for Zone 8"
        },
        "width": 700,
        "xaxis": {
         "anchor": "y",
         "constrain": "domain",
         "domain": [
          0,
          1
         ],
         "scaleanchor": "y",
         "tickmode": "array",
         "ticktext": [
          "Fault free",
          "Open window",
          "Heating shut down",
          "Defect CO2 sensor",
          "Setpoint 25 degrees"
         ],
         "tickvals": [
          0,
          1,
          2,
          3,
          4
         ],
         "title": {
          "text": "Predicted Label"
         }
        },
        "yaxis": {
         "anchor": "x",
         "autorange": "reversed",
         "constrain": "domain",
         "domain": [
          0,
          1
         ],
         "tickmode": "array",
         "ticktext": [
          "Fault free",
          "Open window",
          "Heating shut down",
          "Defect CO2 sensor",
          "Setpoint 25 degrees"
         ],
         "tickvals": [
          0,
          1,
          2,
          3,
          4
         ],
         "title": {
          "text": "Actual Label"
         }
        }
       }
      }
     },
     "metadata": {},
     "output_type": "display_data"
    }
   ],
   "source": [
    "# Define all possible classes\n",
    "all_classes = [0, 1, 2, 3, 4]  \n",
    "\n",
    "# Compute confusion matrix with fixed labels\n",
    "cm = confusion_matrix(test_y, y_pred, labels=all_classes)\n",
    "\n",
    "# Convert to DataFrame\n",
    "df_cm = pd.DataFrame(cm, index=all_classes, columns=all_classes)\n",
    "\n",
    "# Create a copy for coloring — set [0,0] to NaN so it doesn't affect color scale\n",
    "cm_for_plot = df_cm.copy()\n",
    "cm_for_plot.iloc[0, 0] = np.nan  # exclude top-left from color scaling\n",
    "\n",
    "# Create interactive Plotly heatmap\n",
    "fig = px.imshow(\n",
    "    cm_for_plot,\n",
    "    text_auto=True,\n",
    "    color_continuous_scale='Blues',\n",
    "    labels=dict(x=\"Predicted\", y=\"Actual\", color=\"Count\")\n",
    ")\n",
    "\n",
    "# Overlay the real value in top-left as custom annotation\n",
    "fig.add_annotation(\n",
    "    text=str(df_cm.iloc[0, 0]),  # Actual value\n",
    "    x=0, y=0,\n",
    "    showarrow=False,\n",
    "    font=dict(color=\"red\", size=12),\n",
    "    bgcolor=\"white\"\n",
    ")\n",
    "\n",
    "# Customize axis labels\n",
    "fig.update_layout(\n",
    "    title=\"Confusion Matrix for Zone 8\",\n",
    "    xaxis_title=\"Predicted Label\",\n",
    "    yaxis_title=\"Actual Label\",\n",
    "    xaxis=dict(\n",
    "        tickmode='array',\n",
    "        tickvals=[0, 1, 2, 3, 4],\n",
    "        ticktext=[\n",
    "            'Fault free', 'Open window', 'Heating shut down',\n",
    "            'Defect CO2 sensor', 'Setpoint 25 degrees'\n",
    "        ]\n",
    "    ),\n",
    "    yaxis=dict(\n",
    "        tickmode='array',\n",
    "        tickvals=[0, 1, 2, 3, 4],\n",
    "        ticktext=[\n",
    "            'Fault free', 'Open window', 'Heating shut down',\n",
    "            'Defect CO2 sensor', 'Setpoint 25 degrees'\n",
    "        ]\n",
    "    ),\n",
    "    width=700,\n",
    "    height=500\n",
    ")\n",
    "\n",
    "# Show plot\n",
    "fig.show()"
   ]
  },
  {
   "cell_type": "code",
   "execution_count": 136,
   "metadata": {},
   "outputs": [
    {
     "data": {
      "application/vnd.plotly.v1+json": {
       "config": {
        "plotlyServerURL": "https://plot.ly"
       },
       "data": [
        {
         "mode": "lines",
         "name": "TEMP °C",
         "type": "scatter",
         "x": [
          "2025-03-11 00:00:00",
          "2025-03-11 01:00:00",
          "2025-03-11 02:00:00",
          "2025-03-11 03:00:00",
          "2025-03-11 04:00:00",
          "2025-03-11 05:00:00",
          "2025-03-11 06:00:00",
          "2025-03-11 07:00:00",
          "2025-03-11 08:00:00",
          "2025-03-11 09:00:00",
          "2025-03-11 10:00:00",
          "2025-03-11 11:00:00",
          "2025-03-11 12:00:00",
          "2025-03-11 13:00:00",
          "2025-03-11 14:00:00",
          "2025-03-11 15:00:00",
          "2025-03-11 16:00:00",
          "2025-03-11 17:00:00",
          "2025-03-11 18:00:00",
          "2025-03-11 19:00:00",
          "2025-03-11 20:00:00",
          "2025-03-11 21:00:00",
          "2025-03-11 22:00:00",
          "2025-03-11 23:00:00",
          "2025-03-12 00:00:00",
          "2025-03-12 01:00:00",
          "2025-03-12 02:00:00",
          "2025-03-12 03:00:00",
          "2025-03-12 04:00:00",
          "2025-03-12 05:00:00",
          "2025-03-12 06:00:00",
          "2025-03-12 07:00:00",
          "2025-03-12 08:00:00",
          "2025-03-12 09:00:00",
          "2025-03-12 10:00:00",
          "2025-03-12 11:00:00",
          "2025-03-12 12:00:00",
          "2025-03-12 13:00:00",
          "2025-03-12 14:00:00",
          "2025-03-12 15:00:00",
          "2025-03-12 16:00:00",
          "2025-03-12 17:00:00",
          "2025-03-12 18:00:00",
          "2025-03-12 19:00:00",
          "2025-03-12 20:00:00",
          "2025-03-12 21:00:00",
          "2025-03-12 22:00:00",
          "2025-03-12 23:00:00",
          "2025-03-13 00:00:00",
          "2025-03-13 01:00:00",
          "2025-03-13 02:00:00",
          "2025-03-13 03:00:00",
          "2025-03-13 04:00:00",
          "2025-03-13 05:00:00",
          "2025-03-13 06:00:00",
          "2025-03-13 07:00:00",
          "2025-03-13 08:00:00",
          "2025-03-13 09:00:00",
          "2025-03-13 10:00:00",
          "2025-03-13 11:00:00",
          "2025-03-13 12:00:00",
          "2025-03-13 13:00:00",
          "2025-03-13 14:00:00",
          "2025-03-13 15:00:00",
          "2025-03-13 16:00:00",
          "2025-03-13 17:00:00",
          "2025-03-13 18:00:00",
          "2025-03-13 19:00:00",
          "2025-03-13 20:00:00",
          "2025-03-13 21:00:00",
          "2025-03-13 22:00:00",
          "2025-03-13 23:00:00",
          "2025-03-14 00:00:00",
          "2025-03-14 01:00:00",
          "2025-03-14 02:00:00",
          "2025-03-14 03:00:00",
          "2025-03-14 04:00:00",
          "2025-03-14 05:00:00",
          "2025-03-14 06:00:00",
          "2025-03-14 07:00:00",
          "2025-03-14 08:00:00",
          "2025-03-14 09:00:00",
          "2025-03-14 10:00:00",
          "2025-03-14 11:00:00",
          "2025-03-14 12:00:00",
          "2025-03-14 13:00:00",
          "2025-03-14 14:00:00",
          "2025-03-14 15:00:00",
          "2025-03-14 16:00:00",
          "2025-03-14 17:00:00",
          "2025-03-14 18:00:00",
          "2025-03-14 19:00:00",
          "2025-03-14 20:00:00",
          "2025-03-14 21:00:00",
          "2025-03-14 22:00:00",
          "2025-03-14 23:00:00",
          "2025-03-15 00:00:00",
          "2025-03-15 01:00:00",
          "2025-03-15 02:00:00",
          "2025-03-15 03:00:00",
          "2025-03-15 04:00:00",
          "2025-03-15 05:00:00",
          "2025-03-15 06:00:00",
          "2025-03-15 07:00:00",
          "2025-03-15 08:00:00",
          "2025-03-15 09:00:00",
          "2025-03-15 10:00:00",
          "2025-03-15 11:00:00",
          "2025-03-15 12:00:00",
          "2025-03-15 13:00:00",
          "2025-03-15 14:00:00",
          "2025-03-15 15:00:00",
          "2025-03-15 16:00:00",
          "2025-03-15 17:00:00",
          "2025-03-15 18:00:00",
          "2025-03-15 19:00:00",
          "2025-03-15 20:00:00",
          "2025-03-15 21:00:00",
          "2025-03-15 22:00:00",
          "2025-03-15 23:00:00",
          "2025-03-16 00:00:00",
          "2025-03-16 01:00:00",
          "2025-03-16 02:00:00",
          "2025-03-16 03:00:00",
          "2025-03-16 04:00:00",
          "2025-03-16 05:00:00",
          "2025-03-16 06:00:00",
          "2025-03-16 07:00:00",
          "2025-03-16 08:00:00",
          "2025-03-16 09:00:00",
          "2025-03-16 10:00:00",
          "2025-03-16 11:00:00",
          "2025-03-16 12:00:00",
          "2025-03-16 13:00:00",
          "2025-03-16 14:00:00",
          "2025-03-16 15:00:00",
          "2025-03-16 16:00:00",
          "2025-03-16 17:00:00",
          "2025-03-16 18:00:00",
          "2025-03-16 19:00:00",
          "2025-03-16 20:00:00",
          "2025-03-16 21:00:00",
          "2025-03-16 22:00:00",
          "2025-03-16 23:00:00",
          "2025-03-17 00:00:00",
          "2025-03-17 01:00:00",
          "2025-03-17 02:00:00",
          "2025-03-17 03:00:00",
          "2025-03-17 04:00:00",
          "2025-03-17 05:00:00",
          "2025-03-17 06:00:00",
          "2025-03-17 07:00:00",
          "2025-03-17 08:00:00",
          "2025-03-17 09:00:00",
          "2025-03-17 10:00:00",
          "2025-03-17 11:00:00",
          "2025-03-17 12:00:00",
          "2025-03-17 13:00:00",
          "2025-03-17 14:00:00",
          "2025-03-17 15:00:00",
          "2025-03-17 16:00:00",
          "2025-03-17 17:00:00",
          "2025-03-17 18:00:00",
          "2025-03-17 19:00:00",
          "2025-03-17 20:00:00",
          "2025-03-17 21:00:00",
          "2025-03-17 22:00:00",
          "2025-03-17 23:00:00",
          "2025-03-18 00:00:00",
          "2025-03-18 01:00:00",
          "2025-03-18 02:00:00",
          "2025-03-18 03:00:00",
          "2025-03-18 04:00:00",
          "2025-03-18 05:00:00",
          "2025-03-18 06:00:00",
          "2025-03-18 07:00:00",
          "2025-03-18 08:00:00",
          "2025-03-18 09:00:00",
          "2025-03-18 10:00:00",
          "2025-03-18 11:00:00",
          "2025-03-18 12:00:00",
          "2025-03-18 13:00:00",
          "2025-03-18 14:00:00",
          "2025-03-18 15:00:00",
          "2025-03-18 16:00:00",
          "2025-03-18 17:00:00",
          "2025-03-18 18:00:00",
          "2025-03-18 19:00:00",
          "2025-03-18 20:00:00",
          "2025-03-18 21:00:00",
          "2025-03-18 22:00:00",
          "2025-03-18 23:00:00",
          "2025-03-19 00:00:00",
          "2025-03-19 01:00:00",
          "2025-03-19 02:00:00",
          "2025-03-19 03:00:00",
          "2025-03-19 04:00:00",
          "2025-03-19 05:00:00",
          "2025-03-19 06:00:00",
          "2025-03-19 07:00:00",
          "2025-03-19 08:00:00",
          "2025-03-19 09:00:00",
          "2025-03-19 10:00:00",
          "2025-03-19 11:00:00",
          "2025-03-19 12:00:00",
          "2025-03-19 13:00:00",
          "2025-03-19 14:00:00",
          "2025-03-19 15:00:00",
          "2025-03-19 16:00:00",
          "2025-03-19 17:00:00",
          "2025-03-19 18:00:00",
          "2025-03-19 19:00:00",
          "2025-03-19 20:00:00",
          "2025-03-19 21:00:00",
          "2025-03-19 22:00:00",
          "2025-03-19 23:00:00",
          "2025-03-20 00:00:00",
          "2025-03-20 01:00:00",
          "2025-03-20 02:00:00",
          "2025-03-20 03:00:00",
          "2025-03-20 04:00:00",
          "2025-03-20 05:00:00",
          "2025-03-20 06:00:00",
          "2025-03-20 07:00:00",
          "2025-03-20 08:00:00",
          "2025-03-20 09:00:00",
          "2025-03-20 10:00:00",
          "2025-03-20 11:00:00",
          "2025-03-20 12:00:00",
          "2025-03-20 13:00:00",
          "2025-03-20 14:00:00",
          "2025-03-20 15:00:00",
          "2025-03-20 16:00:00",
          "2025-03-20 17:00:00",
          "2025-03-20 18:00:00",
          "2025-03-20 19:00:00",
          "2025-03-20 20:00:00",
          "2025-03-20 21:00:00",
          "2025-03-20 22:00:00",
          "2025-03-20 23:00:00",
          "2025-03-21 00:00:00",
          "2025-03-21 01:00:00",
          "2025-03-21 02:00:00",
          "2025-03-21 03:00:00",
          "2025-03-21 04:00:00",
          "2025-03-21 05:00:00",
          "2025-03-21 06:00:00",
          "2025-03-21 07:00:00",
          "2025-03-21 08:00:00",
          "2025-03-21 09:00:00",
          "2025-03-21 10:00:00",
          "2025-03-21 11:00:00",
          "2025-03-21 12:00:00",
          "2025-03-21 13:00:00",
          "2025-03-21 14:00:00",
          "2025-03-21 15:00:00",
          "2025-03-21 16:00:00",
          "2025-03-21 17:00:00",
          "2025-03-21 18:00:00",
          "2025-03-21 19:00:00",
          "2025-03-21 20:00:00",
          "2025-03-21 21:00:00",
          "2025-03-21 22:00:00",
          "2025-03-21 23:00:00",
          "2025-03-22 00:00:00",
          "2025-03-22 01:00:00",
          "2025-03-22 02:00:00",
          "2025-03-22 03:00:00",
          "2025-03-22 04:00:00",
          "2025-03-22 05:00:00",
          "2025-03-22 06:00:00",
          "2025-03-22 07:00:00",
          "2025-03-22 08:00:00",
          "2025-03-22 09:00:00",
          "2025-03-22 10:00:00",
          "2025-03-22 11:00:00",
          "2025-03-22 12:00:00",
          "2025-03-22 13:00:00",
          "2025-03-22 14:00:00",
          "2025-03-22 15:00:00",
          "2025-03-22 16:00:00",
          "2025-03-22 17:00:00",
          "2025-03-22 18:00:00",
          "2025-03-22 19:00:00",
          "2025-03-22 20:00:00",
          "2025-03-22 21:00:00",
          "2025-03-22 22:00:00",
          "2025-03-22 23:00:00",
          "2025-03-23 00:00:00",
          "2025-03-23 01:00:00",
          "2025-03-23 02:00:00",
          "2025-03-23 03:00:00",
          "2025-03-23 04:00:00",
          "2025-03-23 05:00:00",
          "2025-03-23 06:00:00",
          "2025-03-23 07:00:00",
          "2025-03-23 08:00:00",
          "2025-03-23 09:00:00",
          "2025-03-23 10:00:00",
          "2025-03-23 11:00:00",
          "2025-03-23 12:00:00",
          "2025-03-23 13:00:00",
          "2025-03-23 14:00:00",
          "2025-03-23 15:00:00",
          "2025-03-23 16:00:00",
          "2025-03-23 17:00:00",
          "2025-03-23 18:00:00",
          "2025-03-23 19:00:00",
          "2025-03-23 20:00:00",
          "2025-03-23 21:00:00",
          "2025-03-23 22:00:00",
          "2025-03-23 23:00:00",
          "2025-03-24 00:00:00",
          "2025-03-24 01:00:00",
          "2025-03-24 02:00:00",
          "2025-03-24 03:00:00",
          "2025-03-24 04:00:00",
          "2025-03-24 05:00:00",
          "2025-03-24 06:00:00",
          "2025-03-24 07:00:00",
          "2025-03-24 08:00:00",
          "2025-03-24 09:00:00",
          "2025-03-24 10:00:00",
          "2025-03-24 11:00:00",
          "2025-03-24 12:00:00",
          "2025-03-24 13:00:00",
          "2025-03-24 14:00:00",
          "2025-03-24 15:00:00",
          "2025-03-24 16:00:00",
          "2025-03-24 17:00:00",
          "2025-03-24 18:00:00",
          "2025-03-24 19:00:00",
          "2025-03-24 20:00:00",
          "2025-03-24 21:00:00",
          "2025-03-24 22:00:00",
          "2025-03-24 23:00:00",
          "2025-03-25 00:00:00",
          "2025-03-25 01:00:00",
          "2025-03-25 02:00:00",
          "2025-03-25 03:00:00",
          "2025-03-25 04:00:00",
          "2025-03-25 05:00:00",
          "2025-03-25 06:00:00",
          "2025-03-25 07:00:00",
          "2025-03-25 08:00:00",
          "2025-03-25 09:00:00",
          "2025-03-25 10:00:00",
          "2025-03-25 11:00:00",
          "2025-03-25 12:00:00",
          "2025-03-25 13:00:00",
          "2025-03-25 14:00:00",
          "2025-03-25 15:00:00",
          "2025-03-25 16:00:00",
          "2025-03-25 17:00:00",
          "2025-03-25 18:00:00",
          "2025-03-25 19:00:00",
          "2025-03-25 20:00:00",
          "2025-03-25 21:00:00",
          "2025-03-25 22:00:00",
          "2025-03-25 23:00:00",
          "2025-03-26 00:00:00",
          "2025-03-26 01:00:00",
          "2025-03-26 02:00:00",
          "2025-03-26 03:00:00",
          "2025-03-26 04:00:00",
          "2025-03-26 05:00:00",
          "2025-03-26 06:00:00",
          "2025-03-26 07:00:00",
          "2025-03-26 08:00:00",
          "2025-03-26 09:00:00",
          "2025-03-26 10:00:00",
          "2025-03-26 11:00:00",
          "2025-03-26 12:00:00",
          "2025-03-26 13:00:00",
          "2025-03-26 14:00:00",
          "2025-03-26 15:00:00",
          "2025-03-26 16:00:00",
          "2025-03-26 17:00:00",
          "2025-03-26 18:00:00",
          "2025-03-26 19:00:00",
          "2025-03-26 20:00:00",
          "2025-03-26 21:00:00",
          "2025-03-26 22:00:00",
          "2025-03-26 23:00:00",
          "2025-03-27 00:00:00",
          "2025-03-27 01:00:00",
          "2025-03-27 02:00:00",
          "2025-03-27 03:00:00",
          "2025-03-27 04:00:00",
          "2025-03-27 05:00:00",
          "2025-03-27 06:00:00",
          "2025-03-27 07:00:00",
          "2025-03-27 08:00:00",
          "2025-03-27 09:00:00",
          "2025-03-27 10:00:00",
          "2025-03-27 11:00:00",
          "2025-03-27 12:00:00",
          "2025-03-27 13:00:00",
          "2025-03-27 14:00:00",
          "2025-03-27 15:00:00",
          "2025-03-27 16:00:00",
          "2025-03-27 17:00:00",
          "2025-03-27 18:00:00",
          "2025-03-27 19:00:00",
          "2025-03-27 20:00:00",
          "2025-03-27 21:00:00",
          "2025-03-27 22:00:00",
          "2025-03-27 23:00:00",
          "2025-03-28 00:00:00",
          "2025-03-28 01:00:00",
          "2025-03-28 02:00:00",
          "2025-03-28 03:00:00",
          "2025-03-28 04:00:00",
          "2025-03-28 05:00:00",
          "2025-03-28 06:00:00",
          "2025-03-28 07:00:00",
          "2025-03-28 08:00:00",
          "2025-03-28 09:00:00",
          "2025-03-28 10:00:00",
          "2025-03-28 11:00:00",
          "2025-03-28 12:00:00",
          "2025-03-28 13:00:00",
          "2025-03-28 14:00:00",
          "2025-03-28 15:00:00",
          "2025-03-28 16:00:00",
          "2025-03-28 17:00:00",
          "2025-03-28 18:00:00",
          "2025-03-28 19:00:00",
          "2025-03-28 20:00:00",
          "2025-03-28 21:00:00",
          "2025-03-28 22:00:00",
          "2025-03-28 23:00:00",
          "2025-03-29 00:00:00",
          "2025-03-29 01:00:00",
          "2025-03-29 02:00:00",
          "2025-03-29 03:00:00",
          "2025-03-29 04:00:00",
          "2025-03-29 05:00:00",
          "2025-03-29 06:00:00",
          "2025-03-29 07:00:00",
          "2025-03-29 08:00:00",
          "2025-03-29 09:00:00",
          "2025-03-29 10:00:00",
          "2025-03-29 11:00:00",
          "2025-03-29 12:00:00",
          "2025-03-29 13:00:00",
          "2025-03-29 14:00:00",
          "2025-03-29 15:00:00",
          "2025-03-29 16:00:00",
          "2025-03-29 17:00:00",
          "2025-03-29 18:00:00",
          "2025-03-29 19:00:00",
          "2025-03-29 20:00:00",
          "2025-03-29 21:00:00",
          "2025-03-29 22:00:00",
          "2025-03-29 23:00:00",
          "2025-03-30 00:00:00",
          "2025-03-30 01:00:00",
          "2025-03-30 02:00:00",
          "2025-03-30 03:00:00",
          "2025-03-30 04:00:00",
          "2025-03-30 05:00:00",
          "2025-03-30 06:00:00",
          "2025-03-30 07:00:00",
          "2025-03-30 08:00:00",
          "2025-03-30 09:00:00",
          "2025-03-30 10:00:00",
          "2025-03-30 11:00:00",
          "2025-03-30 12:00:00",
          "2025-03-30 13:00:00",
          "2025-03-30 14:00:00",
          "2025-03-30 15:00:00",
          "2025-03-30 16:00:00",
          "2025-03-30 17:00:00",
          "2025-03-30 18:00:00",
          "2025-03-30 19:00:00",
          "2025-03-30 20:00:00",
          "2025-03-30 21:00:00",
          "2025-03-30 22:00:00",
          "2025-03-30 23:00:00",
          "2025-03-31 00:00:00",
          "2025-03-31 01:00:00",
          "2025-03-31 02:00:00",
          "2025-03-31 03:00:00",
          "2025-03-31 04:00:00",
          "2025-03-31 05:00:00",
          "2025-03-31 06:00:00",
          "2025-03-31 07:00:00",
          "2025-03-31 08:00:00",
          "2025-03-31 09:00:00",
          "2025-03-31 10:00:00",
          "2025-03-31 11:00:00",
          "2025-03-31 12:00:00",
          "2025-03-31 13:00:00",
          "2025-03-31 14:00:00",
          "2025-03-31 15:00:00",
          "2025-03-31 16:00:00",
          "2025-03-31 17:00:00",
          "2025-03-31 18:00:00",
          "2025-03-31 19:00:00",
          "2025-03-31 20:00:00",
          "2025-03-31 21:00:00",
          "2025-03-31 22:00:00",
          "2025-03-31 23:00:00",
          "2025-04-01 00:00:00",
          "2025-04-01 01:00:00",
          "2025-04-01 02:00:00",
          "2025-04-01 03:00:00",
          "2025-04-01 04:00:00",
          "2025-04-01 05:00:00",
          "2025-04-01 06:00:00",
          "2025-04-01 07:00:00",
          "2025-04-01 08:00:00",
          "2025-04-01 09:00:00",
          "2025-04-01 10:00:00",
          "2025-04-01 11:00:00",
          "2025-04-01 12:00:00",
          "2025-04-01 13:00:00",
          "2025-04-01 14:00:00",
          "2025-04-01 15:00:00",
          "2025-04-01 16:00:00",
          "2025-04-01 17:00:00",
          "2025-04-01 18:00:00",
          "2025-04-01 19:00:00",
          "2025-04-01 20:00:00",
          "2025-04-01 21:00:00",
          "2025-04-01 22:00:00",
          "2025-04-01 23:00:00",
          "2025-04-02 00:00:00",
          "2025-04-02 01:00:00",
          "2025-04-02 02:00:00",
          "2025-04-02 03:00:00",
          "2025-04-02 04:00:00",
          "2025-04-02 05:00:00",
          "2025-04-02 06:00:00",
          "2025-04-02 07:00:00",
          "2025-04-02 08:00:00",
          "2025-04-02 09:00:00",
          "2025-04-02 10:00:00",
          "2025-04-02 11:00:00",
          "2025-04-02 12:00:00",
          "2025-04-02 13:00:00",
          "2025-04-02 14:00:00",
          "2025-04-02 15:00:00",
          "2025-04-02 16:00:00",
          "2025-04-02 17:00:00",
          "2025-04-02 18:00:00",
          "2025-04-02 19:00:00",
          "2025-04-02 20:00:00",
          "2025-04-02 21:00:00",
          "2025-04-02 22:00:00",
          "2025-04-02 23:00:00",
          "2025-04-03 00:00:00",
          "2025-04-03 01:00:00",
          "2025-04-03 02:00:00",
          "2025-04-03 03:00:00",
          "2025-04-03 04:00:00",
          "2025-04-03 05:00:00",
          "2025-04-03 06:00:00",
          "2025-04-03 07:00:00"
         ],
         "y": [
          21.281538461538464,
          21.242857142857144,
          21.18230769230769,
          21.156428571428574,
          21.158461538461534,
          21.164285714285715,
          21.160000000000004,
          21.176428571428573,
          21.234615384615385,
          21.43642857142857,
          21.61846153846153,
          21.711428571428577,
          23.484615384615388,
          23.619285714285716,
          23.313076923076924,
          23.195,
          23.198461538461537,
          23.170000000000005,
          23.157692307692308,
          23.154285714285717,
          23.239230769230772,
          23.28357142857143,
          23.201538461538462,
          23.15571428571429,
          23.138461538461538,
          23.12642857142857,
          23.114615384615387,
          23.210714285714282,
          23.52461538461539,
          23.270000000000003,
          23.383846153846157,
          23.458571428571425,
          23.49615384615385,
          23.744285714285716,
          23.454615384615387,
          23.853571428571428,
          25.16692307692308,
          26.010714285714283,
          26.083846153846153,
          24.807857142857145,
          23.93307692307692,
          23.041428571428572,
          22.496923076923075,
          22.12357142857143,
          21.91692307692308,
          21.775714285714283,
          21.661538461538452,
          21.637857142857147,
          21.66615384615385,
          21.634285714285713,
          21.61000000000001,
          21.575714285714284,
          21.505384615384614,
          21.437142857142856,
          21.415384615384614,
          21.49571428571429,
          21.696153846153845,
          22.041428571428565,
          22.116153846153846,
          21.975,
          22.126923076923074,
          22.197142857142854,
          21.91692307692308,
          21.66142857142857,
          21.481538461538463,
          21.565714285714282,
          21.56,
          21.534285714285716,
          21.466923076923077,
          21.41,
          21.356153846153845,
          21.31714285714286,
          21.287692307692307,
          21.280714285714282,
          21.24615384615384,
          21.22785714285715,
          21.215384615384615,
          21.197142857142858,
          21.235384615384614,
          21.335,
          21.207692307692305,
          21.60214285714286,
          21.568461538461538,
          21.751428571428576,
          21.643076923076926,
          21.631428571428565,
          21.61076923076924,
          21.573571428571423,
          21.520769230769233,
          21.33142857142857,
          21.185384615384613,
          21.24571428571429,
          21.156153846153842,
          21.138571428571428,
          21.13230769230769,
          21.127142857142864,
          21.135384615384613,
          21.12142857142857,
          21.133846153846157,
          21.125,
          21.113846153846158,
          21.11571428571429,
          21.320769230769233,
          22.05857142857143,
          22.509230769230765,
          22.349285714285717,
          22.09076923076924,
          21.911428571428566,
          21.77692307692308,
          21.705714285714286,
          21.707692307692298,
          21.688571428571436,
          21.651538461538454,
          21.507857142857148,
          21.26923076923077,
          21.152142857142856,
          21.195384615384608,
          21.152857142857147,
          21.144615384615385,
          21.122142857142855,
          21.125384615384615,
          21.125,
          21.126153846153844,
          21.13285714285714,
          21.136923076923075,
          21.15142857142857,
          21.160769230769233,
          21.19,
          21.232307692307693,
          21.25214285714285,
          21.26,
          21.29357142857143,
          21.349230769230765,
          21.403571428571436,
          21.464615384615378,
          21.504285714285718,
          21.363076923076925,
          21.205,
          21.139230769230775,
          21.138571428571428,
          21.119230769230768,
          21.10428571428572,
          21.11,
          21.094285714285718,
          21.1,
          21.085,
          21.09307692307692,
          21.112142857142853,
          21.11384615384615,
          21.148571428571433,
          21.380000000000006,
          22.296428571428574,
          23.24692307692308,
          22.713571428571424,
          22.634615384615394,
          21.92,
          22.50076923076923,
          22.255000000000006,
          22.146923076923073,
          21.657857142857146,
          21.496923076923075,
          21.479285714285712,
          21.395384615384614,
          21.44571428571428,
          21.27153846153846,
          21.19142857142857,
          21.200769230769232,
          21.142857142857142,
          21.13615384615385,
          21.12642857142857,
          21.12,
          21.13714285714285,
          21.14923076923077,
          21.15642857142857,
          21.196153846153848,
          21.260714285714286,
          21.92615384615384,
          22.60857142857143,
          22.002307692307692,
          21.785000000000004,
          21.79076923076923,
          21.739285714285714,
          21.903076923076924,
          22.03,
          21.87461538461539,
          21.805714285714288,
          21.63230769230769,
          21.52642857142857,
          21.398461538461547,
          21.32785714285714,
          21.292307692307688,
          21.20571428571429,
          21.163846153846155,
          21.144285714285708,
          21.141538461538467,
          21.17142857142857,
          21.17230769230769,
          21.173571428571428,
          21.19076923076923,
          21.368571428571435,
          21.46076923076923,
          20.963571428571434,
          21.907692307692304,
          22.724285714285717,
          22.40615384615385,
          22.59857142857143,
          22.841538461538462,
          22.74857142857143,
          22.450000000000006,
          22.177142857142854,
          21.94,
          21.698571428571423,
          21.533846153846156,
          21.35214285714286,
          21.200769230769232,
          21.245,
          21.158461538461534,
          21.165,
          21.156923076923075,
          21.155,
          21.125384615384615,
          21.155,
          21.48692307692307,
          22.27642857142857,
          23.350769230769227,
          23.832857142857147,
          23.71923076923077,
          22.527142857142852,
          21.810769230769235,
          22.165714285714284,
          22.150769230769235,
          22.084285714285713,
          21.955384615384613,
          21.53923076923077,
          21.452857142857138,
          20.986153846153847,
          20.462857142857143,
          19.933846153846158,
          19.969285714285714,
          19.9,
          19.45642857142857,
          19.153076923076924,
          19.14928571428572,
          18.973076923076924,
          19.263076923076927,
          19.412142857142857,
          19.787692307692307,
          20.791428571428565,
          21.836923076923078,
          22.20714285714286,
          22.314615384615394,
          21.94142857142857,
          21.889230769230767,
          21.616923076923076,
          21.631428571428575,
          21.730769230769234,
          21.799285714285716,
          21.706153846153846,
          21.601428571428567,
          21.43230769230769,
          21.29642857142857,
          21.153846153846157,
          21.076428571428572,
          20.958461538461545,
          20.858571428571427,
          20.771538461538466,
          20.677857142857142,
          20.630769230769232,
          20.605384615384608,
          20.594285714285714,
          20.97846153846154,
          21.834285714285713,
          22.167692307692317,
          22.064285714285717,
          21.855384615384622,
          21.70357142857143,
          21.63153846153846,
          21.622142857142855,
          21.626153846153844,
          21.61500000000001,
          21.577692307692303,
          21.455000000000005,
          21.232307692307696,
          21.109285714285715,
          20.986153846153847,
          20.878571428571426,
          20.817692307692308,
          20.76214285714286,
          20.72692307692307,
          20.687142857142856,
          20.638461538461534,
          20.61071428571429,
          20.583846153846157,
          20.565714285714282,
          20.693076923076926,
          21.31357142857143,
          21.70846153846153,
          21.688571428571436,
          21.61076923076924,
          21.552857142857146,
          21.513846153846153,
          21.525,
          21.537692307692303,
          21.515,
          21.42538461538461,
          21.27571428571429,
          21.115384615384613,
          20.982142857142858,
          20.856923076923074,
          20.75428571428571,
          20.66846153846154,
          20.613571428571426,
          20.595384615384614,
          20.55857142857143,
          20.532307692307693,
          20.507142857142856,
          20.49153846153846,
          20.51571428571429,
          20.62,
          20.866428571428575,
          21.353076923076923,
          21.891428571428577,
          22.127692307692318,
          21.627857142857145,
          21.606153846153845,
          21.63,
          22.076153846153847,
          22.472857142857148,
          21.920769230769228,
          21.532857142857146,
          21.244615384615386,
          21.10714285714285,
          21.156153846153842,
          21.15285714285714,
          21.13615384615385,
          21.12071428571429,
          21.097692307692302,
          21.071428571428573,
          21.02384615384615,
          20.98928571428572,
          21.00384615384616,
          21.021428571428565,
          21.032307692307693,
          21.176428571428573,
          21.470769230769232,
          22.086428571428577,
          22.32,
          21.897142857142853,
          21.98692307692308,
          22.062857142857148,
          21.960769230769237,
          21.845714285714283,
          21.533076923076926,
          21.35214285714286,
          21.235384615384614,
          21.17714285714285,
          21.25769230769231,
          21.296923076923076,
          21.326428571428565,
          21.31615384615385,
          21.31142857142857,
          21.286153846153848,
          21.255714285714287,
          21.236923076923077,
          21.22928571428572,
          21.229230769230767,
          21.515,
          22.179230769230767,
          22.944285714285716,
          23.376153846153844,
          23.17142857142857,
          22.641538461538463,
          22.544285714285717,
          22.61692307692308,
          22.76928571428572,
          23.11615384615385,
          22.99357142857143,
          22.70923076923077,
          22.05428571428572,
          21.733076923076922,
          21.59642857142857,
          21.422307692307697,
          21.327857142857145,
          21.413846153846155,
          21.448571428571427,
          21.43230769230769,
          21.388571428571428,
          21.38615384615385,
          21.40357142857143,
          21.426923076923075,
          21.446428571428573,
          21.548461538461538,
          21.645000000000003,
          22.56384615384616,
          23.032857142857146,
          22.72384615384616,
          22.775714285714287,
          23.700000000000006,
          23.917857142857148,
          23.33461538461539,
          22.774285714285718,
          22.399230769230773,
          22.145000000000003,
          22.080769230769228,
          22.042857142857148,
          21.97,
          21.875714285714288,
          21.812307692307687,
          21.736428571428565,
          21.664615384615388,
          21.632857142857148,
          21.601538461538453,
          21.575,
          21.601538461538453,
          22.215714285714288,
          23.14692307692308,
          23.702857142857145,
          23.800769230769234,
          23.625714285714285,
          23.173076923076927,
          23.15357142857143,
          23.21076923076923,
          23.172142857142855,
          23.108461538461537,
          23.085000000000004,
          22.93461538461539,
          22.73,
          22.552307692307693,
          22.381428571428575,
          22.19461538461539,
          22.092857142857138,
          21.996923076923075,
          21.873571428571424,
          21.787692307692307,
          21.692142857142862,
          21.635384615384613,
          21.616428571428575,
          21.595384615384614,
          21.624285714285715,
          21.728461538461538,
          21.849285714285717,
          22.03076923076923,
          22.208571428571425,
          22.336153846153845,
          22.381428571428575,
          22.461538461538463,
          22.53571428571429,
          22.554615384615378,
          22.562142857142863,
          22.465384615384608,
          22.271428571428565,
          22.10461538461539,
          21.954285714285714,
          21.814615384615387,
          21.705000000000005,
          21.62384615384616,
          21.572857142857146,
          21.502307692307692,
          21.44214285714286,
          21.390769230769234,
          21.377857142857145,
          21.358461538461533,
          21.357142857142858,
          21.35,
          21.358571428571434,
          21.441538461538453,
          21.687142857142852,
          22.003076923076925,
          22.102857142857147,
          22.100769230769227,
          22.113571428571426,
          22.127692307692307,
          22.101428571428567,
          21.983846153846148,
          21.84357142857143,
          21.733076923076922,
          21.659285714285712,
          21.61692307692308,
          21.578571428571426,
          21.497692307692304,
          21.420000000000005,
          21.395384615384614,
          21.353571428571428,
          21.305384615384614,
          21.28928571428571,
          21.284615384615385,
          21.38785714285714,
          21.494615384615386,
          21.935714285714287,
          22.11076923076923,
          21.819285714285716,
          21.913846153846155,
          22.067857142857147,
          22.49230769230769,
          22.603571428571428,
          22.17230769230769,
          22.115714285714287,
          22.09,
          22.46857142857143,
          22.11384615384615,
          21.817857142857147,
          21.592307692307696,
          21.35071428571429,
          21.19230769230769,
          21.27928571428572,
          21.154615384615386,
          21.28428571428572,
          21.14923076923077,
          21.25571428571428,
          21.438461538461546,
          22.49571428571429,
          23.832307692307698,
          24.74,
          24.47230769230769,
          23.69214285714286,
          23.561538461538454,
          24.095714285714287,
          23.70923076923077,
          23.36785714285714,
          22.99230769230769,
          22.562142857142852,
          22.285384615384622,
          22.045714285714286,
          22.02769230769231,
          22.193571428571424,
          22.141538461538463,
          22.0892857142857,
          22.02230769230769,
          21.930714285714284,
          21.847692307692302,
          21.779285714285717,
          21.701538461538462,
          21.649285714285718,
          21.906923076923075,
          22.982142857142854,
          24.031538461538464,
          24.504999999999995,
          24.440000000000005,
          24.15142857142857,
          24.274615384615387,
          24.291428571428572,
          23.708461538461545,
          23.447857142857142,
          23.23692307692308,
          23.03642857142857,
          22.78076923076923,
          22.48785714285714,
          22.338461538461537,
          22.27,
          22.14076923076923,
          22.057142857142853,
          21.934615384615388,
          21.825714285714284,
          21.716153846153844,
          21.647857142857145,
          21.586923076923078,
          21.49642857142857,
          21.77076923076923,
          23.00428571428571,
          24.145
         ]
        }
       ],
       "layout": {
        "legend": {
         "title": {
          "text": "Temperature Curves"
         }
        },
        "template": {
         "data": {
          "bar": [
           {
            "error_x": {
             "color": "#2a3f5f"
            },
            "error_y": {
             "color": "#2a3f5f"
            },
            "marker": {
             "line": {
              "color": "#E5ECF6",
              "width": 0.5
             },
             "pattern": {
              "fillmode": "overlay",
              "size": 10,
              "solidity": 0.2
             }
            },
            "type": "bar"
           }
          ],
          "barpolar": [
           {
            "marker": {
             "line": {
              "color": "#E5ECF6",
              "width": 0.5
             },
             "pattern": {
              "fillmode": "overlay",
              "size": 10,
              "solidity": 0.2
             }
            },
            "type": "barpolar"
           }
          ],
          "carpet": [
           {
            "aaxis": {
             "endlinecolor": "#2a3f5f",
             "gridcolor": "white",
             "linecolor": "white",
             "minorgridcolor": "white",
             "startlinecolor": "#2a3f5f"
            },
            "baxis": {
             "endlinecolor": "#2a3f5f",
             "gridcolor": "white",
             "linecolor": "white",
             "minorgridcolor": "white",
             "startlinecolor": "#2a3f5f"
            },
            "type": "carpet"
           }
          ],
          "choropleth": [
           {
            "colorbar": {
             "outlinewidth": 0,
             "ticks": ""
            },
            "type": "choropleth"
           }
          ],
          "contour": [
           {
            "colorbar": {
             "outlinewidth": 0,
             "ticks": ""
            },
            "colorscale": [
             [
              0,
              "#0d0887"
             ],
             [
              0.1111111111111111,
              "#46039f"
             ],
             [
              0.2222222222222222,
              "#7201a8"
             ],
             [
              0.3333333333333333,
              "#9c179e"
             ],
             [
              0.4444444444444444,
              "#bd3786"
             ],
             [
              0.5555555555555556,
              "#d8576b"
             ],
             [
              0.6666666666666666,
              "#ed7953"
             ],
             [
              0.7777777777777778,
              "#fb9f3a"
             ],
             [
              0.8888888888888888,
              "#fdca26"
             ],
             [
              1,
              "#f0f921"
             ]
            ],
            "type": "contour"
           }
          ],
          "contourcarpet": [
           {
            "colorbar": {
             "outlinewidth": 0,
             "ticks": ""
            },
            "type": "contourcarpet"
           }
          ],
          "heatmap": [
           {
            "colorbar": {
             "outlinewidth": 0,
             "ticks": ""
            },
            "colorscale": [
             [
              0,
              "#0d0887"
             ],
             [
              0.1111111111111111,
              "#46039f"
             ],
             [
              0.2222222222222222,
              "#7201a8"
             ],
             [
              0.3333333333333333,
              "#9c179e"
             ],
             [
              0.4444444444444444,
              "#bd3786"
             ],
             [
              0.5555555555555556,
              "#d8576b"
             ],
             [
              0.6666666666666666,
              "#ed7953"
             ],
             [
              0.7777777777777778,
              "#fb9f3a"
             ],
             [
              0.8888888888888888,
              "#fdca26"
             ],
             [
              1,
              "#f0f921"
             ]
            ],
            "type": "heatmap"
           }
          ],
          "heatmapgl": [
           {
            "colorbar": {
             "outlinewidth": 0,
             "ticks": ""
            },
            "colorscale": [
             [
              0,
              "#0d0887"
             ],
             [
              0.1111111111111111,
              "#46039f"
             ],
             [
              0.2222222222222222,
              "#7201a8"
             ],
             [
              0.3333333333333333,
              "#9c179e"
             ],
             [
              0.4444444444444444,
              "#bd3786"
             ],
             [
              0.5555555555555556,
              "#d8576b"
             ],
             [
              0.6666666666666666,
              "#ed7953"
             ],
             [
              0.7777777777777778,
              "#fb9f3a"
             ],
             [
              0.8888888888888888,
              "#fdca26"
             ],
             [
              1,
              "#f0f921"
             ]
            ],
            "type": "heatmapgl"
           }
          ],
          "histogram": [
           {
            "marker": {
             "pattern": {
              "fillmode": "overlay",
              "size": 10,
              "solidity": 0.2
             }
            },
            "type": "histogram"
           }
          ],
          "histogram2d": [
           {
            "colorbar": {
             "outlinewidth": 0,
             "ticks": ""
            },
            "colorscale": [
             [
              0,
              "#0d0887"
             ],
             [
              0.1111111111111111,
              "#46039f"
             ],
             [
              0.2222222222222222,
              "#7201a8"
             ],
             [
              0.3333333333333333,
              "#9c179e"
             ],
             [
              0.4444444444444444,
              "#bd3786"
             ],
             [
              0.5555555555555556,
              "#d8576b"
             ],
             [
              0.6666666666666666,
              "#ed7953"
             ],
             [
              0.7777777777777778,
              "#fb9f3a"
             ],
             [
              0.8888888888888888,
              "#fdca26"
             ],
             [
              1,
              "#f0f921"
             ]
            ],
            "type": "histogram2d"
           }
          ],
          "histogram2dcontour": [
           {
            "colorbar": {
             "outlinewidth": 0,
             "ticks": ""
            },
            "colorscale": [
             [
              0,
              "#0d0887"
             ],
             [
              0.1111111111111111,
              "#46039f"
             ],
             [
              0.2222222222222222,
              "#7201a8"
             ],
             [
              0.3333333333333333,
              "#9c179e"
             ],
             [
              0.4444444444444444,
              "#bd3786"
             ],
             [
              0.5555555555555556,
              "#d8576b"
             ],
             [
              0.6666666666666666,
              "#ed7953"
             ],
             [
              0.7777777777777778,
              "#fb9f3a"
             ],
             [
              0.8888888888888888,
              "#fdca26"
             ],
             [
              1,
              "#f0f921"
             ]
            ],
            "type": "histogram2dcontour"
           }
          ],
          "mesh3d": [
           {
            "colorbar": {
             "outlinewidth": 0,
             "ticks": ""
            },
            "type": "mesh3d"
           }
          ],
          "parcoords": [
           {
            "line": {
             "colorbar": {
              "outlinewidth": 0,
              "ticks": ""
             }
            },
            "type": "parcoords"
           }
          ],
          "pie": [
           {
            "automargin": true,
            "type": "pie"
           }
          ],
          "scatter": [
           {
            "fillpattern": {
             "fillmode": "overlay",
             "size": 10,
             "solidity": 0.2
            },
            "type": "scatter"
           }
          ],
          "scatter3d": [
           {
            "line": {
             "colorbar": {
              "outlinewidth": 0,
              "ticks": ""
             }
            },
            "marker": {
             "colorbar": {
              "outlinewidth": 0,
              "ticks": ""
             }
            },
            "type": "scatter3d"
           }
          ],
          "scattercarpet": [
           {
            "marker": {
             "colorbar": {
              "outlinewidth": 0,
              "ticks": ""
             }
            },
            "type": "scattercarpet"
           }
          ],
          "scattergeo": [
           {
            "marker": {
             "colorbar": {
              "outlinewidth": 0,
              "ticks": ""
             }
            },
            "type": "scattergeo"
           }
          ],
          "scattergl": [
           {
            "marker": {
             "colorbar": {
              "outlinewidth": 0,
              "ticks": ""
             }
            },
            "type": "scattergl"
           }
          ],
          "scattermapbox": [
           {
            "marker": {
             "colorbar": {
              "outlinewidth": 0,
              "ticks": ""
             }
            },
            "type": "scattermapbox"
           }
          ],
          "scatterpolar": [
           {
            "marker": {
             "colorbar": {
              "outlinewidth": 0,
              "ticks": ""
             }
            },
            "type": "scatterpolar"
           }
          ],
          "scatterpolargl": [
           {
            "marker": {
             "colorbar": {
              "outlinewidth": 0,
              "ticks": ""
             }
            },
            "type": "scatterpolargl"
           }
          ],
          "scatterternary": [
           {
            "marker": {
             "colorbar": {
              "outlinewidth": 0,
              "ticks": ""
             }
            },
            "type": "scatterternary"
           }
          ],
          "surface": [
           {
            "colorbar": {
             "outlinewidth": 0,
             "ticks": ""
            },
            "colorscale": [
             [
              0,
              "#0d0887"
             ],
             [
              0.1111111111111111,
              "#46039f"
             ],
             [
              0.2222222222222222,
              "#7201a8"
             ],
             [
              0.3333333333333333,
              "#9c179e"
             ],
             [
              0.4444444444444444,
              "#bd3786"
             ],
             [
              0.5555555555555556,
              "#d8576b"
             ],
             [
              0.6666666666666666,
              "#ed7953"
             ],
             [
              0.7777777777777778,
              "#fb9f3a"
             ],
             [
              0.8888888888888888,
              "#fdca26"
             ],
             [
              1,
              "#f0f921"
             ]
            ],
            "type": "surface"
           }
          ],
          "table": [
           {
            "cells": {
             "fill": {
              "color": "#EBF0F8"
             },
             "line": {
              "color": "white"
             }
            },
            "header": {
             "fill": {
              "color": "#C8D4E3"
             },
             "line": {
              "color": "white"
             }
            },
            "type": "table"
           }
          ]
         },
         "layout": {
          "annotationdefaults": {
           "arrowcolor": "#2a3f5f",
           "arrowhead": 0,
           "arrowwidth": 1
          },
          "autotypenumbers": "strict",
          "coloraxis": {
           "colorbar": {
            "outlinewidth": 0,
            "ticks": ""
           }
          },
          "colorscale": {
           "diverging": [
            [
             0,
             "#8e0152"
            ],
            [
             0.1,
             "#c51b7d"
            ],
            [
             0.2,
             "#de77ae"
            ],
            [
             0.3,
             "#f1b6da"
            ],
            [
             0.4,
             "#fde0ef"
            ],
            [
             0.5,
             "#f7f7f7"
            ],
            [
             0.6,
             "#e6f5d0"
            ],
            [
             0.7,
             "#b8e186"
            ],
            [
             0.8,
             "#7fbc41"
            ],
            [
             0.9,
             "#4d9221"
            ],
            [
             1,
             "#276419"
            ]
           ],
           "sequential": [
            [
             0,
             "#0d0887"
            ],
            [
             0.1111111111111111,
             "#46039f"
            ],
            [
             0.2222222222222222,
             "#7201a8"
            ],
            [
             0.3333333333333333,
             "#9c179e"
            ],
            [
             0.4444444444444444,
             "#bd3786"
            ],
            [
             0.5555555555555556,
             "#d8576b"
            ],
            [
             0.6666666666666666,
             "#ed7953"
            ],
            [
             0.7777777777777778,
             "#fb9f3a"
            ],
            [
             0.8888888888888888,
             "#fdca26"
            ],
            [
             1,
             "#f0f921"
            ]
           ],
           "sequentialminus": [
            [
             0,
             "#0d0887"
            ],
            [
             0.1111111111111111,
             "#46039f"
            ],
            [
             0.2222222222222222,
             "#7201a8"
            ],
            [
             0.3333333333333333,
             "#9c179e"
            ],
            [
             0.4444444444444444,
             "#bd3786"
            ],
            [
             0.5555555555555556,
             "#d8576b"
            ],
            [
             0.6666666666666666,
             "#ed7953"
            ],
            [
             0.7777777777777778,
             "#fb9f3a"
            ],
            [
             0.8888888888888888,
             "#fdca26"
            ],
            [
             1,
             "#f0f921"
            ]
           ]
          },
          "colorway": [
           "#636efa",
           "#EF553B",
           "#00cc96",
           "#ab63fa",
           "#FFA15A",
           "#19d3f3",
           "#FF6692",
           "#B6E880",
           "#FF97FF",
           "#FECB52"
          ],
          "font": {
           "color": "#2a3f5f"
          },
          "geo": {
           "bgcolor": "white",
           "lakecolor": "white",
           "landcolor": "#E5ECF6",
           "showlakes": true,
           "showland": true,
           "subunitcolor": "white"
          },
          "hoverlabel": {
           "align": "left"
          },
          "hovermode": "closest",
          "mapbox": {
           "style": "light"
          },
          "paper_bgcolor": "white",
          "plot_bgcolor": "#E5ECF6",
          "polar": {
           "angularaxis": {
            "gridcolor": "white",
            "linecolor": "white",
            "ticks": ""
           },
           "bgcolor": "#E5ECF6",
           "radialaxis": {
            "gridcolor": "white",
            "linecolor": "white",
            "ticks": ""
           }
          },
          "scene": {
           "xaxis": {
            "backgroundcolor": "#E5ECF6",
            "gridcolor": "white",
            "gridwidth": 2,
            "linecolor": "white",
            "showbackground": true,
            "ticks": "",
            "zerolinecolor": "white"
           },
           "yaxis": {
            "backgroundcolor": "#E5ECF6",
            "gridcolor": "white",
            "gridwidth": 2,
            "linecolor": "white",
            "showbackground": true,
            "ticks": "",
            "zerolinecolor": "white"
           },
           "zaxis": {
            "backgroundcolor": "#E5ECF6",
            "gridcolor": "white",
            "gridwidth": 2,
            "linecolor": "white",
            "showbackground": true,
            "ticks": "",
            "zerolinecolor": "white"
           }
          },
          "shapedefaults": {
           "line": {
            "color": "#2a3f5f"
           }
          },
          "ternary": {
           "aaxis": {
            "gridcolor": "white",
            "linecolor": "white",
            "ticks": ""
           },
           "baxis": {
            "gridcolor": "white",
            "linecolor": "white",
            "ticks": ""
           },
           "bgcolor": "#E5ECF6",
           "caxis": {
            "gridcolor": "white",
            "linecolor": "white",
            "ticks": ""
           }
          },
          "title": {
           "x": 0.05
          },
          "xaxis": {
           "automargin": true,
           "gridcolor": "white",
           "linecolor": "white",
           "ticks": "",
           "title": {
            "standoff": 15
           },
           "zerolinecolor": "white",
           "zerolinewidth": 2
          },
          "yaxis": {
           "automargin": true,
           "gridcolor": "white",
           "linecolor": "white",
           "ticks": "",
           "title": {
            "standoff": 15
           },
           "zerolinecolor": "white",
           "zerolinewidth": 2
          }
         }
        },
        "title": {
         "text": "Temperatures in meeting room March 2025"
        },
        "width": 1800,
        "xaxis": {
         "title": {
          "text": "Time"
         }
        },
        "yaxis": {
         "title": {
          "text": "Temperature (°C)"
         }
        }
       }
      }
     },
     "metadata": {},
     "output_type": "display_data"
    }
   ],
   "source": [
    "fig = go.Figure()\n",
    "\n",
    "fig.add_trace(go.Scatter(x=df_engen['Time'], y=df_engen['TEMP °C'], mode='lines', name='TEMP °C'))\n",
    "\n",
    "# Make sure 'Time' is datetime\n",
    "df_engen['Time'] = pd.to_datetime(df_engen['Time'])\n",
    "\n",
    "fig.update_layout(\n",
    "    title=\"Temperatures in meeting room March 2025\",\n",
    "    xaxis_title=\"Time\",\n",
    "    yaxis_title=\"Temperature (°C)\",\n",
    "    legend_title=\"Temperature Curves\",\n",
    "    template=\"plotly\",\n",
    "    width = 1800\n",
    ")\n",
    "\n",
    "# Show the plot\n",
    "fig.show()"
   ]
  },
  {
   "cell_type": "markdown",
   "metadata": {},
   "source": [
    "## 4) Multiclass uden CO2 fault"
   ]
  },
  {
   "cell_type": "code",
   "execution_count": 137,
   "metadata": {},
   "outputs": [],
   "source": [
    "df_simulated = pd.read_csv('/Users/sararhiger/Desktop/Master thesis /Data/Processed data/Multiclass_WithoutCO2.csv')\n",
    "df_engen = pd.read_csv('/Users/sararhiger/Desktop/Master thesis /Data/Processed data/Mileparken.csv')\n"
   ]
  },
  {
   "cell_type": "code",
   "execution_count": 138,
   "metadata": {},
   "outputs": [],
   "source": [
    "# Define the start and end times for training data\n",
    "start_time_train = \"2023-01-01 00:00:00\"  \n",
    "end_time_train = \"2023-12-31 23:00:00\"  \n",
    "\n",
    "# Define the start and end times for testing data\n",
    "start_time_test = \"2025-03-11 00:00:00\"  \n",
    "end_time_test = \"2025-03-31 07:00:00\"\n",
    "\n",
    "# Filter DataFrame for timestamps within the range\n",
    "df_train = df_simulated[(df_simulated['Time'] >= start_time_train) & (df_simulated['Time'] <= end_time_train)]\n",
    "\n",
    "df_test = df_engen[(df_engen['Time'] >= start_time_test) & (df_engen['Time'] <= end_time_test)]"
   ]
  },
  {
   "cell_type": "code",
   "execution_count": 139,
   "metadata": {},
   "outputs": [],
   "source": [
    "train_x= df_train[['Global Horizontal Irradiance, W/m2','Outdoor air temp','Mean air temperature, degC, zone 1', 'Relative humidity, %, zone 1', 'CO2, ppm (vol), zone 1', 'Ideal heaters and other local u']]\n",
    "train_y = df_train['FDD, zone 1']\n",
    "\n",
    "test_x = df_test[['GHI, W/m2','Outdoor temperature','TEMP °C', 'HUMIDITY %', 'CO2 ppm', 'Heating kWh']]\n",
    "test_y = df_test['FDD']\n",
    "\n",
    "# Define zones and variables for plots \n",
    "test_temp = 'TEMP °C'\n",
    "test_heat = 'Heating kWh'"
   ]
  },
  {
   "cell_type": "code",
   "execution_count": 140,
   "metadata": {},
   "outputs": [
    {
     "name": "stdout",
     "output_type": "stream",
     "text": [
      "Accuracy: 1.0\n",
      "Train Report:\n",
      "               precision    recall  f1-score   support\n",
      "\n",
      "           0       1.00      1.00      1.00      8421\n",
      "           1       1.00      1.00      1.00        48\n",
      "           2       1.00      1.00      1.00       103\n",
      "           4       1.00      1.00      1.00       188\n",
      "\n",
      "    accuracy                           1.00      8760\n",
      "   macro avg       1.00      1.00      1.00      8760\n",
      "weighted avg       1.00      1.00      1.00      8760\n",
      "\n",
      "\n",
      "Accuracy: 0.9569672131147541\n",
      "\n",
      "Classification Report:\n",
      "               precision    recall  f1-score   support\n",
      "\n",
      "           0       0.96      1.00      0.98       465\n",
      "           1       1.00      0.11      0.19        19\n",
      "           4       0.00      0.00      0.00         4\n",
      "\n",
      "    accuracy                           0.96       488\n",
      "   macro avg       0.65      0.37      0.39       488\n",
      "weighted avg       0.95      0.96      0.94       488\n",
      "\n",
      "[0.18398415 0.15760692 0.36454908 0.11563837 0.07183874 0.10638274]\n"
     ]
    },
    {
     "name": "stderr",
     "output_type": "stream",
     "text": [
      "/Users/sararhiger/opt/anaconda3/lib/python3.7/site-packages/sklearn/metrics/_classification.py:1272: UndefinedMetricWarning:\n",
      "\n",
      "Precision and F-score are ill-defined and being set to 0.0 in labels with no predicted samples. Use `zero_division` parameter to control this behavior.\n",
      "\n"
     ]
    }
   ],
   "source": [
    "# Initialize the Random Forest Classifier\n",
    "rf_model = RandomForestClassifier(class_weight='balanced')\n",
    "\n",
    "# Train the model\n",
    "rf_model.fit(train_x, train_y)\n",
    "\n",
    "# Make predictions\n",
    "y_pred_train = rf_model.predict(train_x)\n",
    "y_pred = rf_model.predict(test_x)\n",
    "\n",
    "# Evaluate the model\n",
    "print(\"Accuracy:\", accuracy_score(train_y, y_pred_train))\n",
    "print(\"Train Report:\\n\", classification_report(train_y, y_pred_train))\n",
    "print()\n",
    "print(\"Accuracy:\", accuracy_score(test_y, y_pred))\n",
    "print(\"\\nClassification Report:\\n\", classification_report(test_y, y_pred))\n",
    "\n",
    "print(rf_model.feature_importances_)"
   ]
  },
  {
   "cell_type": "code",
   "execution_count": 141,
   "metadata": {},
   "outputs": [
    {
     "data": {
      "application/vnd.plotly.v1+json": {
       "config": {
        "plotlyServerURL": "https://plot.ly"
       },
       "data": [
        {
         "coloraxis": "coloraxis",
         "hovertemplate": "Predicted: %{x}<br>Actual: %{y}<br>Count: %{z}<extra></extra>",
         "name": "0",
         "texttemplate": "%{z}",
         "type": "heatmap",
         "x": [
          0,
          1,
          2,
          4
         ],
         "xaxis": "x",
         "y": [
          0,
          1,
          2,
          4
         ],
         "yaxis": "y",
         "z": [
          [
           null,
           0,
           0,
           0
          ],
          [
           17,
           2,
           0,
           0
          ],
          [
           0,
           0,
           0,
           0
          ],
          [
           4,
           0,
           0,
           0
          ]
         ]
        }
       ],
       "layout": {
        "annotations": [
         {
          "bgcolor": "white",
          "font": {
           "color": "red",
           "size": 12
          },
          "showarrow": false,
          "text": "465",
          "x": 0,
          "y": 0
         }
        ],
        "coloraxis": {
         "colorbar": {
          "title": {
           "text": "Count"
          }
         },
         "colorscale": [
          [
           0,
           "rgb(247,251,255)"
          ],
          [
           0.125,
           "rgb(222,235,247)"
          ],
          [
           0.25,
           "rgb(198,219,239)"
          ],
          [
           0.375,
           "rgb(158,202,225)"
          ],
          [
           0.5,
           "rgb(107,174,214)"
          ],
          [
           0.625,
           "rgb(66,146,198)"
          ],
          [
           0.75,
           "rgb(33,113,181)"
          ],
          [
           0.875,
           "rgb(8,81,156)"
          ],
          [
           1,
           "rgb(8,48,107)"
          ]
         ]
        },
        "height": 500,
        "margin": {
         "t": 60
        },
        "template": {
         "data": {
          "bar": [
           {
            "error_x": {
             "color": "#2a3f5f"
            },
            "error_y": {
             "color": "#2a3f5f"
            },
            "marker": {
             "line": {
              "color": "#E5ECF6",
              "width": 0.5
             },
             "pattern": {
              "fillmode": "overlay",
              "size": 10,
              "solidity": 0.2
             }
            },
            "type": "bar"
           }
          ],
          "barpolar": [
           {
            "marker": {
             "line": {
              "color": "#E5ECF6",
              "width": 0.5
             },
             "pattern": {
              "fillmode": "overlay",
              "size": 10,
              "solidity": 0.2
             }
            },
            "type": "barpolar"
           }
          ],
          "carpet": [
           {
            "aaxis": {
             "endlinecolor": "#2a3f5f",
             "gridcolor": "white",
             "linecolor": "white",
             "minorgridcolor": "white",
             "startlinecolor": "#2a3f5f"
            },
            "baxis": {
             "endlinecolor": "#2a3f5f",
             "gridcolor": "white",
             "linecolor": "white",
             "minorgridcolor": "white",
             "startlinecolor": "#2a3f5f"
            },
            "type": "carpet"
           }
          ],
          "choropleth": [
           {
            "colorbar": {
             "outlinewidth": 0,
             "ticks": ""
            },
            "type": "choropleth"
           }
          ],
          "contour": [
           {
            "colorbar": {
             "outlinewidth": 0,
             "ticks": ""
            },
            "colorscale": [
             [
              0,
              "#0d0887"
             ],
             [
              0.1111111111111111,
              "#46039f"
             ],
             [
              0.2222222222222222,
              "#7201a8"
             ],
             [
              0.3333333333333333,
              "#9c179e"
             ],
             [
              0.4444444444444444,
              "#bd3786"
             ],
             [
              0.5555555555555556,
              "#d8576b"
             ],
             [
              0.6666666666666666,
              "#ed7953"
             ],
             [
              0.7777777777777778,
              "#fb9f3a"
             ],
             [
              0.8888888888888888,
              "#fdca26"
             ],
             [
              1,
              "#f0f921"
             ]
            ],
            "type": "contour"
           }
          ],
          "contourcarpet": [
           {
            "colorbar": {
             "outlinewidth": 0,
             "ticks": ""
            },
            "type": "contourcarpet"
           }
          ],
          "heatmap": [
           {
            "colorbar": {
             "outlinewidth": 0,
             "ticks": ""
            },
            "colorscale": [
             [
              0,
              "#0d0887"
             ],
             [
              0.1111111111111111,
              "#46039f"
             ],
             [
              0.2222222222222222,
              "#7201a8"
             ],
             [
              0.3333333333333333,
              "#9c179e"
             ],
             [
              0.4444444444444444,
              "#bd3786"
             ],
             [
              0.5555555555555556,
              "#d8576b"
             ],
             [
              0.6666666666666666,
              "#ed7953"
             ],
             [
              0.7777777777777778,
              "#fb9f3a"
             ],
             [
              0.8888888888888888,
              "#fdca26"
             ],
             [
              1,
              "#f0f921"
             ]
            ],
            "type": "heatmap"
           }
          ],
          "heatmapgl": [
           {
            "colorbar": {
             "outlinewidth": 0,
             "ticks": ""
            },
            "colorscale": [
             [
              0,
              "#0d0887"
             ],
             [
              0.1111111111111111,
              "#46039f"
             ],
             [
              0.2222222222222222,
              "#7201a8"
             ],
             [
              0.3333333333333333,
              "#9c179e"
             ],
             [
              0.4444444444444444,
              "#bd3786"
             ],
             [
              0.5555555555555556,
              "#d8576b"
             ],
             [
              0.6666666666666666,
              "#ed7953"
             ],
             [
              0.7777777777777778,
              "#fb9f3a"
             ],
             [
              0.8888888888888888,
              "#fdca26"
             ],
             [
              1,
              "#f0f921"
             ]
            ],
            "type": "heatmapgl"
           }
          ],
          "histogram": [
           {
            "marker": {
             "pattern": {
              "fillmode": "overlay",
              "size": 10,
              "solidity": 0.2
             }
            },
            "type": "histogram"
           }
          ],
          "histogram2d": [
           {
            "colorbar": {
             "outlinewidth": 0,
             "ticks": ""
            },
            "colorscale": [
             [
              0,
              "#0d0887"
             ],
             [
              0.1111111111111111,
              "#46039f"
             ],
             [
              0.2222222222222222,
              "#7201a8"
             ],
             [
              0.3333333333333333,
              "#9c179e"
             ],
             [
              0.4444444444444444,
              "#bd3786"
             ],
             [
              0.5555555555555556,
              "#d8576b"
             ],
             [
              0.6666666666666666,
              "#ed7953"
             ],
             [
              0.7777777777777778,
              "#fb9f3a"
             ],
             [
              0.8888888888888888,
              "#fdca26"
             ],
             [
              1,
              "#f0f921"
             ]
            ],
            "type": "histogram2d"
           }
          ],
          "histogram2dcontour": [
           {
            "colorbar": {
             "outlinewidth": 0,
             "ticks": ""
            },
            "colorscale": [
             [
              0,
              "#0d0887"
             ],
             [
              0.1111111111111111,
              "#46039f"
             ],
             [
              0.2222222222222222,
              "#7201a8"
             ],
             [
              0.3333333333333333,
              "#9c179e"
             ],
             [
              0.4444444444444444,
              "#bd3786"
             ],
             [
              0.5555555555555556,
              "#d8576b"
             ],
             [
              0.6666666666666666,
              "#ed7953"
             ],
             [
              0.7777777777777778,
              "#fb9f3a"
             ],
             [
              0.8888888888888888,
              "#fdca26"
             ],
             [
              1,
              "#f0f921"
             ]
            ],
            "type": "histogram2dcontour"
           }
          ],
          "mesh3d": [
           {
            "colorbar": {
             "outlinewidth": 0,
             "ticks": ""
            },
            "type": "mesh3d"
           }
          ],
          "parcoords": [
           {
            "line": {
             "colorbar": {
              "outlinewidth": 0,
              "ticks": ""
             }
            },
            "type": "parcoords"
           }
          ],
          "pie": [
           {
            "automargin": true,
            "type": "pie"
           }
          ],
          "scatter": [
           {
            "fillpattern": {
             "fillmode": "overlay",
             "size": 10,
             "solidity": 0.2
            },
            "type": "scatter"
           }
          ],
          "scatter3d": [
           {
            "line": {
             "colorbar": {
              "outlinewidth": 0,
              "ticks": ""
             }
            },
            "marker": {
             "colorbar": {
              "outlinewidth": 0,
              "ticks": ""
             }
            },
            "type": "scatter3d"
           }
          ],
          "scattercarpet": [
           {
            "marker": {
             "colorbar": {
              "outlinewidth": 0,
              "ticks": ""
             }
            },
            "type": "scattercarpet"
           }
          ],
          "scattergeo": [
           {
            "marker": {
             "colorbar": {
              "outlinewidth": 0,
              "ticks": ""
             }
            },
            "type": "scattergeo"
           }
          ],
          "scattergl": [
           {
            "marker": {
             "colorbar": {
              "outlinewidth": 0,
              "ticks": ""
             }
            },
            "type": "scattergl"
           }
          ],
          "scattermapbox": [
           {
            "marker": {
             "colorbar": {
              "outlinewidth": 0,
              "ticks": ""
             }
            },
            "type": "scattermapbox"
           }
          ],
          "scatterpolar": [
           {
            "marker": {
             "colorbar": {
              "outlinewidth": 0,
              "ticks": ""
             }
            },
            "type": "scatterpolar"
           }
          ],
          "scatterpolargl": [
           {
            "marker": {
             "colorbar": {
              "outlinewidth": 0,
              "ticks": ""
             }
            },
            "type": "scatterpolargl"
           }
          ],
          "scatterternary": [
           {
            "marker": {
             "colorbar": {
              "outlinewidth": 0,
              "ticks": ""
             }
            },
            "type": "scatterternary"
           }
          ],
          "surface": [
           {
            "colorbar": {
             "outlinewidth": 0,
             "ticks": ""
            },
            "colorscale": [
             [
              0,
              "#0d0887"
             ],
             [
              0.1111111111111111,
              "#46039f"
             ],
             [
              0.2222222222222222,
              "#7201a8"
             ],
             [
              0.3333333333333333,
              "#9c179e"
             ],
             [
              0.4444444444444444,
              "#bd3786"
             ],
             [
              0.5555555555555556,
              "#d8576b"
             ],
             [
              0.6666666666666666,
              "#ed7953"
             ],
             [
              0.7777777777777778,
              "#fb9f3a"
             ],
             [
              0.8888888888888888,
              "#fdca26"
             ],
             [
              1,
              "#f0f921"
             ]
            ],
            "type": "surface"
           }
          ],
          "table": [
           {
            "cells": {
             "fill": {
              "color": "#EBF0F8"
             },
             "line": {
              "color": "white"
             }
            },
            "header": {
             "fill": {
              "color": "#C8D4E3"
             },
             "line": {
              "color": "white"
             }
            },
            "type": "table"
           }
          ]
         },
         "layout": {
          "annotationdefaults": {
           "arrowcolor": "#2a3f5f",
           "arrowhead": 0,
           "arrowwidth": 1
          },
          "autotypenumbers": "strict",
          "coloraxis": {
           "colorbar": {
            "outlinewidth": 0,
            "ticks": ""
           }
          },
          "colorscale": {
           "diverging": [
            [
             0,
             "#8e0152"
            ],
            [
             0.1,
             "#c51b7d"
            ],
            [
             0.2,
             "#de77ae"
            ],
            [
             0.3,
             "#f1b6da"
            ],
            [
             0.4,
             "#fde0ef"
            ],
            [
             0.5,
             "#f7f7f7"
            ],
            [
             0.6,
             "#e6f5d0"
            ],
            [
             0.7,
             "#b8e186"
            ],
            [
             0.8,
             "#7fbc41"
            ],
            [
             0.9,
             "#4d9221"
            ],
            [
             1,
             "#276419"
            ]
           ],
           "sequential": [
            [
             0,
             "#0d0887"
            ],
            [
             0.1111111111111111,
             "#46039f"
            ],
            [
             0.2222222222222222,
             "#7201a8"
            ],
            [
             0.3333333333333333,
             "#9c179e"
            ],
            [
             0.4444444444444444,
             "#bd3786"
            ],
            [
             0.5555555555555556,
             "#d8576b"
            ],
            [
             0.6666666666666666,
             "#ed7953"
            ],
            [
             0.7777777777777778,
             "#fb9f3a"
            ],
            [
             0.8888888888888888,
             "#fdca26"
            ],
            [
             1,
             "#f0f921"
            ]
           ],
           "sequentialminus": [
            [
             0,
             "#0d0887"
            ],
            [
             0.1111111111111111,
             "#46039f"
            ],
            [
             0.2222222222222222,
             "#7201a8"
            ],
            [
             0.3333333333333333,
             "#9c179e"
            ],
            [
             0.4444444444444444,
             "#bd3786"
            ],
            [
             0.5555555555555556,
             "#d8576b"
            ],
            [
             0.6666666666666666,
             "#ed7953"
            ],
            [
             0.7777777777777778,
             "#fb9f3a"
            ],
            [
             0.8888888888888888,
             "#fdca26"
            ],
            [
             1,
             "#f0f921"
            ]
           ]
          },
          "colorway": [
           "#636efa",
           "#EF553B",
           "#00cc96",
           "#ab63fa",
           "#FFA15A",
           "#19d3f3",
           "#FF6692",
           "#B6E880",
           "#FF97FF",
           "#FECB52"
          ],
          "font": {
           "color": "#2a3f5f"
          },
          "geo": {
           "bgcolor": "white",
           "lakecolor": "white",
           "landcolor": "#E5ECF6",
           "showlakes": true,
           "showland": true,
           "subunitcolor": "white"
          },
          "hoverlabel": {
           "align": "left"
          },
          "hovermode": "closest",
          "mapbox": {
           "style": "light"
          },
          "paper_bgcolor": "white",
          "plot_bgcolor": "#E5ECF6",
          "polar": {
           "angularaxis": {
            "gridcolor": "white",
            "linecolor": "white",
            "ticks": ""
           },
           "bgcolor": "#E5ECF6",
           "radialaxis": {
            "gridcolor": "white",
            "linecolor": "white",
            "ticks": ""
           }
          },
          "scene": {
           "xaxis": {
            "backgroundcolor": "#E5ECF6",
            "gridcolor": "white",
            "gridwidth": 2,
            "linecolor": "white",
            "showbackground": true,
            "ticks": "",
            "zerolinecolor": "white"
           },
           "yaxis": {
            "backgroundcolor": "#E5ECF6",
            "gridcolor": "white",
            "gridwidth": 2,
            "linecolor": "white",
            "showbackground": true,
            "ticks": "",
            "zerolinecolor": "white"
           },
           "zaxis": {
            "backgroundcolor": "#E5ECF6",
            "gridcolor": "white",
            "gridwidth": 2,
            "linecolor": "white",
            "showbackground": true,
            "ticks": "",
            "zerolinecolor": "white"
           }
          },
          "shapedefaults": {
           "line": {
            "color": "#2a3f5f"
           }
          },
          "ternary": {
           "aaxis": {
            "gridcolor": "white",
            "linecolor": "white",
            "ticks": ""
           },
           "baxis": {
            "gridcolor": "white",
            "linecolor": "white",
            "ticks": ""
           },
           "bgcolor": "#E5ECF6",
           "caxis": {
            "gridcolor": "white",
            "linecolor": "white",
            "ticks": ""
           }
          },
          "title": {
           "x": 0.05
          },
          "xaxis": {
           "automargin": true,
           "gridcolor": "white",
           "linecolor": "white",
           "ticks": "",
           "title": {
            "standoff": 15
           },
           "zerolinecolor": "white",
           "zerolinewidth": 2
          },
          "yaxis": {
           "automargin": true,
           "gridcolor": "white",
           "linecolor": "white",
           "ticks": "",
           "title": {
            "standoff": 15
           },
           "zerolinecolor": "white",
           "zerolinewidth": 2
          }
         }
        },
        "title": {
         "text": "Confusion Matrix for Zone 8"
        },
        "width": 700,
        "xaxis": {
         "anchor": "y",
         "constrain": "domain",
         "domain": [
          0,
          1
         ],
         "scaleanchor": "y",
         "tickmode": "array",
         "ticktext": [
          "Fault free",
          "Open window",
          "Heating shut down",
          "Setpoint 25 degrees"
         ],
         "tickvals": [
          0,
          1,
          2,
          4
         ],
         "title": {
          "text": "Predicted Label"
         }
        },
        "yaxis": {
         "anchor": "x",
         "autorange": "reversed",
         "constrain": "domain",
         "domain": [
          0,
          1
         ],
         "tickmode": "array",
         "ticktext": [
          "Fault free",
          "Open window",
          "Heating shut down",
          "Setpoint 25 degrees"
         ],
         "tickvals": [
          0,
          1,
          2,
          4
         ],
         "title": {
          "text": "Actual Label"
         }
        }
       }
      }
     },
     "metadata": {},
     "output_type": "display_data"
    }
   ],
   "source": [
    "# Define all possible classes\n",
    "all_classes = [0, 1, 2, 4]  \n",
    "\n",
    "# Compute confusion matrix with fixed labels\n",
    "cm = confusion_matrix(test_y, y_pred, labels=all_classes)\n",
    "\n",
    "# Convert to DataFrame\n",
    "df_cm = pd.DataFrame(cm, index=all_classes, columns=all_classes)\n",
    "\n",
    "# Create a copy for coloring — set [0,0] to NaN so it doesn't affect color scale\n",
    "cm_for_plot = df_cm.copy()\n",
    "cm_for_plot.iloc[0, 0] = np.nan  # exclude top-left from color scaling\n",
    "\n",
    "# Create interactive Plotly heatmap\n",
    "fig = px.imshow(\n",
    "    cm_for_plot,\n",
    "    text_auto=True,\n",
    "    color_continuous_scale='Blues',\n",
    "    labels=dict(x=\"Predicted\", y=\"Actual\", color=\"Count\")\n",
    ")\n",
    "\n",
    "# Overlay the real value in top-left as custom annotation\n",
    "fig.add_annotation(\n",
    "    text=str(df_cm.iloc[0, 0]),  # Actual value\n",
    "    x=0, y=0,\n",
    "    showarrow=False,\n",
    "    font=dict(color=\"red\", size=12),\n",
    "    bgcolor=\"white\"\n",
    ")\n",
    "\n",
    "# Customize axis labels\n",
    "fig.update_layout(\n",
    "    title=\"Confusion Matrix for Zone 8\",\n",
    "    xaxis_title=\"Predicted Label\",\n",
    "    yaxis_title=\"Actual Label\",\n",
    "    xaxis=dict(\n",
    "        tickmode='array',\n",
    "        tickvals=[0, 1, 2, 4],\n",
    "        ticktext=[\n",
    "            'Fault free', 'Open window', 'Heating shut down', 'Setpoint 25 degrees'\n",
    "        ]\n",
    "    ),\n",
    "    yaxis=dict(\n",
    "        tickmode='array',\n",
    "        tickvals=[0, 1, 2, 4],\n",
    "        ticktext=[\n",
    "            'Fault free', 'Open window', 'Heating shut down', 'Setpoint 25 degrees'\n",
    "        ]\n",
    "    ),\n",
    "    width=700,\n",
    "    height=500\n",
    ")\n",
    "\n",
    "# Show plot\n",
    "fig.show()"
   ]
  },
  {
   "cell_type": "code",
   "execution_count": 142,
   "metadata": {},
   "outputs": [
    {
     "name": "stdout",
     "output_type": "stream",
     "text": [
      "Accuracy on Train Set: 1.0\n",
      "Train Report:\n",
      "               precision    recall  f1-score   support\n",
      "\n",
      "           0       1.00      1.00      1.00      8421\n",
      "           1       1.00      1.00      1.00        48\n",
      "           2       1.00      1.00      1.00       103\n",
      "           3       1.00      1.00      1.00       188\n",
      "\n",
      "    accuracy                           1.00      8760\n",
      "   macro avg       1.00      1.00      1.00      8760\n",
      "weighted avg       1.00      1.00      1.00      8760\n",
      "\n",
      "\n",
      "Accuracy on Test Set: 0.9549180327868853\n",
      "\n",
      "Classification Report:\n",
      "               precision    recall  f1-score   support\n",
      "\n",
      "           0       0.96      1.00      0.98       465\n",
      "           1       0.67      0.11      0.18        19\n",
      "           3       0.00      0.00      0.00         4\n",
      "\n",
      "    accuracy                           0.95       488\n",
      "   macro avg       0.54      0.37      0.39       488\n",
      "weighted avg       0.94      0.95      0.94       488\n",
      "\n",
      "[0.12158141 0.13850498 0.40426373 0.12625456 0.09520453 0.11419083]\n"
     ]
    }
   ],
   "source": [
    "train_y = np.where(train_y == 4, 3, train_y)\n",
    "test_y = np.where(test_y == 4, 3, test_y)\n",
    "\n",
    "# Initialize the XGBoost Classifier\n",
    "xgb_model = XGBClassifier()\n",
    "\n",
    "# Train the model\n",
    "xgb_model.fit(train_x, train_y)\n",
    "\n",
    "# Make predictions\n",
    "y_pred_train = xgb_model.predict(train_x)\n",
    "y_pred = xgb_model.predict(test_x)\n",
    "\n",
    "# Evaluate the model\n",
    "print(\"Accuracy on Train Set:\", accuracy_score(train_y, y_pred_train))\n",
    "print(\"Train Report:\\n\", classification_report(train_y, y_pred_train))\n",
    "print()\n",
    "print(\"Accuracy on Test Set:\", accuracy_score(test_y, y_pred))\n",
    "print(\"\\nClassification Report:\\n\", classification_report(test_y, y_pred))\n",
    "\n",
    "print(xgb_model.feature_importances_)"
   ]
  }
 ],
 "metadata": {
  "kernelspec": {
   "display_name": "base",
   "language": "python",
   "name": "python3"
  },
  "language_info": {
   "codemirror_mode": {
    "name": "ipython",
    "version": 3
   },
   "file_extension": ".py",
   "mimetype": "text/x-python",
   "name": "python",
   "nbconvert_exporter": "python",
   "pygments_lexer": "ipython3",
   "version": "3.7.6"
  }
 },
 "nbformat": 4,
 "nbformat_minor": 2
}
